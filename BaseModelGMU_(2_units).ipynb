{
  "nbformat": 4,
  "nbformat_minor": 0,
  "metadata": {
    "colab": {
      "name": "BaseModelGMU (2 units).ipynb",
      "provenance": [],
      "collapsed_sections": [],
      "include_colab_link": true
    },
    "kernelspec": {
      "name": "python3",
      "display_name": "Python 3"
    },
    "accelerator": "GPU"
  },
  "cells": [
    {
      "cell_type": "markdown",
      "metadata": {
        "id": "view-in-github",
        "colab_type": "text"
      },
      "source": [
        "<a href=\"https://colab.research.google.com/github/rishi15-t/PP-MM/blob/master/BaseModelGMU_(2_units).ipynb\" target=\"_parent\"><img src=\"https://colab.research.google.com/assets/colab-badge.svg\" alt=\"Open In Colab\"/></a>"
      ]
    },
    {
      "cell_type": "code",
      "metadata": {
        "id": "TZyaSvq7Poeg",
        "colab_type": "code",
        "outputId": "6237cd7d-d838-4e8b-8fd8-99604a8f5f03",
        "colab": {
          "base_uri": "https://localhost:8080/",
          "height": 34
        }
      },
      "source": [
        "from google.colab import drive\n",
        "drive.mount('/content/drive')"
      ],
      "execution_count": 0,
      "outputs": [
        {
          "output_type": "stream",
          "text": [
            "Drive already mounted at /content/drive; to attempt to forcibly remount, call drive.mount(\"/content/drive\", force_remount=True).\n"
          ],
          "name": "stdout"
        }
      ]
    },
    {
      "cell_type": "code",
      "metadata": {
        "id": "daviCRfrPsDK",
        "colab_type": "code",
        "colab": {}
      },
      "source": [
        "import pandas as pd\n",
        "#dataset = pd.read_pickle('/content/drive/My Drive/dataset/dataset_gmu_paper.pkl')"
      ],
      "execution_count": 0,
      "outputs": []
    },
    {
      "cell_type": "code",
      "metadata": {
        "id": "-lq5KYZXPtiv",
        "colab_type": "code",
        "outputId": "055d407a-6b1c-4602-ee43-ad020db6ba9d",
        "colab": {
          "base_uri": "https://localhost:8080/",
          "height": 657
        }
      },
      "source": [
        " from sklearn.preprocessing import MultiLabelBinarizer\n",
        "from sklearn.model_selection import train_test_split\n",
        "import torch\n",
        "import torch.nn as nn\n",
        "from torch.nn import BCEWithLogitsLoss\n",
        "from torch.nn.functional import softplus\n",
        "from torch.utils.data import TensorDataset, DataLoader, RandomSampler, SequentialSampler\n",
        "from torch.nn.utils import clip_grad_norm_\n",
        "from torch.optim import AdamW\n",
        "from torch.optim import Adam\n",
        "from torch.optim.lr_scheduler import StepLR\n",
        "from tqdm import tqdm, trange\n",
        "from sklearn import metrics\n",
        "#!pip install transformers\n",
        "#from transformers import get_linear_schedule_with_warmup\n",
        "import matplotlib.pyplot as plt\n",
        "% matplotlib inline\n",
        "import seaborn as sns\n",
        "import pandas as pd\n",
        "import numpy as np\n",
        "import time\n",
        "import datetime\n",
        "!pip install git+https://github.com/uber/pyro.git\n",
        "import pyro\n",
        "from pyro import poutine\n",
        "from pyro.distributions import Normal, Categorical, Laplace\n",
        "from pyro.infer import SVI, Trace_ELBO, TraceEnum_ELBO\n",
        "from pyro.optim import ClippedAdam\n",
        "\n",
        "\n",
        "'''def Train_Test_Val_Split(data , test_data_fraction = 0.3, val_data_fraction = 0.1) :\n",
        "    \n",
        "    mlb = MultiLabelBinarizer()\n",
        "    data_genres_one_hot_encoding = mlb.fit_transform(data['genres'])\n",
        "    Label_names = mlb.classes_\n",
        "    data_genres_one_hot_encoding = pd.DataFrame(data_genres_one_hot_encoding, columns = mlb.classes_)\n",
        "    Data_train, Data_test, Labels_train, Labels_test = train_test_split(data, data_genres_one_hot_encoding, test_size = test_data_fraction)\n",
        "    Labels_train = torch.tensor(Labels_train.values)\n",
        "    Labels_test = torch.tensor(Labels_test.values)\n",
        "    \n",
        "    Data_train, Data_val, Labels_train, Labels_val = train_test_split(Data_train, Labels_train, test_size = val_data_fraction)\n",
        "\n",
        "    Data_train = Data_train.reset_index(drop=True)\n",
        "    Data_test = Data_test.reset_index(drop=True)\n",
        "    Data_val = Data_val.reset_index(drop=True)\n",
        "    \n",
        "\n",
        "    return (Data_train, Data_test, Data_val, Labels_train, Labels_test, Labels_val, Label_names)\n",
        "    \n",
        "Data_train, Data_test, Data_val, Labels_train_tensor, Labels_test_tensor, Labels_val_tensor, Label_names = Train_Test_Val_Split(dataset)\n",
        "\n",
        "\n",
        "Data_train_tensor_text = torch.tensor(Data_train['w2v_embeddings'])\n",
        "Data_test_tensor_text = torch.tensor(Data_test['w2v_embeddings'])\n",
        "Data_val_tensor_text = torch.tensor(Data_val['w2v_embeddings'])\n",
        "\n",
        "Data_train_tensor_image = torch.tensor(Data_train['vgg16_embeddings'])\n",
        "Data_test_tensor_image = torch.tensor(Data_test['vgg16_embeddings'])\n",
        "Data_val_tensor_image = torch.tensor(Data_val['vgg16_embeddings'])'''"
      ],
      "execution_count": 0,
      "outputs": [
        {
          "output_type": "stream",
          "text": [
            "Collecting git+https://github.com/uber/pyro.git\n",
            "  Cloning https://github.com/uber/pyro.git to /tmp/pip-req-build-zsa66mg6\n",
            "  Running command git clone -q https://github.com/uber/pyro.git /tmp/pip-req-build-zsa66mg6\n",
            "Requirement already satisfied: numpy>=1.7 in /usr/local/lib/python3.6/dist-packages (from pyro-ppl==1.2.1+cb1a6156) (1.17.5)\n",
            "Requirement already satisfied: opt_einsum>=2.3.2 in /usr/local/lib/python3.6/dist-packages (from pyro-ppl==1.2.1+cb1a6156) (3.2.0)\n",
            "Collecting pyro-api>=0.1.1\n",
            "  Downloading https://files.pythonhosted.org/packages/c2/bc/6cdbd1929e32fff62a33592633c2cc0393c7f7739131ccc9c9c4e28ac8dd/pyro_api-0.1.1-py3-none-any.whl\n",
            "Requirement already satisfied: torch>=1.4.0 in /usr/local/lib/python3.6/dist-packages (from pyro-ppl==1.2.1+cb1a6156) (1.4.0)\n",
            "Collecting tqdm>=4.36\n",
            "\u001b[?25l  Downloading https://files.pythonhosted.org/packages/47/55/fd9170ba08a1a64a18a7f8a18f088037316f2a41be04d2fe6ece5a653e8f/tqdm-4.43.0-py2.py3-none-any.whl (59kB)\n",
            "\u001b[K     |████████████████████████████████| 61kB 10.1MB/s \n",
            "\u001b[?25hBuilding wheels for collected packages: pyro-ppl\n",
            "  Building wheel for pyro-ppl (setup.py) ... \u001b[?25l\u001b[?25hdone\n",
            "  Created wheel for pyro-ppl: filename=pyro_ppl-1.2.1+cb1a6156-cp36-none-any.whl size=494221 sha256=aa38704e9cbae45e798ddb1818492c7088d63d8850d91cbb000fa9ef94d1e3fe\n",
            "  Stored in directory: /tmp/pip-ephem-wheel-cache-m1s877b8/wheels/3c/10/ed/73d2332a097e2e9dc7d601ca2a99b0b4f9634e393474b78137\n",
            "Successfully built pyro-ppl\n",
            "\u001b[31mERROR: tensor2tensor 1.14.1 requires bz2file, which is not installed.\u001b[0m\n",
            "\u001b[31mERROR: tensor2tensor 1.14.1 requires gevent, which is not installed.\u001b[0m\n",
            "\u001b[31mERROR: tensor2tensor 1.14.1 requires gunicorn, which is not installed.\u001b[0m\n",
            "\u001b[31mERROR: tensor2tensor 1.14.1 requires kfac, which is not installed.\u001b[0m\n",
            "\u001b[31mERROR: tensor2tensor 1.14.1 requires mesh-tensorflow, which is not installed.\u001b[0m\n",
            "\u001b[31mERROR: tensor2tensor 1.14.1 requires pypng, which is not installed.\u001b[0m\n",
            "\u001b[31mERROR: tensor2tensor 1.14.1 requires tensorflow-datasets, which is not installed.\u001b[0m\n",
            "\u001b[31mERROR: tensor2tensor 1.14.1 requires tensorflow-gan, which is not installed.\u001b[0m\n",
            "Installing collected packages: pyro-api, tqdm, pyro-ppl\n",
            "  Found existing installation: tqdm 4.28.1\n",
            "    Uninstalling tqdm-4.28.1:\n",
            "      Successfully uninstalled tqdm-4.28.1\n",
            "Successfully installed pyro-api-0.1.1 pyro-ppl-1.2.1+cb1a6156 tqdm-4.43.0\n"
          ],
          "name": "stdout"
        },
        {
          "output_type": "display_data",
          "data": {
            "application/vnd.colab-display-data+json": {
              "pip_warning": {
                "packages": [
                  "tqdm"
                ]
              }
            }
          },
          "metadata": {
            "tags": []
          }
        },
        {
          "output_type": "execute_result",
          "data": {
            "text/plain": [
              "\"def Train_Test_Val_Split(data , test_data_fraction = 0.3, val_data_fraction = 0.1) :\\n   \\n   mlb = MultiLabelBinarizer()\\n   data_genres_one_hot_encoding = mlb.fit_transform(data['genres'])\\n   Label_names = mlb.classes_\\n   data_genres_one_hot_encoding = pd.DataFrame(data_genres_one_hot_encoding, columns = mlb.classes_)\\n   Data_train, Data_test, Labels_train, Labels_test = train_test_split(data, data_genres_one_hot_encoding, test_size = test_data_fraction)\\n   Labels_train = torch.tensor(Labels_train.values)\\n   Labels_test = torch.tensor(Labels_test.values)\\n   \\n   Data_train, Data_val, Labels_train, Labels_val = train_test_split(Data_train, Labels_train, test_size = val_data_fraction)\\n\\n   Data_train = Data_train.reset_index(drop=True)\\n   Data_test = Data_test.reset_index(drop=True)\\n   Data_val = Data_val.reset_index(drop=True)\\n   \\n\\n   return (Data_train, Data_test, Data_val, Labels_train, Labels_test, Labels_val, Label_names)\\n   \\nData_train, Data_test, Data_val, Labels_train_tensor, Labels_test_tensor, Labels_val_tensor, Label_names = Train_Test_Val_Split(dataset)\\n\\n\\nData_train_tensor_text = torch.tensor(Data_train['w2v_embeddings'])\\nData_test_tensor_text = torch.tensor(Data_test['w2v_embeddings'])\\nData_val_tensor_text = torch.tensor(Data_val['w2v_embeddings'])\\n\\nData_train_tensor_image = torch.tensor(Data_train['vgg16_embeddings'])\\nData_test_tensor_image = torch.tensor(Data_test['vgg16_embeddings'])\\nData_val_tensor_image = torch.tensor(Data_val['vgg16_embeddings'])\""
            ]
          },
          "metadata": {
            "tags": []
          },
          "execution_count": 6
        }
      ]
    },
    {
      "cell_type": "code",
      "metadata": {
        "id": "spp4O_HQsWmQ",
        "colab_type": "code",
        "outputId": "015eb26a-01f4-4796-b139-b78565c6fc32",
        "colab": {
          "base_uri": "https://localhost:8080/",
          "height": 54
        }
      },
      "source": [
        "'''torch.save(Data_train_tensor_text, \"/content/drive/My Drive/dataset/Data_train_tensor_text.pt\")\n",
        "torch.save(Data_test_tensor_text, \"/content/drive/My Drive/dataset/Data_test_tensor_text.pt\")\n",
        "torch.save(Data_val_tensor_text, \"/content/drive/My Drive/dataset/Data_val_tensor_text.pt\")\n",
        "torch.save(Data_train_tensor_image, \"/content/drive/My Drive/dataset/Data_train_tensor_image.pt\")\n",
        "torch.save(Data_test_tensor_image, \"/content/drive/My Drive/dataset/Data_test_tensor_image.pt\")\n",
        "torch.save(Data_val_tensor_image, \"/content/drive/My Drive/dataset/Data_val_tensor_image.pt\")\n",
        "torch.save(Labels_train_tensor, \"/content/drive/My Drive/dataset/Labels_train_tensor.pt\")\n",
        "torch.save(Labels_test_tensor, \"/content/drive/My Drive/dataset/Labels_test_tensor.pt\")\n",
        "torch.save(Labels_val_tensor, \"/content/drive/My Drive/dataset/Labels_val_tensor.pt\")'''"
      ],
      "execution_count": 0,
      "outputs": [
        {
          "output_type": "execute_result",
          "data": {
            "text/plain": [
              "'torch.save(Data_train_tensor_text, \"/content/drive/My Drive/dataset/Data_train_tensor_text.pt\")\\ntorch.save(Data_test_tensor_text, \"/content/drive/My Drive/dataset/Data_test_tensor_text.pt\")\\ntorch.save(Data_val_tensor_text, \"/content/drive/My Drive/dataset/Data_val_tensor_text.pt\")\\ntorch.save(Data_train_tensor_image, \"/content/drive/My Drive/dataset/Data_train_tensor_image.pt\")\\ntorch.save(Data_test_tensor_image, \"/content/drive/My Drive/dataset/Data_test_tensor_image.pt\")\\ntorch.save(Data_val_tensor_image, \"/content/drive/My Drive/dataset/Data_val_tensor_image.pt\")\\ntorch.save(Labels_train_tensor, \"/content/drive/My Drive/dataset/Labels_train_tensor.pt\")\\ntorch.save(Labels_test_tensor, \"/content/drive/My Drive/dataset/Labels_test_tensor.pt\")\\ntorch.save(Labels_val_tensor, \"/content/drive/My Drive/dataset/Labels_val_tensor.pt\")'"
            ]
          },
          "metadata": {
            "tags": []
          },
          "execution_count": 7
        }
      ]
    },
    {
      "cell_type": "code",
      "metadata": {
        "id": "UDM2MtTb9wHa",
        "colab_type": "code",
        "colab": {}
      },
      "source": [
        "Data_train_tensor_text = torch.load(\"/content/drive/My Drive/dataset/Data_train_tensor_text.pt\")\n",
        "Data_test_tensor_text = torch.load( \"/content/drive/My Drive/dataset/Data_test_tensor_text.pt\")\n",
        "Data_val_tensor_text = torch.load( \"/content/drive/My Drive/dataset/Data_val_tensor_text.pt\")\n",
        "Data_train_tensor_image = torch.load( \"/content/drive/My Drive/dataset/Data_train_tensor_image.pt\")\n",
        "Data_test_tensor_image = torch.load( \"/content/drive/My Drive/dataset/Data_test_tensor_image.pt\")\n",
        "Data_val_tensor_image = torch.load( \"/content/drive/My Drive/dataset/Data_val_tensor_image.pt\")\n",
        "Labels_train_tensor = torch.load(\"/content/drive/My Drive/dataset/Labels_train_tensor.pt\")\n",
        "Labels_test_tensor = torch.load(\"/content/drive/My Drive/dataset/Labels_test_tensor.pt\")\n",
        "Labels_val_tensor = torch.load(\"/content/drive/My Drive/dataset/Labels_val_tensor.pt\")\n",
        "\n",
        "Label_names = np.array(['Action', 'Adventure', 'Animation', 'Biography', 'Comedy', 'Crime',\n",
        "       'Documentary', 'Drama', 'Family', 'Fantasy', 'Film-Noir',\n",
        "       'History', 'Horror', 'Music', 'Musical', 'Mystery', 'Romance',\n",
        "       'Sci-Fi', 'Short', 'Sport', 'Thriller', 'War', 'Western'],\n",
        "      dtype=object)"
      ],
      "execution_count": 0,
      "outputs": []
    },
    {
      "cell_type": "code",
      "metadata": {
        "colab_type": "code",
        "id": "RkyiWE8ubtOi",
        "colab": {}
      },
      "source": [
        "#Neural networks\n",
        "\n",
        "\n",
        "#source: https://github.com/Duncanswilson/maxout-pytorch/blob/master/maxout_pytorch.ipynb\n",
        "class ListModule(object):\n",
        "    def __init__(self, module, prefix, *args):\n",
        "        self.module = module\n",
        "        self.prefix = prefix\n",
        "        self.num_module = 0\n",
        "        for new_module in args:\n",
        "            self.append(new_module)\n",
        "\n",
        "    def append(self, new_module):\n",
        "        if not isinstance(new_module, nn.Module):\n",
        "            raise ValueError('Not a Module')\n",
        "        else:\n",
        "            self.module.add_module(self.prefix + str(self.num_module), new_module)\n",
        "            self.num_module += 1\n",
        "\n",
        "    def __len__(self):\n",
        "        return self.num_module\n",
        "\n",
        "    def __getitem__(self, i):\n",
        "        if i < 0 or i >= self.num_module:\n",
        "            raise IndexError('Out of bound')\n",
        "        return getattr(self.module, self.prefix + str(i))\n",
        "\n",
        "\n",
        "class Maxout_MLP(nn.Module):\n",
        "    \n",
        "    def __init__(self, hidden_layer_size1, hidden_layer_size2, dropout, num_labels = 23, num_maxout_units=2):\n",
        "        \n",
        "        super(Maxout_MLP, self).__init__()\n",
        "        self.fc1_list = ListModule(self, \"fc1_\")\n",
        "        self.fc2_list = ListModule(self, \"fc2_\")\n",
        "        self.hidden_layer_size1 = hidden_layer_size1\n",
        "        self.hidden_layer_size2 = hidden_layer_size2\n",
        "        for _ in range(num_maxout_units):\n",
        "            self.fc1_list.append(nn.Linear(self.hidden_layer_size1, self.hidden_layer_size2))\n",
        "            self.fc2_list.append(nn.Linear(self.hidden_layer_size2, self.hidden_layer_size2))\n",
        "        self.dropout = nn.Dropout(p=dropout)\n",
        "        self.sigmoid = torch.nn.Sigmoid()\n",
        "        self.linear = torch.nn.Linear(self.hidden_layer_size2, num_labels)  #PP_MM_pattern 4\n",
        "\n",
        "        self.bn0 = nn.BatchNorm1d(self.hidden_layer_size1)\n",
        "        self.bn1 = nn.BatchNorm1d(self.hidden_layer_size2)\n",
        "        self.bn2 = nn.BatchNorm1d(self.hidden_layer_size2)\n",
        "\n",
        "    def forward(self, x): \n",
        "        \n",
        "        x = x.view(-1, self.hidden_layer_size1)\n",
        "        x = self.bn0(x)\n",
        "        x = self.maxout(x, self.fc1_list)\n",
        "        x = self.bn1(x)\n",
        "        x = self.dropout(x)\n",
        "        x = self.maxout(x, self.fc2_list)\n",
        "        x = self.bn2(x)\n",
        "        '''\n",
        "        PP_MM_pattern 4\n",
        "        '''\n",
        "        logits = self.linear(x)  \n",
        "        if(self.training) :     \n",
        "            return logits\n",
        "        else :\n",
        "            output = self.sigmoid(logits)\n",
        "            return output\n",
        "\n",
        "    def maxout(self, x, layer_list):\n",
        "        \n",
        "        max_output = layer_list[0](x)\n",
        "        for _, layer in enumerate(layer_list, start=1):\n",
        "            max_output = torch.max(max_output, layer(x))\n",
        "        return max_output\n",
        "\n",
        "\n",
        "class GMU(nn.Module):\n",
        "\n",
        "    def __init__(self, num_maxout_units = 2, hidden_layer_size = 512, text_embeddings_size = 300, img_embeddings_size = 4096, num_labels = 23, hidden_activation = None, dropout = 0.1):\n",
        "\n",
        "        super(GMU, self).__init__()\n",
        "        self.num_labels = num_labels\n",
        "        self.hidden_layer_size = hidden_layer_size\n",
        "\n",
        "        self.linear_h_text = torch.nn.Linear(text_embeddings_size, self.hidden_layer_size)\n",
        "        self.linear_h_image = torch.nn.Linear(img_embeddings_size, self.hidden_layer_size)\n",
        "        self.linear_z = torch.nn.Linear(text_embeddings_size + img_embeddings_size, self.hidden_layer_size)\n",
        "\n",
        "        self.mm0 = nn.Linear(self.hidden_layer_size, self.hidden_layer_size) #PP_MM_pattern 4\n",
        "        self.mm1 = nn.Linear(self.hidden_layer_size, self.hidden_layer_size) #PP_MM_pattern 4\n",
        "\n",
        "        \n",
        "        self.tanh = torch.nn.Tanh()\n",
        "        self.sigmoid = torch.nn.Sigmoid()\n",
        "        self.dropout = nn.Dropout(p=dropout)\n",
        "\n",
        "        self.bn0 = nn.BatchNorm1d(img_embeddings_size)\n",
        "        self.bn1 = nn.BatchNorm1d(text_embeddings_size)\n",
        "        self.bn2 = nn.BatchNorm1d(text_embeddings_size + img_embeddings_size)\n",
        "\n",
        "    def forward(self, text_embeddings, image_embeddings):\n",
        "        \n",
        "        image_embeddings = self.bn0(image_embeddings)\n",
        "        image_h = self.linear_h_image(image_embeddings)\n",
        "        image_h = self.tanh(image_h)\n",
        "\n",
        "        text_embeddings = self.bn1(text_embeddings)\n",
        "        text_h = self.linear_h_text(text_embeddings)\n",
        "        text_h = self.tanh(text_h)\n",
        "\n",
        "        concat = torch.cat((image_embeddings, text_embeddings), 1)\n",
        "        concat = self.bn2(concat)\n",
        "        z = self.linear_z(concat)\n",
        "        z = self.sigmoid(z)\n",
        "        gmu_output = z*image_h + (1-z)*text_h\n",
        "        \n",
        "        #gmu_output = self.mm0(gmu_output)  \n",
        "        #gmu_output = self.tanh(gmu_output)  \n",
        "        #gmu_output = self.mm1(gmu_output)  \n",
        "        attendout = self.tanh(gmu_output)  \n",
        "\n",
        "        return attendout  \n",
        "\n",
        "\n",
        " "
      ],
      "execution_count": 0,
      "outputs": []
    },
    {
      "cell_type": "code",
      "metadata": {
        "colab_type": "code",
        "id": "0iH-V5IFiBif",
        "colab": {}
      },
      "source": [
        "import torch\n",
        "from torch.nn import BCEWithLogitsLoss\n",
        "from torch.utils.data import TensorDataset, DataLoader, RandomSampler, SequentialSampler\n",
        "from torch.nn.utils import clip_grad_norm_\n",
        "from torch.optim import AdamW\n",
        "from torch.optim import Adam\n",
        "from torch.optim.lr_scheduler import StepLR\n",
        "from tqdm import tqdm, trange\n",
        "from sklearn import metrics\n",
        "#!pip install transformers\n",
        "#from transformers import get_linear_schedule_with_warmup\n",
        "import matplotlib.pyplot as plt\n",
        "% matplotlib inline\n",
        "import seaborn as sns\n",
        "import pandas as pd\n",
        "import numpy as np\n",
        "import time\n",
        "import datetime\n",
        "\n",
        "\n",
        "class Training_Testing_MM():\n",
        "\n",
        "    def __init__(self, Data_train_tensor_text, Data_train_tensor_image, Labels_train_tensor, \n",
        "                 Data_test_tensor_text, Data_test_tensor_image, Labels_test_tensor, \n",
        "                 Data_val_tensor_text, Data_val_tensor_image, Labels_val_tensor,\n",
        "                 Label_names = None, hidden_layer_size = 512, num_maxout_units = 2, weight_decay= 0.1, scheduler_step_size = 30, scheduler_lr_fraction = 0.8,\n",
        "                 hidden_activation = \"tanh\", batch_size = 32, epochs = 10, sigmoid_thresh = 0.2, learning_rate = 2e-5, num_labels = 23, dropout = 0.1, max_norm = 5, weight_decay2= 0.1):\n",
        "\n",
        "\n",
        "      #self.model = GMU(num_maxout_units = num_maxout_units, hidden_layer_size = hidden_layer_size, hidden_activation = hidden_activation, dropout = dropout).cuda()\n",
        "      \n",
        "      self.gmu = GMU(num_maxout_units = num_maxout_units, hidden_layer_size = hidden_layer_size, hidden_activation = hidden_activation, dropout = dropout).cuda()\n",
        "      self.mlp = Maxout_MLP(hidden_layer_size, hidden_layer_size, dropout = dropout, num_labels = num_labels, num_maxout_units = num_maxout_units).cuda()\n",
        "      self.optimizer2 = AdamW(self.mlp.parameters(), lr=learning_rate,  eps = 1e-6, weight_decay=weight_decay2)\n",
        "\n",
        "\n",
        "      self.label_names = Label_names\n",
        "      self.num_labels = num_labels\n",
        "      self.batch_size = batch_size\n",
        "      self.learning_rate = learning_rate\n",
        "      self.max_norm = max_norm\n",
        "      self.epochs = epochs\n",
        "      self.sigmoid_thresh = sigmoid_thresh\n",
        "      self.scheduler_step_size = scheduler_step_size\n",
        "      self.scheduler_lr_fraction = scheduler_lr_fraction\n",
        "      self.weight_decay = weight_decay\n",
        "      self.optimizer = self.SetOptimizer()\n",
        "      self.device = torch.device(\"cuda\" if torch.cuda.is_available() else \"cpu\")\n",
        "      self.results = pd.DataFrame(0, index=['Recall','Precision','F_Score'], columns=['micro', 'macro', 'weighted', 'samples']).astype(float)\n",
        "      self.epoch_loss_set = []\n",
        "      self.train_dataloader = self.SetTrainDataloader_MM(Data_train_tensor_text, Data_train_tensor_image, Labels_train_tensor)\n",
        "      self.test_dataloader = self.SetTestDataloader_MM(Data_test_tensor_text, Data_test_tensor_image, Labels_test_tensor) \n",
        "      self.scheduler = self.SetScheduler()\n",
        "\n",
        "      self.val_accuracy_set = [] \n",
        "      self.val_dataloader = self.SetValDataloader_MM(Data_val_tensor_text, Data_val_tensor_image, Labels_val_tensor)\n",
        "      self.class_wise_metrics = None\n",
        "      self.predictions = None\n",
        "\n",
        "      \n",
        "\n",
        "    def SetOptimizer(self) :\n",
        "\n",
        "      #optimizer = AdamW(self.model.parameters(), lr=self.learning_rate,  eps = 1e-6, weight_decay=self.weight_decay)\n",
        "      optimizer = AdamW(self.gmu.parameters(), lr=self.learning_rate,  eps = 1e-6, weight_decay=self.weight_decay)\n",
        "      \n",
        "      return(optimizer)\n",
        "\n",
        "    \n",
        "\n",
        "    def SetScheduler(self) :\n",
        "\n",
        "      '''\n",
        "      scheduler = get_linear_schedule_with_warmup(self.optimizer, num_warmup_steps = 10, \n",
        "                                                 num_training_steps = self.epochs*len(self.train_dataloader))\n",
        "      '''\n",
        "      scheduler = StepLR(self.optimizer, step_size = self.scheduler_step_size, gamma = self.scheduler_lr_fraction)\n",
        "      return(scheduler) \n",
        "\n",
        "\n",
        "\n",
        "    def Get_Metrics(self, actual, predicted) :\n",
        "\n",
        "      #acc = metrics.accuracy_score(actual, predicted)\n",
        "      #hamming = metrics.hamming_loss(actual, predicted)\n",
        "      #(metrics.roc_auc_score(actual, predicted, average=average)\n",
        "      averages = ('micro', 'macro', 'weighted', 'samples')\n",
        "      for average in averages:\n",
        "          precision, recall, fscore, _ = metrics.precision_recall_fscore_support(actual, predicted, average=average)\n",
        "          self.results[average]['Recall'] += recall\n",
        "          self.results[average]['Precision'] += precision\n",
        "          self.results[average]['F_Score'] += fscore\n",
        "\n",
        "\n",
        "\n",
        "    #source: https://mccormickml.com/2019/07/22/BERT-fine-tuning/\n",
        "    def Plot_Training_Epoch_Loss(self) :\n",
        "\n",
        "      sns.set(style='darkgrid')\n",
        "      sns.set(font_scale=1.5)\n",
        "      plt.rcParams[\"figure.figsize\"] = (12,6)\n",
        "      plt.plot(self.epoch_loss_set, 'b-o')\n",
        "      plt.title(\"Training loss\")\n",
        "      plt.xlabel(\"Epoch\")\n",
        "      plt.ylabel(\"Loss\")\n",
        "      plt.savefig('Training_Epoch_Loss.png',bbox_inches='tight')\n",
        "      plt.show()\n",
        "\n",
        "    \n",
        "    def Plot_Training_Epoch_Accuracy(self) :\n",
        "\n",
        "      sns.set(style='darkgrid')\n",
        "      sns.set(font_scale=1.5)\n",
        "      plt.rcParams[\"figure.figsize\"] = (12,6)\n",
        "      plt.plot(self.val_accuracy_set, 'b-o')\n",
        "      plt.title(\"Weighted F1 Score\")\n",
        "      plt.xlabel(\"Epoch\")\n",
        "      plt.ylabel(\"Validation Accuracy\")\n",
        "      plt.savefig('Training_Validation_Accuracy.png',bbox_inches='tight')\n",
        "      plt.show()\n",
        "\n",
        "\n",
        "    #source: https://mccormickml.com/2019/07/22/BERT-fine-tuning/\n",
        "    def format_time(self, elapsed):\n",
        "      '''\n",
        "      Takes a time in seconds and returns a string hh:mm:ss\n",
        "      '''\n",
        "      # Round to the nearest second.\n",
        "      elapsed_rounded = int(round((elapsed)))\n",
        "      return str(datetime.timedelta(seconds=elapsed_rounded))\n",
        "\n",
        "\n",
        "    def SetTrainDataloader_MM(self, Data_train_tensor_text, Data_train_tensor_image, Labels_train_tensor) :\n",
        "\n",
        "      train_dataset = TensorDataset(Data_train_tensor_text, Data_train_tensor_image, Labels_train_tensor)\n",
        "      train_sampler = RandomSampler(train_dataset)\n",
        "      train_dataloader = DataLoader(train_dataset, sampler=train_sampler, batch_size = self.batch_size)\n",
        "      return(train_dataloader)\n",
        "\n",
        "\n",
        "    def SetTestDataloader_MM(self, Data_test_tensor_text, Data_test_tensor_image, Labels_test_tensor) :\n",
        "      \n",
        "      test_dataset = TensorDataset(Data_test_tensor_text, Data_test_tensor_image, Labels_test_tensor)\n",
        "      test_sampler = SequentialSampler(test_dataset)\n",
        "      #test_dataloader = DataLoader(test_dataset, sampler=test_sampler, batch_size = self.batch_size)\n",
        "      test_dataloader = DataLoader(test_dataset, sampler=test_sampler, batch_size = Data_test_tensor_text.shape[0])\n",
        "      return(test_dataloader)\n",
        "\n",
        "    \n",
        "    def SetValDataloader_MM(self, Data_val_tensor_text, Data_val_tensor_image, Labels_val_tensor) :\n",
        "      \n",
        "      val_dataset = TensorDataset(Data_val_tensor_text, Data_val_tensor_image, Labels_val_tensor)\n",
        "      val_sampler = SequentialSampler(val_dataset)\n",
        "      #test_dataloader = DataLoader(test_dataset, sampler=test_sampler, batch_size = self.batch_size)\n",
        "      val_dataloader = DataLoader(val_dataset, sampler=val_sampler, batch_size = Data_val_tensor_text.shape[0])\n",
        "      return(val_dataloader)\n",
        "\n",
        "   \n",
        "    def Train(self) :\n",
        "\n",
        "      for _ in trange(self.epochs, desc=\"Epoch\"):\n",
        "        \n",
        "        #self.model.train()\n",
        "        self.mlp.train()\n",
        "        self.gmu.train()\n",
        "        epoch_loss = 0\n",
        "\n",
        "        # Measure how long the training epoch takes.\n",
        "        t0 = time.time()\n",
        "    \n",
        "        for step_num, batch_data in enumerate(self.train_dataloader):\n",
        "\n",
        "          # Progress update every 30 batches.\n",
        "          if step_num % 30 == 0 and not step_num == 0:\n",
        "            elapsed = self.format_time(time.time() - t0)\n",
        "            print('  Batch : ',step_num, ' , Time elapsed : ',elapsed)\n",
        "\n",
        "          samples_text, samples_image, labels = tuple(t.to(self.device) for t in batch_data)\n",
        "          self.optimizer.zero_grad()\n",
        "          self.optimizer2.zero_grad()\n",
        "          attendout = self.gmu(samples_text, samples_image)\n",
        "          logits = self.mlp(attendout)\n",
        "          #logits = self.model(samples_image.float(), samples_text.float())\n",
        "          loss_fct = BCEWithLogitsLoss()\n",
        "          batch_loss = loss_fct(logits.view(-1, self.num_labels).float(), labels.view(-1, self.num_labels).float())\n",
        "          batch_loss.backward()\n",
        "          #clip_grad_norm_(self.model.parameters(), norm_type = 2, max_norm = self.max_norm)\n",
        "          clip_grad_norm_(self.gmu.parameters(), norm_type = 2, max_norm = self.max_norm)\n",
        "          clip_grad_norm_(self.mlp.parameters(), norm_type = 2, max_norm = self.max_norm)\n",
        "          self.optimizer.step()\n",
        "          self.optimizer2.step()\n",
        "          self.scheduler.step()\n",
        "          epoch_loss += batch_loss.item()\n",
        "\n",
        "        avg_epoch_loss = epoch_loss/len(self.train_dataloader)\n",
        "        print(\"\\nTrain loss for epoch: \",avg_epoch_loss)\n",
        "        print(\"\\nTraining epoch took: {:}\".format(self.format_time(time.time() - t0)))\n",
        "        self.epoch_loss_set.append(avg_epoch_loss)\n",
        "\n",
        "        #Validation on the epoch\n",
        "        #self.model.eval()\n",
        "        self.mlp.eval()\n",
        "        self.gmu.eval()\n",
        "        epoch_f1_score = 0\n",
        "\n",
        "        for batch_data in self.val_dataloader:\n",
        "          samples_text, samples_image, labels = tuple(t.to(self.device) for t in batch_data)\n",
        "          with torch.no_grad():\n",
        "            #output = self.model(samples_image.float(), samples_text.float())\n",
        "            attendout = self.gmu(samples_text.float(), samples_image.float())\n",
        "            output = self.mlp(attendout)\n",
        "\n",
        "          threshold = torch.Tensor([self.sigmoid_thresh]).to(self.device)\n",
        "          predictions = (output > threshold).int()\n",
        "\n",
        "          predictions = predictions.detach().cpu().numpy()\n",
        "          labels = labels.to('cpu').numpy()\n",
        "      \n",
        "          weighted_f_score = metrics.f1_score(labels,predictions,average=\"weighted\")\n",
        "          epoch_f1_score += weighted_f_score\n",
        "\n",
        "        avg_val_f1_score = epoch_f1_score/len(self.val_dataloader)\n",
        "        print(\"\\nWeighted F1 score for epoch: \",avg_val_f1_score,\"\\n\")\n",
        "        self.val_accuracy_set.append(avg_val_f1_score)\n",
        "\n",
        "      #torch.save(self.model.state_dict(), \"/content/drive/My Drive/dataset/model.pt\")\n",
        "      self.Plot_Training_Epoch_Loss()\n",
        "      self.Plot_Training_Epoch_Accuracy()\n",
        "   \n",
        "\n",
        "    def Test(self) :\n",
        "\n",
        "      # Put model in evaluation mode to evaluate loss on the test set\n",
        "      #self.model.eval()\n",
        "      self.mlp.eval()\n",
        "      self.gmu.eval()\n",
        "\n",
        "      for batch_data in self.test_dataloader:\n",
        "  \n",
        "        samples_text, samples_image, labels = tuple(t.to(self.device) for t in batch_data)\n",
        "      \n",
        "        # Telling the model not to compute or store gradients, saving memory and speeding up validation\n",
        "        # Forward pass, calculate logit predictions\n",
        "        with torch.no_grad():\n",
        "          #output = self.model(samples_image.float(), samples_text.float())\n",
        "          attendout = self.gmu(samples_text.float(), samples_image.float())\n",
        "          output = self.mlp(attendout)\n",
        "        threshold = torch.Tensor([self.sigmoid_thresh]).to(self.device)\n",
        "        predictions = (output > threshold).int()\n",
        "\n",
        "        # Move preds and labels to CPU\n",
        "        predictions = predictions.detach().cpu().numpy()\n",
        "        labels = labels.to('cpu').numpy()\n",
        "\n",
        "        self.predictions = predictions\n",
        "        self.Get_Metrics(labels, predictions)\n",
        "        self.class_wise_metrics = metrics.classification_report(labels, predictions, target_names= list(self.label_names))\n",
        "        \n",
        "    \n",
        "      self.results = self.results/len(self.test_dataloader)\n",
        "      #print(\"Test data metrics : \\n\")\n",
        "\n",
        "      #print(\"\\nGenres with no predicted samples : \", self.label_names[np.where(np.sum(predictions, axis=0) == 0)[0]])\n",
        "      \n",
        "      return(self.results)"
      ],
      "execution_count": 0,
      "outputs": []
    },
    {
      "cell_type": "code",
      "metadata": {
        "id": "4e1J4EORP1hv",
        "colab_type": "code",
        "outputId": "d4b9ae21-d5fc-421c-c22f-ffcade25546a",
        "colab": {
          "base_uri": "https://localhost:8080/",
          "height": 1000
        }
      },
      "source": [
        "import random\n",
        "import numpy as np\n",
        "\n",
        "'''\n",
        "hidden_layer_size = random.choice([128,256,512,1024])\n",
        "batch_size = random.choice([128,256,512])\n",
        "learning_rate = np.random.uniform(0.01, 0.0001)\n",
        "dropout = np.random.uniform(0.5, 0.8)\n",
        "sigmoid_thresh = np.random.uniform(0.3, 0.6)\n",
        "weight_decay = np.random.uniform(0.1, 0.01)\n",
        "num_maxout_units = np.random.randint(2,10)\n",
        "max_norm = np.random.randint(5,20)\n",
        "'''\n",
        "epochs = 25\n",
        "hidden_layer_size = 1024\n",
        "batch_size = 512\n",
        "learning_rate = 0.001\n",
        "dropout = 0.7\n",
        "sigmoid_thresh = 0.22\n",
        "weight_decay = 0.01\n",
        "num_maxout_units = 10\n",
        "max_norm = 10\n",
        "weight_decay2 = 0.1\n",
        "\n",
        "hyperparameters = {'hidden_layer_size' : hidden_layer_size, 'epochs' : epochs, 'batch_size' : batch_size, 'learning_rate' : learning_rate, 'dropout' : dropout, 'scheduler_step_size' : 99999, \n",
        "                    'scheduler_lr_fraction' : 0.85, 'sigmoid_thresh' : sigmoid_thresh, 'num_maxout_units' : num_maxout_units, 'weight_decay' : weight_decay, 'max_norm' : max_norm}\n",
        "for key, value in hyperparameters.items():\n",
        "  print(key,\" : \",value)\n",
        "\n",
        "\n",
        "train_test = Training_Testing_MM( Data_train_tensor_text, Data_train_tensor_image, Labels_train_tensor, \n",
        "                                  Data_test_tensor_text, Data_test_tensor_image, Labels_test_tensor, \n",
        "                                  Data_val_tensor_text, Data_val_tensor_image, Labels_val_tensor, Label_names=Label_names, \n",
        "                                  hidden_layer_size = hidden_layer_size, epochs = epochs, batch_size= batch_size, learning_rate = learning_rate, dropout = dropout, scheduler_step_size = 99999, \n",
        "                                  scheduler_lr_fraction = 0.85, sigmoid_thresh = sigmoid_thresh, num_maxout_units = num_maxout_units, weight_decay = weight_decay, max_norm = max_norm, weight_decay2 = weight_decay2)\n",
        "train_test.Train()\n",
        "train_test.Test()\n",
        "\n"
      ],
      "execution_count": 0,
      "outputs": [
        {
          "output_type": "stream",
          "text": [
            "hidden_layer_size  :  1024\n",
            "epochs  :  25\n",
            "batch_size  :  512\n",
            "learning_rate  :  0.001\n",
            "dropout  :  0.7\n",
            "scheduler_step_size  :  99999\n",
            "scheduler_lr_fraction  :  0.85\n",
            "sigmoid_thresh  :  0.22\n",
            "num_maxout_units  :  10\n",
            "weight_decay  :  0.01\n",
            "max_norm  :  10\n"
          ],
          "name": "stdout"
        },
        {
          "output_type": "stream",
          "text": [
            "\rEpoch:   0%|          | 0/25 [00:00<?, ?it/s]"
          ],
          "name": "stderr"
        },
        {
          "output_type": "stream",
          "text": [
            "  Batch :  30  , Time elapsed :  0:00:02\n",
            "\n",
            "Train loss for epoch:  0.6443382017314434\n",
            "\n",
            "Training epoch took: 0:00:02\n"
          ],
          "name": "stdout"
        },
        {
          "output_type": "stream",
          "text": [
            "\rEpoch:   4%|▍         | 1/25 [00:02<01:00,  2.51s/it]"
          ],
          "name": "stderr"
        },
        {
          "output_type": "stream",
          "text": [
            "\n",
            "Weighted F1 score for epoch:  0.36543189550723115 \n",
            "\n",
            "  Batch :  30  , Time elapsed :  0:00:02\n",
            "\n",
            "Train loss for epoch:  0.37379250302910805\n",
            "\n",
            "Training epoch took: 0:00:02\n"
          ],
          "name": "stdout"
        },
        {
          "output_type": "stream",
          "text": [
            "\rEpoch:   8%|▊         | 2/25 [00:04<00:57,  2.49s/it]"
          ],
          "name": "stderr"
        },
        {
          "output_type": "stream",
          "text": [
            "\n",
            "Weighted F1 score for epoch:  0.5104876149058234 \n",
            "\n",
            "  Batch :  30  , Time elapsed :  0:00:02\n",
            "\n",
            "Train loss for epoch:  0.22158625721931458\n",
            "\n",
            "Training epoch took: 0:00:02\n"
          ],
          "name": "stdout"
        },
        {
          "output_type": "stream",
          "text": [
            "\rEpoch:  12%|█▏        | 3/25 [00:07<00:54,  2.47s/it]"
          ],
          "name": "stderr"
        },
        {
          "output_type": "stream",
          "text": [
            "\n",
            "Weighted F1 score for epoch:  0.570739122956616 \n",
            "\n",
            "  Batch :  30  , Time elapsed :  0:00:02\n",
            "\n",
            "Train loss for epoch:  0.18676053918898106\n",
            "\n",
            "Training epoch took: 0:00:02\n"
          ],
          "name": "stdout"
        },
        {
          "output_type": "stream",
          "text": [
            "\rEpoch:  16%|█▌        | 4/25 [00:09<00:51,  2.46s/it]"
          ],
          "name": "stderr"
        },
        {
          "output_type": "stream",
          "text": [
            "\n",
            "Weighted F1 score for epoch:  0.5853288927557789 \n",
            "\n",
            "  Batch :  30  , Time elapsed :  0:00:02\n",
            "\n",
            "Train loss for epoch:  0.1573851234279573\n",
            "\n",
            "Training epoch took: 0:00:02\n"
          ],
          "name": "stdout"
        },
        {
          "output_type": "stream",
          "text": [
            "\rEpoch:  20%|██        | 5/25 [00:12<00:49,  2.47s/it]"
          ],
          "name": "stderr"
        },
        {
          "output_type": "stream",
          "text": [
            "\n",
            "Weighted F1 score for epoch:  0.5930895468933689 \n",
            "\n",
            "  Batch :  30  , Time elapsed :  0:00:02\n",
            "\n",
            "Train loss for epoch:  0.13236044743098319\n",
            "\n",
            "Training epoch took: 0:00:02\n"
          ],
          "name": "stdout"
        },
        {
          "output_type": "stream",
          "text": [
            "\rEpoch:  24%|██▍       | 6/25 [00:14<00:46,  2.47s/it]"
          ],
          "name": "stderr"
        },
        {
          "output_type": "stream",
          "text": [
            "\n",
            "Weighted F1 score for epoch:  0.6052850660147996 \n",
            "\n",
            "  Batch :  30  , Time elapsed :  0:00:02\n",
            "\n",
            "Train loss for epoch:  0.11326089687645435\n",
            "\n",
            "Training epoch took: 0:00:02\n"
          ],
          "name": "stdout"
        },
        {
          "output_type": "stream",
          "text": [
            "\rEpoch:  28%|██▊       | 7/25 [00:17<00:44,  2.50s/it]"
          ],
          "name": "stderr"
        },
        {
          "output_type": "stream",
          "text": [
            "\n",
            "Weighted F1 score for epoch:  0.6061208295013457 \n",
            "\n",
            "  Batch :  30  , Time elapsed :  0:00:02\n",
            "\n",
            "Train loss for epoch:  0.10027434909716249\n",
            "\n",
            "Training epoch took: 0:00:02\n"
          ],
          "name": "stdout"
        },
        {
          "output_type": "stream",
          "text": [
            "\rEpoch:  32%|███▏      | 8/25 [00:19<00:42,  2.49s/it]"
          ],
          "name": "stderr"
        },
        {
          "output_type": "stream",
          "text": [
            "\n",
            "Weighted F1 score for epoch:  0.6059336445864147 \n",
            "\n",
            "  Batch :  30  , Time elapsed :  0:00:02\n",
            "\n",
            "Train loss for epoch:  0.0866982457228005\n",
            "\n",
            "Training epoch took: 0:00:02\n"
          ],
          "name": "stdout"
        },
        {
          "output_type": "stream",
          "text": [
            "\rEpoch:  36%|███▌      | 9/25 [00:22<00:39,  2.48s/it]"
          ],
          "name": "stderr"
        },
        {
          "output_type": "stream",
          "text": [
            "\n",
            "Weighted F1 score for epoch:  0.6069923149348102 \n",
            "\n",
            "  Batch :  30  , Time elapsed :  0:00:02\n",
            "\n",
            "Train loss for epoch:  0.0699538141489029\n",
            "\n",
            "Training epoch took: 0:00:02\n"
          ],
          "name": "stdout"
        },
        {
          "output_type": "stream",
          "text": [
            "\rEpoch:  40%|████      | 10/25 [00:24<00:37,  2.50s/it]"
          ],
          "name": "stderr"
        },
        {
          "output_type": "stream",
          "text": [
            "\n",
            "Weighted F1 score for epoch:  0.6143392460622442 \n",
            "\n",
            "  Batch :  30  , Time elapsed :  0:00:02\n",
            "\n",
            "Train loss for epoch:  0.05876103858463466\n",
            "\n",
            "Training epoch took: 0:00:02\n"
          ],
          "name": "stdout"
        },
        {
          "output_type": "stream",
          "text": [
            "\rEpoch:  44%|████▍     | 11/25 [00:27<00:34,  2.49s/it]"
          ],
          "name": "stderr"
        },
        {
          "output_type": "stream",
          "text": [
            "\n",
            "Weighted F1 score for epoch:  0.6132005440407969 \n",
            "\n",
            "  Batch :  30  , Time elapsed :  0:00:02\n",
            "\n",
            "Train loss for epoch:  0.04872929642442614\n",
            "\n",
            "Training epoch took: 0:00:02\n"
          ],
          "name": "stdout"
        },
        {
          "output_type": "stream",
          "text": [
            "\rEpoch:  48%|████▊     | 12/25 [00:29<00:32,  2.48s/it]"
          ],
          "name": "stderr"
        },
        {
          "output_type": "stream",
          "text": [
            "\n",
            "Weighted F1 score for epoch:  0.6125614333303265 \n",
            "\n",
            "  Batch :  30  , Time elapsed :  0:00:02\n",
            "\n",
            "Train loss for epoch:  0.04140175087377429\n",
            "\n",
            "Training epoch took: 0:00:02\n"
          ],
          "name": "stdout"
        },
        {
          "output_type": "stream",
          "text": [
            "\rEpoch:  52%|█████▏    | 13/25 [00:32<00:29,  2.47s/it]"
          ],
          "name": "stderr"
        },
        {
          "output_type": "stream",
          "text": [
            "\n",
            "Weighted F1 score for epoch:  0.6162950670242717 \n",
            "\n",
            "  Batch :  30  , Time elapsed :  0:00:02\n",
            "\n",
            "Train loss for epoch:  0.034944507002364844\n",
            "\n",
            "Training epoch took: 0:00:02\n"
          ],
          "name": "stdout"
        },
        {
          "output_type": "stream",
          "text": [
            "\rEpoch:  56%|█████▌    | 14/25 [00:34<00:27,  2.49s/it]"
          ],
          "name": "stderr"
        },
        {
          "output_type": "stream",
          "text": [
            "\n",
            "Weighted F1 score for epoch:  0.6160358796062114 \n",
            "\n",
            "  Batch :  30  , Time elapsed :  0:00:02\n",
            "\n",
            "Train loss for epoch:  0.028615031740628183\n",
            "\n",
            "Training epoch took: 0:00:02\n"
          ],
          "name": "stdout"
        },
        {
          "output_type": "stream",
          "text": [
            "\rEpoch:  60%|██████    | 15/25 [00:37<00:24,  2.49s/it]"
          ],
          "name": "stderr"
        },
        {
          "output_type": "stream",
          "text": [
            "\n",
            "Weighted F1 score for epoch:  0.6100399322640092 \n",
            "\n",
            "  Batch :  30  , Time elapsed :  0:00:02\n",
            "\n",
            "Train loss for epoch:  0.0242331670015119\n",
            "\n",
            "Training epoch took: 0:00:02\n"
          ],
          "name": "stdout"
        },
        {
          "output_type": "stream",
          "text": [
            "\rEpoch:  64%|██████▍   | 16/25 [00:39<00:22,  2.48s/it]"
          ],
          "name": "stderr"
        },
        {
          "output_type": "stream",
          "text": [
            "\n",
            "Weighted F1 score for epoch:  0.6079845083858338 \n",
            "\n",
            "  Batch :  30  , Time elapsed :  0:00:02\n",
            "\n",
            "Train loss for epoch:  0.020953234052285552\n",
            "\n",
            "Training epoch took: 0:00:02\n"
          ],
          "name": "stdout"
        },
        {
          "output_type": "stream",
          "text": [
            "\rEpoch:  68%|██████▊   | 17/25 [00:42<00:19,  2.49s/it]"
          ],
          "name": "stderr"
        },
        {
          "output_type": "stream",
          "text": [
            "\n",
            "Weighted F1 score for epoch:  0.6109810230493021 \n",
            "\n",
            "  Batch :  30  , Time elapsed :  0:00:02\n",
            "\n",
            "Train loss for epoch:  0.018104881746694446\n",
            "\n",
            "Training epoch took: 0:00:02\n"
          ],
          "name": "stdout"
        },
        {
          "output_type": "stream",
          "text": [
            "\rEpoch:  72%|███████▏  | 18/25 [00:44<00:17,  2.48s/it]"
          ],
          "name": "stderr"
        },
        {
          "output_type": "stream",
          "text": [
            "\n",
            "Weighted F1 score for epoch:  0.608849384974623 \n",
            "\n",
            "  Batch :  30  , Time elapsed :  0:00:02\n",
            "\n",
            "Train loss for epoch:  0.01545210275799036\n",
            "\n",
            "Training epoch took: 0:00:02\n"
          ],
          "name": "stdout"
        },
        {
          "output_type": "stream",
          "text": [
            "\rEpoch:  76%|███████▌  | 19/25 [00:47<00:14,  2.48s/it]"
          ],
          "name": "stderr"
        },
        {
          "output_type": "stream",
          "text": [
            "\n",
            "Weighted F1 score for epoch:  0.6074415429309117 \n",
            "\n",
            "  Batch :  30  , Time elapsed :  0:00:02\n",
            "\n",
            "Train loss for epoch:  0.013532801909605041\n",
            "\n",
            "Training epoch took: 0:00:02\n"
          ],
          "name": "stdout"
        },
        {
          "output_type": "stream",
          "text": [
            "\rEpoch:  80%|████████  | 20/25 [00:49<00:12,  2.48s/it]"
          ],
          "name": "stderr"
        },
        {
          "output_type": "stream",
          "text": [
            "\n",
            "Weighted F1 score for epoch:  0.6093492429002956 \n",
            "\n",
            "  Batch :  30  , Time elapsed :  0:00:02\n",
            "\n",
            "Train loss for epoch:  0.012654331629164517\n",
            "\n",
            "Training epoch took: 0:00:02\n"
          ],
          "name": "stdout"
        },
        {
          "output_type": "stream",
          "text": [
            "\rEpoch:  84%|████████▍ | 21/25 [00:52<00:09,  2.47s/it]"
          ],
          "name": "stderr"
        },
        {
          "output_type": "stream",
          "text": [
            "\n",
            "Weighted F1 score for epoch:  0.6043689486274669 \n",
            "\n",
            "  Batch :  30  , Time elapsed :  0:00:02\n",
            "\n",
            "Train loss for epoch:  0.011375784146366641\n",
            "\n",
            "Training epoch took: 0:00:02\n"
          ],
          "name": "stdout"
        },
        {
          "output_type": "stream",
          "text": [
            "\rEpoch:  88%|████████▊ | 22/25 [00:54<00:07,  2.48s/it]"
          ],
          "name": "stderr"
        },
        {
          "output_type": "stream",
          "text": [
            "\n",
            "Weighted F1 score for epoch:  0.6048632591154943 \n",
            "\n",
            "  Batch :  30  , Time elapsed :  0:00:02\n",
            "\n",
            "Train loss for epoch:  0.010344052716391161\n",
            "\n",
            "Training epoch took: 0:00:02\n"
          ],
          "name": "stdout"
        },
        {
          "output_type": "stream",
          "text": [
            "\rEpoch:  92%|█████████▏| 23/25 [00:57<00:04,  2.48s/it]"
          ],
          "name": "stderr"
        },
        {
          "output_type": "stream",
          "text": [
            "\n",
            "Weighted F1 score for epoch:  0.6091636438764321 \n",
            "\n",
            "  Batch :  30  , Time elapsed :  0:00:02\n",
            "\n",
            "Train loss for epoch:  0.009381996394949965\n",
            "\n",
            "Training epoch took: 0:00:02\n"
          ],
          "name": "stdout"
        },
        {
          "output_type": "stream",
          "text": [
            "\rEpoch:  96%|█████████▌| 24/25 [00:59<00:02,  2.50s/it]"
          ],
          "name": "stderr"
        },
        {
          "output_type": "stream",
          "text": [
            "\n",
            "Weighted F1 score for epoch:  0.6065238543665129 \n",
            "\n",
            "  Batch :  30  , Time elapsed :  0:00:02\n",
            "\n",
            "Train loss for epoch:  0.008810690647806041\n",
            "\n",
            "Training epoch took: 0:00:02\n"
          ],
          "name": "stdout"
        },
        {
          "output_type": "stream",
          "text": [
            "\rEpoch: 100%|██████████| 25/25 [01:02<00:00,  2.49s/it]"
          ],
          "name": "stderr"
        },
        {
          "output_type": "stream",
          "text": [
            "\n",
            "Weighted F1 score for epoch:  0.6085992068570217 \n",
            "\n"
          ],
          "name": "stdout"
        },
        {
          "output_type": "stream",
          "text": [
            "\n"
          ],
          "name": "stderr"
        },
        {
          "output_type": "display_data",
          "data": {
            "image/png": "[encoded data removed]",
            "text/plain": [
              "<Figure size 864x432 with 1 Axes>"
            ]
          },
          "metadata": {
            "tags": []
          }
        },
        {
          "output_type": "display_data",
          "data": {
            "image/png": "[encoded data removed]",
            "text/plain": [
              "<Figure size 864x432 with 1 Axes>"
            ]
          },
          "metadata": {
            "tags": []
          }
        },
        {
          "output_type": "stream",
          "text": [
            "/usr/local/lib/python3.6/dist-packages/sklearn/metrics/_classification.py:1272: UndefinedMetricWarning: Precision and F-score are ill-defined and being set to 0.0 in samples with no predicted labels. Use `zero_division` parameter to control this behavior.\n",
            "  _warn_prf(average, modifier, msg_start, len(result))\n"
          ],
          "name": "stderr"
        },
        {
          "output_type": "execute_result",
          "data": {
            "text/html": [
              "<div>\n",
              "<style scoped>\n",
              "    .dataframe tbody tr th:only-of-type {\n",
              "        vertical-align: middle;\n",
              "    }\n",
              "\n",
              "    .dataframe tbody tr th {\n",
              "        vertical-align: top;\n",
              "    }\n",
              "\n",
              "    .dataframe thead th {\n",
              "        text-align: right;\n",
              "    }\n",
              "</style>\n",
              "<table border=\"1\" class=\"dataframe\">\n",
              "  <thead>\n",
              "    <tr style=\"text-align: right;\">\n",
              "      <th></th>\n",
              "      <th>micro</th>\n",
              "      <th>macro</th>\n",
              "      <th>weighted</th>\n",
              "      <th>samples</th>\n",
              "    </tr>\n",
              "  </thead>\n",
              "  <tbody>\n",
              "    <tr>\n",
              "      <th>Recall</th>\n",
              "      <td>0.611761</td>\n",
              "      <td>0.497515</td>\n",
              "      <td>0.611761</td>\n",
              "      <td>0.664692</td>\n",
              "    </tr>\n",
              "    <tr>\n",
              "      <th>Precision</th>\n",
              "      <td>0.610565</td>\n",
              "      <td>0.586307</td>\n",
              "      <td>0.608090</td>\n",
              "      <td>0.644279</td>\n",
              "    </tr>\n",
              "    <tr>\n",
              "      <th>F_Score</th>\n",
              "      <td>0.611163</td>\n",
              "      <td>0.529459</td>\n",
              "      <td>0.601859</td>\n",
              "      <td>0.611210</td>\n",
              "    </tr>\n",
              "  </tbody>\n",
              "</table>\n",
              "</div>"
            ],
            "text/plain": [
              "              micro     macro  weighted   samples\n",
              "Recall     0.611761  0.497515  0.611761  0.664692\n",
              "Precision  0.610565  0.586307  0.608090  0.644279\n",
              "F_Score    0.611163  0.529459  0.601859  0.611210"
            ]
          },
          "metadata": {
            "tags": []
          },
          "execution_count": 17
        }
      ]
    },
    {
      "cell_type": "code",
      "metadata": {
        "id": "TJqSq_NzYDN5",
        "colab_type": "code",
        "colab": {}
      },
      "source": [
        ""
      ],
      "execution_count": 0,
      "outputs": []
    }
  ]
}