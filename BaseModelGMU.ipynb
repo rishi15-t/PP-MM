{
  "nbformat": 4,
  "nbformat_minor": 0,
  "metadata": {
    "colab": {
      "name": "BaseModelGMU.ipynb",
      "provenance": [],
      "collapsed_sections": [],
      "include_colab_link": true
    },
    "kernelspec": {
      "name": "python3",
      "display_name": "Python 3"
    },
    "accelerator": "GPU"
  },
  "cells": [
    {
      "cell_type": "markdown",
      "metadata": {
        "id": "view-in-github",
        "colab_type": "text"
      },
      "source": [
        "<a href=\"https://colab.research.google.com/github/rishi15-t/PP-MM/blob/master/BaseModelGMU.ipynb\" target=\"_parent\"><img src=\"https://colab.research.google.com/assets/colab-badge.svg\" alt=\"Open In Colab\"/></a>"
      ]
    },
    {
      "cell_type": "code",
      "metadata": {
        "id": "TZyaSvq7Poeg",
        "colab_type": "code",
        "outputId": "80c6d293-d60d-49ce-cc22-b01605a1d5ea",
        "colab": {
          "base_uri": "https://localhost:8080/",
          "height": 122
        }
      },
      "source": [
        "from google.colab import drive\n",
        "drive.mount('/content/drive')"
      ],
      "execution_count": 0,
      "outputs": [
        {
          "output_type": "stream",
          "text": [
            "Go to this URL in a browser: https://accounts.google.com/o/oauth2/auth?client_id=947318989803-6bn6qk8qdgf4n4g3pfee6491hc0brc4i.apps.googleusercontent.com&redirect_uri=urn%3aietf%3awg%3aoauth%3a2.0%3aoob&response_type=code&scope=email%20https%3a%2f%2fwww.googleapis.com%2fauth%2fdocs.test%20https%3a%2f%2fwww.googleapis.com%2fauth%2fdrive%20https%3a%2f%2fwww.googleapis.com%2fauth%2fdrive.photos.readonly%20https%3a%2f%2fwww.googleapis.com%2fauth%2fpeopleapi.readonly\n",
            "\n",
            "Enter your authorization code:\n",
            "··········\n",
            "Mounted at /content/drive\n"
          ],
          "name": "stdout"
        }
      ]
    },
    {
      "cell_type": "code",
      "metadata": {
        "id": "daviCRfrPsDK",
        "colab_type": "code",
        "colab": {}
      },
      "source": [
        "import pandas as pd\n",
        "dataset = pd.read_pickle('/content/drive/My Drive/dataset/w2v_vgg_embeddings.pkl')"
      ],
      "execution_count": 0,
      "outputs": []
    },
    {
      "cell_type": "code",
      "metadata": {
        "id": "k-fv4SUaPhcr",
        "colab_type": "code",
        "outputId": "09d4614f-b67e-4529-b5ed-9a4a60bd6259",
        "colab": {
          "base_uri": "https://localhost:8080/",
          "height": 54
        }
      },
      "source": [
        "'''\n",
        "import pandas as pd\n",
        "import h5py\n",
        "import numpy as np\n",
        "\n",
        "hf = h5py.File('C:/Users/shram/Desktop/multimodal_imdb.hdf5', 'r')\n",
        "n1 = pd.Series(hf.get('vgg_features'))\n",
        "n2 = pd.Series(hf.get('features'))\n",
        "n3 = pd.Series(hf.get('genres'))\n",
        "n4 = pd.Series(hf.get('imdb_ids'))\n",
        "\n",
        "dataset = pd.DataFrame(dict(n1 = n1, n2 = n2, n3 = n3, n4 = n4)).reset_index()\n",
        "dataset = dataset.rename(columns={\"n1\": \"vgg16_embeddings\", \"n2\": \"w2v_embeddings\", \"n3\" : \"genres\", \"n4\" : \"fileID\"})\n",
        "del dataset['index']\n",
        "dataset['vgg16_embeddings'] = dataset['vgg16_embeddings'].apply(lambda x : list(map(float, x)))\n",
        "dataset['w2v_embeddings'] = dataset['w2v_embeddings'].apply(lambda x : list(map(float, x)))\n",
        "dataset['genres'] = dataset['genres'].apply(lambda x : list(map(int, x)))\n",
        "dataset\n",
        "\n",
        "#dataset.to_hdf('w2v_embeddings.h5', key='embeddings', mode='w')\n",
        "'''"
      ],
      "execution_count": 0,
      "outputs": [
        {
          "output_type": "execute_result",
          "data": {
            "text/plain": [
              "'\\nimport pandas as pd\\nimport h5py\\nimport numpy as np\\n\\nhf = h5py.File(\\'C:/Users/shram/Desktop/multimodal_imdb.hdf5\\', \\'r\\')\\nn1 = pd.Series(hf.get(\\'vgg_features\\'))\\nn2 = pd.Series(hf.get(\\'features\\'))\\nn3 = pd.Series(hf.get(\\'genres\\'))\\nn4 = pd.Series(hf.get(\\'imdb_ids\\'))\\n\\ndataset = pd.DataFrame(dict(n1 = n1, n2 = n2, n3 = n3, n4 = n4)).reset_index()\\ndataset = dataset.rename(columns={\"n1\": \"vgg16_embeddings\", \"n2\": \"w2v_embeddings\", \"n3\" : \"genres\", \"n4\" : \"fileID\"})\\ndel dataset[\\'index\\']\\ndataset[\\'vgg16_embeddings\\'] = dataset[\\'vgg16_embeddings\\'].apply(lambda x : list(map(float, x)))\\ndataset[\\'w2v_embeddings\\'] = dataset[\\'w2v_embeddings\\'].apply(lambda x : list(map(float, x)))\\ndataset[\\'genres\\'] = dataset[\\'genres\\'].apply(lambda x : list(map(int, x)))\\ndataset\\n\\n#dataset.to_hdf(\\'w2v_embeddings.h5\\', key=\\'embeddings\\', mode=\\'w\\')\\n'"
            ]
          },
          "metadata": {
            "tags": []
          },
          "execution_count": 5
        }
      ]
    },
    {
      "cell_type": "code",
      "metadata": {
        "id": "-lq5KYZXPtiv",
        "colab_type": "code",
        "outputId": "5bce30f5-b204-404c-bee7-bfdf101fb8d4",
        "colab": {
          "base_uri": "https://localhost:8080/",
          "height": 71
        }
      },
      "source": [
        "import torch\n",
        "import numpy as np\n",
        "from sklearn.preprocessing import MultiLabelBinarizer\n",
        "from sklearn.model_selection import train_test_split\n",
        "\n",
        "\n",
        "def Train_Test_Val_Split(data , test_data_fraction = 0.3, val_data_fraction = 0.1) :\n",
        "    \n",
        "  \n",
        "    data_genres_one_hot_encoding = pd.DataFrame.from_items(zip(data['genres'].index, data['genres'].values)).T\n",
        "    Label_names = np.array(['Action', 'Adventure', 'Animation', 'Biography', 'Comedy', 'Crime',\n",
        "       'Documentary', 'Drama', 'Family', 'Fantasy', 'Film-Noir',\n",
        "       'History', 'Horror', 'Music', 'Musical', 'Mystery', 'Romance',\n",
        "       'Sci-Fi', 'Short', 'Sport', 'Thriller', 'War', 'Western'])\n",
        "    data_genres_one_hot_encoding.columns = Label_names\n",
        "    Data_train, Data_test, Labels_train, Labels_test = train_test_split(data, data_genres_one_hot_encoding, test_size = test_data_fraction)\n",
        "\n",
        "    Data_train, Data_val, Labels_train, Labels_val = train_test_split(Data_train, Labels_train, test_size = val_data_fraction)\n",
        "\n",
        "    Data_train = Data_train.reset_index(drop=True)\n",
        "    Data_test = Data_test.reset_index(drop=True)\n",
        "    Data_val = Data_val.reset_index(drop=True)\n",
        "    \n",
        "    Labels_train = torch.tensor(Labels_train.values)\n",
        "    Labels_test = torch.tensor(Labels_test.values)\n",
        "    Labels_val = torch.tensor(Labels_val.values)\n",
        "    \n",
        "    return (Data_train, Data_test, Data_val, Labels_train, Labels_test, Labels_val, Label_names)\n",
        "    \n",
        "Data_train, Data_test, Data_val, Labels_train_tensor, Labels_test_tensor, Labels_val_tensor, Label_names = Train_Test_Val_Split(dataset)\n",
        "\n",
        "Data_train_tensor_text = torch.tensor(Data_train['w2v_embeddings'])\n",
        "Data_test_tensor_text = torch.tensor(Data_test['w2v_embeddings'])\n",
        "Data_val_tensor_text = torch.tensor(Data_val['w2v_embeddings'])\n",
        "\n",
        "Data_train_tensor_image = torch.tensor(Data_train['vgg16_embeddings'])\n",
        "Data_test_tensor_image = torch.tensor(Data_test['vgg16_embeddings'])\n",
        "Data_val_tensor_image = torch.tensor(Data_val['vgg16_embeddings'])"
      ],
      "execution_count": 0,
      "outputs": [
        {
          "output_type": "stream",
          "text": [
            "/usr/local/lib/python3.6/dist-packages/ipykernel_launcher.py:10: FutureWarning: from_items is deprecated. Please use DataFrame.from_dict(dict(items), ...) instead. DataFrame.from_dict(OrderedDict(items)) may be used to preserve the key order.\n",
            "  # Remove the CWD from sys.path while we load stuff.\n"
          ],
          "name": "stderr"
        }
      ]
    },
    {
      "cell_type": "code",
      "metadata": {
        "id": "C6TKgAUIPwu0",
        "colab_type": "code",
        "colab": {}
      },
      "source": [
        "from torch import nn\n",
        "\n",
        "\n",
        "#source: https://github.com/Duncanswilson/maxout-pytorch/blob/master/maxout_pytorch.ipynb\n",
        "class ListModule(object):\n",
        "    def __init__(self, module, prefix, *args):\n",
        "        self.module = module\n",
        "        self.prefix = prefix\n",
        "        self.num_module = 0\n",
        "        for new_module in args:\n",
        "            self.append(new_module)\n",
        "\n",
        "    def append(self, new_module):\n",
        "        if not isinstance(new_module, nn.Module):\n",
        "            raise ValueError('Not a Module')\n",
        "        else:\n",
        "            self.module.add_module(self.prefix + str(self.num_module), new_module)\n",
        "            self.num_module += 1\n",
        "\n",
        "    def __len__(self):\n",
        "        return self.num_module\n",
        "\n",
        "    def __getitem__(self, i):\n",
        "        if i < 0 or i >= self.num_module:\n",
        "            raise IndexError('Out of bound')\n",
        "        return getattr(self.module, self.prefix + str(i))\n",
        "\n",
        "\n",
        "class Maxout_MLP(nn.Module):\n",
        "    \n",
        "    def __init__(self, hidden_layer_size1, hidden_layer_size2, dropout, num_maxout_units=2):\n",
        "        \n",
        "        super(Maxout_MLP, self).__init__()\n",
        "        self.fc1_list = ListModule(self, \"fc1_\")\n",
        "        self.fc2_list = ListModule(self, \"fc2_\")\n",
        "        self.hidden_layer_size1 = hidden_layer_size1\n",
        "        self.hidden_layer_size2 = hidden_layer_size2\n",
        "        for _ in range(num_maxout_units):\n",
        "            self.fc1_list.append(nn.Linear(self.hidden_layer_size1, self.hidden_layer_size2))\n",
        "            self.fc2_list.append(nn.Linear(self.hidden_layer_size2, self.hidden_layer_size2))\n",
        "        self.dropout = nn.Dropout(p=dropout)\n",
        "        self.bn0 = nn.BatchNorm1d(self.hidden_layer_size1)\n",
        "        self.bn1 = nn.BatchNorm1d(self.hidden_layer_size2)\n",
        "        self.bn2 = nn.BatchNorm1d(self.hidden_layer_size2)\n",
        "\n",
        "    def forward(self, x): \n",
        "        \n",
        "        x = x.view(-1, self.hidden_layer_size1)\n",
        "        x = self.bn0(x)\n",
        "        x = self.maxout(x, self.fc1_list)\n",
        "        x = self.bn1(x)\n",
        "        x = self.dropout(x)\n",
        "        x = self.maxout(x, self.fc2_list)\n",
        "        x = self.bn2(x)\n",
        "        return x\n",
        "\n",
        "    def maxout(self, x, layer_list):\n",
        "        \n",
        "        max_output = layer_list[0](x)\n",
        "        for _, layer in enumerate(layer_list, start=1):\n",
        "            max_output = torch.max(max_output, layer(x))\n",
        "        return max_output\n",
        "\n",
        "\n",
        "class GMU(nn.Module):\n",
        "\n",
        "    def __init__(self, num_maxout_units = 2, hidden_layer_size = 512, text_embeddings_size = 300, img_embeddings_size = 4096, num_labels = 23, hidden_activation = None, dropout = 0.1):\n",
        "\n",
        "        super(GMU, self).__init__()\n",
        "        self.num_labels = num_labels\n",
        "        self.hidden_layer_size = hidden_layer_size\n",
        "\n",
        "        self.linear_h_text = torch.nn.Linear(text_embeddings_size, self.hidden_layer_size, bias = False)\n",
        "        self.linear_h_image = torch.nn.Linear(img_embeddings_size, self.hidden_layer_size, bias = False)\n",
        "        self.linear_z = torch.nn.Linear(text_embeddings_size + img_embeddings_size, self.hidden_layer_size, bias = False)\n",
        "\n",
        "        self.tanh = torch.nn.Tanh()\n",
        "        self.sigmoid = torch.nn.Sigmoid()\n",
        "\n",
        "        self.dropout = nn.Dropout(p=dropout)\n",
        "        self.linear = torch.nn.Linear(self.hidden_layer_size, self.num_labels)\n",
        "        \n",
        "        self.maxout = Maxout_MLP(self.hidden_layer_size, self.hidden_layer_size, dropout, num_maxout_units=num_maxout_units)\n",
        "\n",
        "    def forward(self, image_embeddings, text_embeddings):\n",
        "        \n",
        "        image_h = self.linear_h_image(image_embeddings)\n",
        "        image_h = self.tanh(image_h)\n",
        "        text_h = self.linear_h_text(text_embeddings)\n",
        "        text_h = self.tanh(text_h)\n",
        "        concat = torch.cat((image_embeddings, text_embeddings), 1)\n",
        "        z = self.linear_z(concat)\n",
        "        z = self.sigmoid(z)\n",
        "        gmu_output = z*image_h + (1-z)*text_h\n",
        "        \n",
        "        maxout_mlp_output = self.maxout(gmu_output)\n",
        "\n",
        "        logits = self.linear(maxout_mlp_output)\n",
        "        if(self.training) :\n",
        "            return logits\n",
        "        else :\n",
        "            output = self.sigmoid(logits)\n",
        "            return output\n"
      ],
      "execution_count": 0,
      "outputs": []
    },
    {
      "cell_type": "code",
      "metadata": {
        "id": "SV4XuUhWPy-V",
        "colab_type": "code",
        "colab": {}
      },
      "source": [
        "import torch\n",
        "from torch.nn import BCEWithLogitsLoss\n",
        "from torch.utils.data import TensorDataset, DataLoader, RandomSampler, SequentialSampler\n",
        "from torch.optim import AdamW\n",
        "from torch.optim.lr_scheduler import StepLR\n",
        "from tqdm import tqdm, trange\n",
        "from sklearn import metrics\n",
        "#!pip install transformers\n",
        "#from transformers import get_linear_schedule_with_warmup\n",
        "import matplotlib.pyplot as plt\n",
        "% matplotlib inline\n",
        "import seaborn as sns\n",
        "import pandas as pd\n",
        "import numpy as np\n",
        "import time\n",
        "import datetime\n",
        "\n",
        "\n",
        "class Training_Testing_MM():\n",
        "\n",
        "    def __init__(self, Data_train_tensor_text, Data_train_tensor_image, Labels_train_tensor, \n",
        "                 Data_test_tensor_text, Data_test_tensor_image, Labels_test_tensor, \n",
        "                 Data_val_tensor_text, Data_val_tensor_image, Labels_val_tensor,\n",
        "                 Label_names = None, hidden_layer_size = 512, num_maxout_units = 2, weight_decay= 0.1, scheduler_step_size = 30, scheduler_lr_fraction = 0.8,\n",
        "                 hidden_activation = \"tanh\", batch_size = 32, epochs = 10, sigmoid_thresh = 0.2, learning_rate = 2e-5, num_labels = 23, dropout = 0.1):\n",
        "\n",
        "\n",
        "      self.model = GMU(num_maxout_units = num_maxout_units, hidden_layer_size = hidden_layer_size, hidden_activation = hidden_activation, dropout = dropout).cuda()\n",
        "      self.label_names = Label_names\n",
        "      self.num_labels = num_labels\n",
        "      self.batch_size = batch_size\n",
        "      self.learning_rate = learning_rate\n",
        "      self.epochs = epochs\n",
        "      self.sigmoid_thresh = sigmoid_thresh\n",
        "      self.scheduler_step_size = scheduler_step_size\n",
        "      self.scheduler_lr_fraction = scheduler_lr_fraction\n",
        "      self.weight_decay = weight_decay\n",
        "      self.optimizer = self.SetOptimizer()\n",
        "      self.device = torch.device(\"cuda\" if torch.cuda.is_available() else \"cpu\")\n",
        "      self.results = pd.DataFrame(0, index=['Recall','Precision','F_Score'], columns=['micro', 'macro', 'weighted', 'samples']).astype(float)\n",
        "      self.epoch_loss_set = []\n",
        "      self.train_dataloader = self.SetTrainDataloader_MM(Data_train_tensor_text, Data_train_tensor_image, Labels_train_tensor)\n",
        "      self.test_dataloader = self.SetTestDataloader_MM(Data_test_tensor_text, Data_test_tensor_image, Labels_test_tensor) \n",
        "      self.scheduler = self.SetScheduler()\n",
        "\n",
        "      self.val_accuracy_set = [] \n",
        "      self.val_dataloader = self.SetValDataloader_MM(Data_val_tensor_text, Data_val_tensor_image, Labels_val_tensor)\n",
        "      self.class_wise_metrics = None\n",
        "      self.predictions = None\n",
        "\n",
        "    def SetOptimizer(self) :\n",
        "\n",
        "      optimizer = AdamW(self.model.parameters(), lr=self.learning_rate,  eps = 1e-6, weight_decay=self.weight_decay)\n",
        "      return(optimizer)\n",
        "\n",
        "    \n",
        "\n",
        "    def SetScheduler(self) :\n",
        "\n",
        "      '''\n",
        "      scheduler = get_linear_schedule_with_warmup(self.optimizer, num_warmup_steps = 10, \n",
        "                                                 num_training_steps = self.epochs*len(self.train_dataloader))\n",
        "      '''\n",
        "      scheduler = StepLR(self.optimizer, step_size = self.scheduler_step_size, gamma = self.scheduler_lr_fraction)\n",
        "      return(scheduler) \n",
        "\n",
        "\n",
        "\n",
        "    def Get_Metrics(self, actual, predicted) :\n",
        "\n",
        "      #acc = metrics.accuracy_score(actual, predicted)\n",
        "      #hamming = metrics.hamming_loss(actual, predicted)\n",
        "      #(metrics.roc_auc_score(actual, predicted, average=average)\n",
        "      averages = ('micro', 'macro', 'weighted', 'samples')\n",
        "      for average in averages:\n",
        "          precision, recall, fscore, _ = metrics.precision_recall_fscore_support(actual, predicted, average=average)\n",
        "          self.results[average]['Recall'] += recall\n",
        "          self.results[average]['Precision'] += precision\n",
        "          self.results[average]['F_Score'] += fscore\n",
        "\n",
        "\n",
        "\n",
        "    #source: https://mccormickml.com/2019/07/22/BERT-fine-tuning/\n",
        "    def Plot_Training_Epoch_Loss(self) :\n",
        "\n",
        "      sns.set(style='darkgrid')\n",
        "      sns.set(font_scale=1.5)\n",
        "      plt.rcParams[\"figure.figsize\"] = (12,6)\n",
        "      plt.plot(self.epoch_loss_set, 'b-o')\n",
        "      plt.title(\"Training loss\")\n",
        "      plt.xlabel(\"Epoch\")\n",
        "      plt.ylabel(\"Loss\")\n",
        "      plt.savefig('Training_Epoch_Loss.png',bbox_inches='tight')\n",
        "      plt.show()\n",
        "\n",
        "    \n",
        "    def Plot_Training_Epoch_Accuracy(self) :\n",
        "\n",
        "      sns.set(style='darkgrid')\n",
        "      sns.set(font_scale=1.5)\n",
        "      plt.rcParams[\"figure.figsize\"] = (12,6)\n",
        "      plt.plot(self.val_accuracy_set, 'b-o')\n",
        "      plt.title(\"Micro F1 Score\")\n",
        "      plt.xlabel(\"Epoch\")\n",
        "      plt.ylabel(\"Validation Accuracy\")\n",
        "      plt.savefig('Training_Validation_Accuracy.png',bbox_inches='tight')\n",
        "      plt.show()\n",
        "\n",
        "\n",
        "    #source: https://mccormickml.com/2019/07/22/BERT-fine-tuning/\n",
        "    def format_time(self, elapsed):\n",
        "      '''\n",
        "      Takes a time in seconds and returns a string hh:mm:ss\n",
        "      '''\n",
        "      # Round to the nearest second.\n",
        "      elapsed_rounded = int(round((elapsed)))\n",
        "      return str(datetime.timedelta(seconds=elapsed_rounded))\n",
        "\n",
        "\n",
        "    def SetTrainDataloader_MM(self, Data_train_tensor_text, Data_train_tensor_image, Labels_train_tensor) :\n",
        "\n",
        "      train_dataset = TensorDataset(Data_train_tensor_text, Data_train_tensor_image, Labels_train_tensor)\n",
        "      train_sampler = RandomSampler(train_dataset)\n",
        "      train_dataloader = DataLoader(train_dataset, sampler=train_sampler, batch_size = self.batch_size)\n",
        "      return(train_dataloader)\n",
        "\n",
        "\n",
        "    def SetTestDataloader_MM(self, Data_test_tensor_text, Data_test_tensor_image, Labels_test_tensor) :\n",
        "      \n",
        "      test_dataset = TensorDataset(Data_test_tensor_text, Data_test_tensor_image, Labels_test_tensor)\n",
        "      test_sampler = SequentialSampler(test_dataset)\n",
        "      #test_dataloader = DataLoader(test_dataset, sampler=test_sampler, batch_size = self.batch_size)\n",
        "      test_dataloader = DataLoader(test_dataset, sampler=test_sampler, batch_size = Data_test_tensor_text.shape[0])\n",
        "      return(test_dataloader)\n",
        "\n",
        "    \n",
        "    def SetValDataloader_MM(self, Data_val_tensor_text, Data_val_tensor_image, Labels_val_tensor) :\n",
        "      \n",
        "      val_dataset = TensorDataset(Data_val_tensor_text, Data_val_tensor_image, Labels_val_tensor)\n",
        "      val_sampler = SequentialSampler(val_dataset)\n",
        "      #test_dataloader = DataLoader(test_dataset, sampler=test_sampler, batch_size = self.batch_size)\n",
        "      val_dataloader = DataLoader(val_dataset, sampler=val_sampler, batch_size = Data_val_tensor_text.shape[0])\n",
        "      return(val_dataloader)\n",
        "\n",
        "   \n",
        "    def Train(self) :\n",
        "\n",
        "      for _ in trange(self.epochs, desc=\"Epoch\"):\n",
        "        \n",
        "        self.model.train()\n",
        "        epoch_loss = 0\n",
        "\n",
        "        # Measure how long the training epoch takes.\n",
        "        t0 = time.time()\n",
        "    \n",
        "        for step_num, batch_data in enumerate(self.train_dataloader):\n",
        "\n",
        "          # Progress update every 30 batches.\n",
        "          if step_num % 30 == 0 and not step_num == 0:\n",
        "            elapsed = self.format_time(time.time() - t0)\n",
        "            print('  Batch : ',step_num, ' , Time elapsed : ',elapsed)\n",
        "\n",
        "          samples_text, samples_image, labels = tuple(t.to(self.device) for t in batch_data)\n",
        "          self.optimizer.zero_grad()\n",
        "          logits = self.model(samples_image.float(), samples_text.float())\n",
        "          loss_fct = BCEWithLogitsLoss()\n",
        "          batch_loss = loss_fct(logits.view(-1, self.num_labels).float(), labels.view(-1, self.num_labels).float())\n",
        "          batch_loss.backward()\n",
        "          self.optimizer.step()\n",
        "          self.scheduler.step()\n",
        "          epoch_loss += batch_loss.item()\n",
        "\n",
        "        avg_epoch_loss = epoch_loss/len(self.train_dataloader)\n",
        "        print(\"\\nTrain loss for epoch: \",avg_epoch_loss)\n",
        "        print(\"\\nTraining epoch took: {:}\".format(self.format_time(time.time() - t0)))\n",
        "        self.epoch_loss_set.append(avg_epoch_loss)\n",
        "\n",
        "        #Validation on the epoch\n",
        "        self.model.eval()\n",
        "        epoch_f1_score = 0\n",
        "\n",
        "        for batch_data in self.val_dataloader:\n",
        "          samples_text, samples_image, labels = tuple(t.to(self.device) for t in batch_data)\n",
        "          with torch.no_grad():\n",
        "            output = self.model(samples_image.float(), samples_text.float())\n",
        "\n",
        "          threshold = torch.Tensor([self.sigmoid_thresh]).to(self.device)\n",
        "          predictions = (output > threshold).int()\n",
        "\n",
        "          predictions = predictions.detach().cpu().numpy()\n",
        "          labels = labels.to('cpu').numpy()\n",
        "      \n",
        "          micro_f_score = metrics.f1_score(labels,predictions,average=\"micro\")\n",
        "          epoch_f1_score += micro_f_score\n",
        "\n",
        "        avg_val_f1_score = epoch_f1_score/len(self.val_dataloader)\n",
        "        print(\"\\n Micro F1 score for epoch: \",avg_val_f1_score,\"\\n\")\n",
        "        self.val_accuracy_set.append(avg_val_f1_score)\n",
        "\n",
        "      #torch.save(self.model.state_dict(), \"/content/drive/My Drive/dataset/model.pt\")\n",
        "      self.Plot_Training_Epoch_Loss()\n",
        "      self.Plot_Training_Epoch_Accuracy()\n",
        "   \n",
        "\n",
        "    def Test(self) :\n",
        "\n",
        "      # Put model in evaluation mode to evaluate loss on the test set\n",
        "      self.model.eval()\n",
        "\n",
        "      for batch_data in self.test_dataloader:\n",
        "  \n",
        "        samples_text, samples_image, labels = tuple(t.to(self.device) for t in batch_data)\n",
        "      \n",
        "        # Telling the model not to compute or store gradients, saving memory and speeding up validation\n",
        "        # Forward pass, calculate logit predictions\n",
        "        with torch.no_grad():\n",
        "          output = self.model(samples_image.float(), samples_text.float())\n",
        "\n",
        "        threshold = torch.Tensor([self.sigmoid_thresh]).to(self.device)\n",
        "        predictions = (output > threshold).int()\n",
        "\n",
        "        # Move preds and labels to CPU\n",
        "        predictions = predictions.detach().cpu().numpy()\n",
        "        labels = labels.to('cpu').numpy()\n",
        "\n",
        "        self.predictions = predictions\n",
        "        self.Get_Metrics(labels, predictions)\n",
        "        self.class_wise_metrics = metrics.classification_report(labels, predictions, target_names= list(self.label_names))\n",
        "        \n",
        "    \n",
        "      self.results = self.results/len(self.test_dataloader)\n",
        "      #print(\"Test data metrics : \\n\")\n",
        "\n",
        "      #print(\"\\nGenres with no predicted samples : \", self.label_names[np.where(np.sum(predictions, axis=0) == 0)[0]])\n",
        "      \n",
        "      return(self.results)"
      ],
      "execution_count": 0,
      "outputs": []
    },
    {
      "cell_type": "code",
      "metadata": {
        "id": "4e1J4EORP1hv",
        "colab_type": "code",
        "outputId": "a15ef42e-5da9-4394-bc30-00ca8f933dce",
        "colab": {
          "base_uri": "https://localhost:8080/",
          "height": 1000
        }
      },
      "source": [
        "train_test = Training_Testing_MM( Data_train_tensor_text, Data_train_tensor_image, Labels_train_tensor, \n",
        "                                  Data_test_tensor_text, Data_test_tensor_image, Labels_test_tensor, \n",
        "                                  Data_val_tensor_text, Data_val_tensor_image, Labels_val_tensor, Label_names=Label_names, \n",
        "                                  hidden_layer_size = 512, epochs = 70, batch_size= 256, learning_rate=0.01, dropout=0.7, scheduler_step_size = 300, \n",
        "                                  scheduler_lr_fraction = 0.85, sigmoid_thresh = 0.5, num_maxout_units = 10, weight_decay = 0.1)\n",
        "train_test.Train()\n",
        "train_test.Test()"
      ],
      "execution_count": 0,
      "outputs": [
        {
          "output_type": "stream",
          "text": [
            "\n",
            "\n",
            "\n",
            "\n",
            "\n",
            "Epoch:   0%|          | 0/70 [00:00<?, ?it/s]\u001b[A\u001b[A\u001b[A\u001b[A\u001b[A"
          ],
          "name": "stderr"
        },
        {
          "output_type": "stream",
          "text": [
            "  Batch :  30  , Time elapsed :  0:00:01\n"
          ],
          "name": "stdout"
        },
        {
          "output_type": "stream",
          "text": [
            "\n",
            "\n",
            "\n",
            "\n",
            "\n",
            "Epoch:   1%|▏         | 1/70 [00:01<01:30,  1.31s/it]\u001b[A\u001b[A\u001b[A\u001b[A\u001b[A"
          ],
          "name": "stderr"
        },
        {
          "output_type": "stream",
          "text": [
            "  Batch :  60  , Time elapsed :  0:00:01\n",
            "\n",
            "Train loss for epoch:  0.3291114552412182\n",
            "\n",
            "Training epoch took: 0:00:01\n",
            "\n",
            " Micro F1 score for epoch:  0.5201288244766505 \n",
            "\n",
            "  Batch :  30  , Time elapsed :  0:00:01\n"
          ],
          "name": "stdout"
        },
        {
          "output_type": "stream",
          "text": [
            "\n",
            "\n",
            "\n",
            "\n",
            "\n",
            "Epoch:   3%|▎         | 2/70 [00:02<01:28,  1.30s/it]\u001b[A\u001b[A\u001b[A\u001b[A\u001b[A"
          ],
          "name": "stderr"
        },
        {
          "output_type": "stream",
          "text": [
            "  Batch :  60  , Time elapsed :  0:00:01\n",
            "\n",
            "Train loss for epoch:  0.2098727305419743\n",
            "\n",
            "Training epoch took: 0:00:01\n",
            "\n",
            " Micro F1 score for epoch:  0.5574876719439398 \n",
            "\n",
            "  Batch :  30  , Time elapsed :  0:00:01\n"
          ],
          "name": "stdout"
        },
        {
          "output_type": "stream",
          "text": [
            "\n",
            "\n",
            "\n",
            "\n",
            "\n",
            "Epoch:   4%|▍         | 3/70 [00:03<01:27,  1.30s/it]\u001b[A\u001b[A\u001b[A\u001b[A\u001b[A"
          ],
          "name": "stderr"
        },
        {
          "output_type": "stream",
          "text": [
            "  Batch :  60  , Time elapsed :  0:00:01\n",
            "\n",
            "Train loss for epoch:  0.19584854505956173\n",
            "\n",
            "Training epoch took: 0:00:01\n",
            "\n",
            " Micro F1 score for epoch:  0.5725061776563922 \n",
            "\n",
            "  Batch :  30  , Time elapsed :  0:00:01\n"
          ],
          "name": "stdout"
        },
        {
          "output_type": "stream",
          "text": [
            "\n",
            "\n",
            "\n",
            "\n",
            "\n",
            "Epoch:   6%|▌         | 4/70 [00:05<01:26,  1.31s/it]\u001b[A\u001b[A\u001b[A\u001b[A\u001b[A"
          ],
          "name": "stderr"
        },
        {
          "output_type": "stream",
          "text": [
            "  Batch :  60  , Time elapsed :  0:00:01\n",
            "\n",
            "Train loss for epoch:  0.18739380384795368\n",
            "\n",
            "Training epoch took: 0:00:01\n",
            "\n",
            " Micro F1 score for epoch:  0.5903301595152715 \n",
            "\n",
            "  Batch :  30  , Time elapsed :  0:00:01\n",
            "  Batch :  60  , Time elapsed :  0:00:01\n",
            "\n",
            "Train loss for epoch:  0.18182427622377872\n",
            "\n",
            "Training epoch took: 0:00:01\n"
          ],
          "name": "stdout"
        },
        {
          "output_type": "stream",
          "text": [
            "\n",
            "\n",
            "\n",
            "\n",
            "\n",
            "Epoch:   7%|▋         | 5/70 [00:07<01:46,  1.63s/it]\u001b[A\u001b[A\u001b[A\u001b[A\u001b[A"
          ],
          "name": "stderr"
        },
        {
          "output_type": "stream",
          "text": [
            "\n",
            " Micro F1 score for epoch:  0.5972939729397294 \n",
            "\n",
            "  Batch :  30  , Time elapsed :  0:00:01\n"
          ],
          "name": "stdout"
        },
        {
          "output_type": "stream",
          "text": [
            "\n",
            "\n",
            "\n",
            "\n",
            "\n",
            "Epoch:   9%|▊         | 6/70 [00:08<01:39,  1.55s/it]\u001b[A\u001b[A\u001b[A\u001b[A\u001b[A"
          ],
          "name": "stderr"
        },
        {
          "output_type": "stream",
          "text": [
            "  Batch :  60  , Time elapsed :  0:00:01\n",
            "\n",
            "Train loss for epoch:  0.17689094529487193\n",
            "\n",
            "Training epoch took: 0:00:01\n",
            "\n",
            " Micro F1 score for epoch:  0.5894843276036401 \n",
            "\n",
            "  Batch :  30  , Time elapsed :  0:00:01\n"
          ],
          "name": "stdout"
        },
        {
          "output_type": "stream",
          "text": [
            "\n",
            "\n",
            "\n",
            "\n",
            "\n",
            "Epoch:  10%|█         | 7/70 [00:10<01:32,  1.47s/it]\u001b[A\u001b[A\u001b[A\u001b[A\u001b[A"
          ],
          "name": "stderr"
        },
        {
          "output_type": "stream",
          "text": [
            "  Batch :  60  , Time elapsed :  0:00:01\n",
            "\n",
            "Train loss for epoch:  0.1738820867612958\n",
            "\n",
            "Training epoch took: 0:00:01\n",
            "\n",
            " Micro F1 score for epoch:  0.5970338445937381 \n",
            "\n",
            "  Batch :  30  , Time elapsed :  0:00:01\n"
          ],
          "name": "stdout"
        },
        {
          "output_type": "stream",
          "text": [
            "\n",
            "\n",
            "\n",
            "\n",
            "\n",
            "Epoch:  11%|█▏        | 8/70 [00:11<01:27,  1.41s/it]\u001b[A\u001b[A\u001b[A\u001b[A\u001b[A"
          ],
          "name": "stderr"
        },
        {
          "output_type": "stream",
          "text": [
            "  Batch :  60  , Time elapsed :  0:00:01\n",
            "\n",
            "Train loss for epoch:  0.1720010070130229\n",
            "\n",
            "Training epoch took: 0:00:01\n",
            "\n",
            " Micro F1 score for epoch:  0.6078119260438349 \n",
            "\n",
            "  Batch :  30  , Time elapsed :  0:00:01\n"
          ],
          "name": "stdout"
        },
        {
          "output_type": "stream",
          "text": [
            "\n",
            "\n",
            "\n",
            "\n",
            "\n",
            "Epoch:  13%|█▎        | 9/70 [00:12<01:23,  1.38s/it]\u001b[A\u001b[A\u001b[A\u001b[A\u001b[A"
          ],
          "name": "stderr"
        },
        {
          "output_type": "stream",
          "text": [
            "  Batch :  60  , Time elapsed :  0:00:01\n",
            "\n",
            "Train loss for epoch:  0.16979025956243277\n",
            "\n",
            "Training epoch took: 0:00:01\n",
            "\n",
            " Micro F1 score for epoch:  0.589319530362328 \n",
            "\n",
            "  Batch :  30  , Time elapsed :  0:00:01\n"
          ],
          "name": "stdout"
        },
        {
          "output_type": "stream",
          "text": [
            "\n",
            "\n",
            "\n",
            "\n",
            "\n",
            "Epoch:  14%|█▍        | 10/70 [00:14<01:21,  1.36s/it]\u001b[A\u001b[A\u001b[A\u001b[A\u001b[A"
          ],
          "name": "stderr"
        },
        {
          "output_type": "stream",
          "text": [
            "  Batch :  60  , Time elapsed :  0:00:01\n",
            "\n",
            "Train loss for epoch:  0.1675899149850011\n",
            "\n",
            "Training epoch took: 0:00:01\n",
            "\n",
            " Micro F1 score for epoch:  0.6124794745484401 \n",
            "\n",
            "  Batch :  30  , Time elapsed :  0:00:01\n"
          ],
          "name": "stdout"
        },
        {
          "output_type": "stream",
          "text": [
            "\n",
            "\n",
            "\n",
            "\n",
            "\n",
            "Epoch:  16%|█▌        | 11/70 [00:15<01:19,  1.34s/it]\u001b[A\u001b[A\u001b[A\u001b[A\u001b[A"
          ],
          "name": "stderr"
        },
        {
          "output_type": "stream",
          "text": [
            "  Batch :  60  , Time elapsed :  0:00:01\n",
            "\n",
            "Train loss for epoch:  0.16283598053269088\n",
            "\n",
            "Training epoch took: 0:00:01\n",
            "\n",
            " Micro F1 score for epoch:  0.6022052586938083 \n",
            "\n",
            "  Batch :  30  , Time elapsed :  0:00:01\n"
          ],
          "name": "stdout"
        },
        {
          "output_type": "stream",
          "text": [
            "\n",
            "\n",
            "\n",
            "\n",
            "\n",
            "Epoch:  17%|█▋        | 12/70 [00:16<01:16,  1.32s/it]\u001b[A\u001b[A\u001b[A\u001b[A\u001b[A"
          ],
          "name": "stderr"
        },
        {
          "output_type": "stream",
          "text": [
            "  Batch :  60  , Time elapsed :  0:00:01\n",
            "\n",
            "Train loss for epoch:  0.16121619357727468\n",
            "\n",
            "Training epoch took: 0:00:01\n",
            "\n",
            " Micro F1 score for epoch:  0.6067717882899402 \n",
            "\n",
            "  Batch :  30  , Time elapsed :  0:00:01\n"
          ],
          "name": "stdout"
        },
        {
          "output_type": "stream",
          "text": [
            "\n",
            "\n",
            "\n",
            "\n",
            "\n",
            "Epoch:  19%|█▊        | 13/70 [00:18<01:15,  1.32s/it]\u001b[A\u001b[A\u001b[A\u001b[A\u001b[A"
          ],
          "name": "stderr"
        },
        {
          "output_type": "stream",
          "text": [
            "  Batch :  60  , Time elapsed :  0:00:01\n",
            "\n",
            "Train loss for epoch:  0.1587855403777212\n",
            "\n",
            "Training epoch took: 0:00:01\n",
            "\n",
            " Micro F1 score for epoch:  0.6137762806365432 \n",
            "\n",
            "  Batch :  30  , Time elapsed :  0:00:01\n"
          ],
          "name": "stdout"
        },
        {
          "output_type": "stream",
          "text": [
            "\n",
            "\n",
            "\n",
            "\n",
            "\n",
            "Epoch:  20%|██        | 14/70 [00:19<01:13,  1.31s/it]\u001b[A\u001b[A\u001b[A\u001b[A\u001b[A"
          ],
          "name": "stderr"
        },
        {
          "output_type": "stream",
          "text": [
            "  Batch :  60  , Time elapsed :  0:00:01\n",
            "\n",
            "Train loss for epoch:  0.15760346571914852\n",
            "\n",
            "Training epoch took: 0:00:01\n",
            "\n",
            " Micro F1 score for epoch:  0.6117053238793415 \n",
            "\n",
            "  Batch :  30  , Time elapsed :  0:00:01\n"
          ],
          "name": "stdout"
        },
        {
          "output_type": "stream",
          "text": [
            "\n",
            "\n",
            "\n",
            "\n",
            "\n",
            "Epoch:  21%|██▏       | 15/70 [00:20<01:12,  1.32s/it]\u001b[A\u001b[A\u001b[A\u001b[A\u001b[A"
          ],
          "name": "stderr"
        },
        {
          "output_type": "stream",
          "text": [
            "  Batch :  60  , Time elapsed :  0:00:01\n",
            "\n",
            "Train loss for epoch:  0.154107945272699\n",
            "\n",
            "Training epoch took: 0:00:01\n",
            "\n",
            " Micro F1 score for epoch:  0.6144349477682812 \n",
            "\n",
            "  Batch :  30  , Time elapsed :  0:00:01\n",
            "  Batch :  60  , Time elapsed :  0:00:01\n",
            "\n",
            "Train loss for epoch:  0.15089895413257182\n",
            "\n",
            "Training epoch took: 0:00:01\n"
          ],
          "name": "stdout"
        },
        {
          "output_type": "stream",
          "text": [
            "\n",
            "\n",
            "\n",
            "\n",
            "\n",
            "Epoch:  23%|██▎       | 16/70 [00:23<01:29,  1.65s/it]\u001b[A\u001b[A\u001b[A\u001b[A\u001b[A"
          ],
          "name": "stderr"
        },
        {
          "output_type": "stream",
          "text": [
            "\n",
            " Micro F1 score for epoch:  0.6221303948576676 \n",
            "\n",
            "  Batch :  30  , Time elapsed :  0:00:01\n"
          ],
          "name": "stdout"
        },
        {
          "output_type": "stream",
          "text": [
            "\n",
            "\n",
            "\n",
            "\n",
            "\n",
            "Epoch:  24%|██▍       | 17/70 [00:24<01:21,  1.55s/it]\u001b[A\u001b[A\u001b[A\u001b[A\u001b[A"
          ],
          "name": "stderr"
        },
        {
          "output_type": "stream",
          "text": [
            "  Batch :  60  , Time elapsed :  0:00:01\n",
            "\n",
            "Train loss for epoch:  0.14944923156872392\n",
            "\n",
            "Training epoch took: 0:00:01\n",
            "\n",
            " Micro F1 score for epoch:  0.6049964647654961 \n",
            "\n",
            "  Batch :  30  , Time elapsed :  0:00:01\n"
          ],
          "name": "stdout"
        },
        {
          "output_type": "stream",
          "text": [
            "\n",
            "\n",
            "\n",
            "\n",
            "\n",
            "Epoch:  26%|██▌       | 18/70 [00:25<01:16,  1.47s/it]\u001b[A\u001b[A\u001b[A\u001b[A\u001b[A"
          ],
          "name": "stderr"
        },
        {
          "output_type": "stream",
          "text": [
            "  Batch :  60  , Time elapsed :  0:00:01\n",
            "\n",
            "Train loss for epoch:  0.14656096207909286\n",
            "\n",
            "Training epoch took: 0:00:01\n",
            "\n",
            " Micro F1 score for epoch:  0.6064214827787507 \n",
            "\n",
            "  Batch :  30  , Time elapsed :  0:00:01\n"
          ],
          "name": "stdout"
        },
        {
          "output_type": "stream",
          "text": [
            "\n",
            "\n",
            "\n",
            "\n",
            "\n",
            "Epoch:  27%|██▋       | 19/70 [00:26<01:12,  1.42s/it]\u001b[A\u001b[A\u001b[A\u001b[A\u001b[A"
          ],
          "name": "stderr"
        },
        {
          "output_type": "stream",
          "text": [
            "  Batch :  60  , Time elapsed :  0:00:01\n",
            "\n",
            "Train loss for epoch:  0.1455994185525924\n",
            "\n",
            "Training epoch took: 0:00:01\n",
            "\n",
            " Micro F1 score for epoch:  0.6119350694849935 \n",
            "\n",
            "  Batch :  30  , Time elapsed :  0:00:01\n"
          ],
          "name": "stdout"
        },
        {
          "output_type": "stream",
          "text": [
            "\n",
            "\n",
            "\n",
            "\n",
            "\n",
            "Epoch:  29%|██▊       | 20/70 [00:28<01:09,  1.39s/it]\u001b[A\u001b[A\u001b[A\u001b[A\u001b[A"
          ],
          "name": "stderr"
        },
        {
          "output_type": "stream",
          "text": [
            "  Batch :  60  , Time elapsed :  0:00:01\n",
            "\n",
            "Train loss for epoch:  0.13894485274795443\n",
            "\n",
            "Training epoch took: 0:00:01\n",
            "\n",
            " Micro F1 score for epoch:  0.6125 \n",
            "\n",
            "  Batch :  30  , Time elapsed :  0:00:01\n"
          ],
          "name": "stdout"
        },
        {
          "output_type": "stream",
          "text": [
            "\n",
            "\n",
            "\n",
            "\n",
            "\n",
            "Epoch:  30%|███       | 21/70 [00:29<01:08,  1.40s/it]\u001b[A\u001b[A\u001b[A\u001b[A\u001b[A"
          ],
          "name": "stderr"
        },
        {
          "output_type": "stream",
          "text": [
            "  Batch :  60  , Time elapsed :  0:00:01\n",
            "\n",
            "Train loss for epoch:  0.13685098150745034\n",
            "\n",
            "Training epoch took: 0:00:01\n",
            "\n",
            " Micro F1 score for epoch:  0.6130849718293664 \n",
            "\n",
            "  Batch :  30  , Time elapsed :  0:00:01\n"
          ],
          "name": "stdout"
        },
        {
          "output_type": "stream",
          "text": [
            "\n",
            "\n",
            "\n",
            "\n",
            "\n",
            "Epoch:  31%|███▏      | 22/70 [00:31<01:05,  1.37s/it]\u001b[A\u001b[A\u001b[A\u001b[A\u001b[A"
          ],
          "name": "stderr"
        },
        {
          "output_type": "stream",
          "text": [
            "  Batch :  60  , Time elapsed :  0:00:01\n",
            "\n",
            "Train loss for epoch:  0.13365904882084578\n",
            "\n",
            "Training epoch took: 0:00:01\n",
            "\n",
            " Micro F1 score for epoch:  0.6108612936700103 \n",
            "\n",
            "  Batch :  30  , Time elapsed :  0:00:01\n"
          ],
          "name": "stdout"
        },
        {
          "output_type": "stream",
          "text": [
            "\n",
            "\n",
            "\n",
            "\n",
            "\n",
            "Epoch:  33%|███▎      | 23/70 [00:32<01:03,  1.35s/it]\u001b[A\u001b[A\u001b[A\u001b[A\u001b[A"
          ],
          "name": "stderr"
        },
        {
          "output_type": "stream",
          "text": [
            "  Batch :  60  , Time elapsed :  0:00:01\n",
            "\n",
            "Train loss for epoch:  0.13264258007984608\n",
            "\n",
            "Training epoch took: 0:00:01\n",
            "\n",
            " Micro F1 score for epoch:  0.6114239742558325 \n",
            "\n",
            "  Batch :  30  , Time elapsed :  0:00:01\n"
          ],
          "name": "stdout"
        },
        {
          "output_type": "stream",
          "text": [
            "\n",
            "\n",
            "\n",
            "\n",
            "\n",
            "Epoch:  34%|███▍      | 24/70 [00:33<01:01,  1.34s/it]\u001b[A\u001b[A\u001b[A\u001b[A\u001b[A"
          ],
          "name": "stderr"
        },
        {
          "output_type": "stream",
          "text": [
            "  Batch :  60  , Time elapsed :  0:00:01\n",
            "\n",
            "Train loss for epoch:  0.12957116775214672\n",
            "\n",
            "Training epoch took: 0:00:01\n",
            "\n",
            " Micro F1 score for epoch:  0.6177221062398516 \n",
            "\n",
            "  Batch :  30  , Time elapsed :  0:00:01\n"
          ],
          "name": "stdout"
        },
        {
          "output_type": "stream",
          "text": [
            "\n",
            "\n",
            "\n",
            "\n",
            "\n",
            "Epoch:  36%|███▌      | 25/70 [00:34<00:59,  1.32s/it]\u001b[A\u001b[A\u001b[A\u001b[A\u001b[A"
          ],
          "name": "stderr"
        },
        {
          "output_type": "stream",
          "text": [
            "  Batch :  60  , Time elapsed :  0:00:01\n",
            "\n",
            "Train loss for epoch:  0.12524628394749016\n",
            "\n",
            "Training epoch took: 0:00:01\n",
            "\n",
            " Micro F1 score for epoch:  0.6103851046605759 \n",
            "\n",
            "  Batch :  30  , Time elapsed :  0:00:01\n"
          ],
          "name": "stdout"
        },
        {
          "output_type": "stream",
          "text": [
            "\n",
            "\n",
            "\n",
            "\n",
            "\n",
            "Epoch:  37%|███▋      | 26/70 [00:36<00:57,  1.31s/it]\u001b[A\u001b[A\u001b[A\u001b[A\u001b[A"
          ],
          "name": "stderr"
        },
        {
          "output_type": "stream",
          "text": [
            "  Batch :  60  , Time elapsed :  0:00:01\n",
            "\n",
            "Train loss for epoch:  0.1212027749279514\n",
            "\n",
            "Training epoch took: 0:00:01\n",
            "\n",
            " Micro F1 score for epoch:  0.6103971286326271 \n",
            "\n",
            "  Batch :  30  , Time elapsed :  0:00:01\n"
          ],
          "name": "stdout"
        },
        {
          "output_type": "stream",
          "text": [
            "\n",
            "\n",
            "\n",
            "\n",
            "\n",
            "Epoch:  39%|███▊      | 27/70 [00:37<00:56,  1.31s/it]\u001b[A\u001b[A\u001b[A\u001b[A\u001b[A"
          ],
          "name": "stderr"
        },
        {
          "output_type": "stream",
          "text": [
            "  Batch :  60  , Time elapsed :  0:00:01\n",
            "\n",
            "Train loss for epoch:  0.119313700706698\n",
            "\n",
            "Training epoch took: 0:00:01\n",
            "\n",
            " Micro F1 score for epoch:  0.6176957914503479 \n",
            "\n",
            "  Batch :  30  , Time elapsed :  0:00:01\n",
            "  Batch :  60  , Time elapsed :  0:00:01\n",
            "\n",
            "Train loss for epoch:  0.11883400310762227\n",
            "\n",
            "Training epoch took: 0:00:01\n"
          ],
          "name": "stdout"
        },
        {
          "output_type": "stream",
          "text": [
            "\n",
            "\n",
            "\n",
            "\n",
            "\n",
            "Epoch:  40%|████      | 28/70 [00:39<01:08,  1.64s/it]\u001b[A\u001b[A\u001b[A\u001b[A\u001b[A"
          ],
          "name": "stderr"
        },
        {
          "output_type": "stream",
          "text": [
            "\n",
            " Micro F1 score for epoch:  0.6061592097617663 \n",
            "\n",
            "  Batch :  30  , Time elapsed :  0:00:01\n"
          ],
          "name": "stdout"
        },
        {
          "output_type": "stream",
          "text": [
            "\n",
            "\n",
            "\n",
            "\n",
            "\n",
            "Epoch:  41%|████▏     | 29/70 [00:41<01:03,  1.55s/it]\u001b[A\u001b[A\u001b[A\u001b[A\u001b[A"
          ],
          "name": "stderr"
        },
        {
          "output_type": "stream",
          "text": [
            "  Batch :  60  , Time elapsed :  0:00:01\n",
            "\n",
            "Train loss for epoch:  0.11349973431788385\n",
            "\n",
            "Training epoch took: 0:00:01\n",
            "\n",
            " Micro F1 score for epoch:  0.617693169092945 \n",
            "\n",
            "  Batch :  30  , Time elapsed :  0:00:01\n"
          ],
          "name": "stdout"
        },
        {
          "output_type": "stream",
          "text": [
            "\n",
            "\n",
            "\n",
            "\n",
            "\n",
            "Epoch:  43%|████▎     | 30/70 [00:42<00:59,  1.49s/it]\u001b[A\u001b[A\u001b[A\u001b[A\u001b[A"
          ],
          "name": "stderr"
        },
        {
          "output_type": "stream",
          "text": [
            "  Batch :  60  , Time elapsed :  0:00:01\n",
            "\n",
            "Train loss for epoch:  0.10885613528080285\n",
            "\n",
            "Training epoch took: 0:00:01\n",
            "\n",
            " Micro F1 score for epoch:  0.6237971244197894 \n",
            "\n",
            "  Batch :  30  , Time elapsed :  0:00:01\n"
          ],
          "name": "stdout"
        },
        {
          "output_type": "stream",
          "text": [
            "\n",
            "\n",
            "\n",
            "\n",
            "\n",
            "Epoch:  44%|████▍     | 31/70 [00:43<00:55,  1.43s/it]\u001b[A\u001b[A\u001b[A\u001b[A\u001b[A"
          ],
          "name": "stderr"
        },
        {
          "output_type": "stream",
          "text": [
            "  Batch :  60  , Time elapsed :  0:00:01\n",
            "\n",
            "Train loss for epoch:  0.1066751255420968\n",
            "\n",
            "Training epoch took: 0:00:01\n",
            "\n",
            " Micro F1 score for epoch:  0.6146663630152586 \n",
            "\n",
            "  Batch :  30  , Time elapsed :  0:00:01\n"
          ],
          "name": "stdout"
        },
        {
          "output_type": "stream",
          "text": [
            "\n",
            "\n",
            "\n",
            "\n",
            "\n",
            "Epoch:  46%|████▌     | 32/70 [00:45<00:53,  1.41s/it]\u001b[A\u001b[A\u001b[A\u001b[A\u001b[A"
          ],
          "name": "stderr"
        },
        {
          "output_type": "stream",
          "text": [
            "  Batch :  60  , Time elapsed :  0:00:01\n",
            "\n",
            "Train loss for epoch:  0.10450711951125413\n",
            "\n",
            "Training epoch took: 0:00:01\n",
            "\n",
            " Micro F1 score for epoch:  0.621673649643302 \n",
            "\n",
            "  Batch :  30  , Time elapsed :  0:00:01\n"
          ],
          "name": "stdout"
        },
        {
          "output_type": "stream",
          "text": [
            "\n",
            "\n",
            "\n",
            "\n",
            "\n",
            "Epoch:  47%|████▋     | 33/70 [00:46<00:50,  1.37s/it]\u001b[A\u001b[A\u001b[A\u001b[A\u001b[A"
          ],
          "name": "stderr"
        },
        {
          "output_type": "stream",
          "text": [
            "  Batch :  60  , Time elapsed :  0:00:01\n",
            "\n",
            "Train loss for epoch:  0.10126651055179536\n",
            "\n",
            "Training epoch took: 0:00:01\n",
            "\n",
            " Micro F1 score for epoch:  0.6165599370857207 \n",
            "\n",
            "  Batch :  30  , Time elapsed :  0:00:01\n"
          ],
          "name": "stdout"
        },
        {
          "output_type": "stream",
          "text": [
            "\n",
            "\n",
            "\n",
            "\n",
            "\n",
            "Epoch:  49%|████▊     | 34/70 [00:47<00:48,  1.36s/it]\u001b[A\u001b[A\u001b[A\u001b[A\u001b[A"
          ],
          "name": "stderr"
        },
        {
          "output_type": "stream",
          "text": [
            "  Batch :  60  , Time elapsed :  0:00:01\n",
            "\n",
            "Train loss for epoch:  0.09671843389514834\n",
            "\n",
            "Training epoch took: 0:00:01\n",
            "\n",
            " Micro F1 score for epoch:  0.6161286694410077 \n",
            "\n",
            "  Batch :  30  , Time elapsed :  0:00:01\n"
          ],
          "name": "stdout"
        },
        {
          "output_type": "stream",
          "text": [
            "\n",
            "\n",
            "\n",
            "\n",
            "\n",
            "Epoch:  50%|█████     | 35/70 [00:49<00:46,  1.34s/it]\u001b[A\u001b[A\u001b[A\u001b[A\u001b[A"
          ],
          "name": "stderr"
        },
        {
          "output_type": "stream",
          "text": [
            "  Batch :  60  , Time elapsed :  0:00:01\n",
            "\n",
            "Train loss for epoch:  0.09238966670818627\n",
            "\n",
            "Training epoch took: 0:00:01\n",
            "\n",
            " Micro F1 score for epoch:  0.6089957437018291 \n",
            "\n",
            "  Batch :  30  , Time elapsed :  0:00:01\n"
          ],
          "name": "stdout"
        },
        {
          "output_type": "stream",
          "text": [
            "\n",
            "\n",
            "\n",
            "\n",
            "\n",
            "Epoch:  51%|█████▏    | 36/70 [00:50<00:45,  1.33s/it]\u001b[A\u001b[A\u001b[A\u001b[A\u001b[A"
          ],
          "name": "stderr"
        },
        {
          "output_type": "stream",
          "text": [
            "  Batch :  60  , Time elapsed :  0:00:01\n",
            "\n",
            "Train loss for epoch:  0.08991741109639406\n",
            "\n",
            "Training epoch took: 0:00:01\n",
            "\n",
            " Micro F1 score for epoch:  0.6144713261648747 \n",
            "\n",
            "  Batch :  30  , Time elapsed :  0:00:01\n"
          ],
          "name": "stdout"
        },
        {
          "output_type": "stream",
          "text": [
            "\n",
            "\n",
            "\n",
            "\n",
            "\n",
            "Epoch:  53%|█████▎    | 37/70 [00:51<00:43,  1.32s/it]\u001b[A\u001b[A\u001b[A\u001b[A\u001b[A"
          ],
          "name": "stderr"
        },
        {
          "output_type": "stream",
          "text": [
            "  Batch :  60  , Time elapsed :  0:00:01\n",
            "\n",
            "Train loss for epoch:  0.0888107743812725\n",
            "\n",
            "Training epoch took: 0:00:01\n",
            "\n",
            " Micro F1 score for epoch:  0.6162856177497466 \n",
            "\n",
            "  Batch :  30  , Time elapsed :  0:00:01\n"
          ],
          "name": "stdout"
        },
        {
          "output_type": "stream",
          "text": [
            "\n",
            "\n",
            "\n",
            "\n",
            "\n",
            "Epoch:  54%|█████▍    | 38/70 [00:53<00:41,  1.30s/it]\u001b[A\u001b[A\u001b[A\u001b[A\u001b[A"
          ],
          "name": "stderr"
        },
        {
          "output_type": "stream",
          "text": [
            "  Batch :  60  , Time elapsed :  0:00:01\n",
            "\n",
            "Train loss for epoch:  0.08572106203064322\n",
            "\n",
            "Training epoch took: 0:00:01\n",
            "\n",
            " Micro F1 score for epoch:  0.6202672605790647 \n",
            "\n",
            "  Batch :  30  , Time elapsed :  0:00:01\n"
          ],
          "name": "stdout"
        },
        {
          "output_type": "stream",
          "text": [
            "\n",
            "\n",
            "\n",
            "\n",
            "\n",
            "Epoch:  56%|█████▌    | 39/70 [00:54<00:40,  1.31s/it]\u001b[A\u001b[A\u001b[A\u001b[A\u001b[A"
          ],
          "name": "stderr"
        },
        {
          "output_type": "stream",
          "text": [
            "  Batch :  60  , Time elapsed :  0:00:01\n",
            "\n",
            "Train loss for epoch:  0.08181857177987695\n",
            "\n",
            "Training epoch took: 0:00:01\n",
            "\n",
            " Micro F1 score for epoch:  0.6109439429399309 \n",
            "\n",
            "  Batch :  30  , Time elapsed :  0:00:01\n",
            "  Batch :  60  , Time elapsed :  0:00:01\n",
            "\n",
            "Train loss for epoch:  0.07860152889043093\n",
            "\n",
            "Training epoch took: 0:00:01\n"
          ],
          "name": "stdout"
        },
        {
          "output_type": "stream",
          "text": [
            "\n",
            "\n",
            "\n",
            "\n",
            "\n",
            "Epoch:  57%|█████▋    | 40/70 [00:56<00:48,  1.62s/it]\u001b[A\u001b[A\u001b[A\u001b[A\u001b[A"
          ],
          "name": "stderr"
        },
        {
          "output_type": "stream",
          "text": [
            "\n",
            " Micro F1 score for epoch:  0.6151635720601237 \n",
            "\n",
            "  Batch :  30  , Time elapsed :  0:00:01\n"
          ],
          "name": "stdout"
        },
        {
          "output_type": "stream",
          "text": [
            "\n",
            "\n",
            "\n",
            "\n",
            "\n",
            "Epoch:  59%|█████▊    | 41/70 [00:58<00:44,  1.54s/it]\u001b[A\u001b[A\u001b[A\u001b[A\u001b[A"
          ],
          "name": "stderr"
        },
        {
          "output_type": "stream",
          "text": [
            "  Batch :  60  , Time elapsed :  0:00:01\n",
            "\n",
            "Train loss for epoch:  0.0763794535305351\n",
            "\n",
            "Training epoch took: 0:00:01\n",
            "\n",
            " Micro F1 score for epoch:  0.6157293300470535 \n",
            "\n",
            "  Batch :  30  , Time elapsed :  0:00:01\n"
          ],
          "name": "stdout"
        },
        {
          "output_type": "stream",
          "text": [
            "\n",
            "\n",
            "\n",
            "\n",
            "\n",
            "Epoch:  60%|██████    | 42/70 [00:59<00:41,  1.48s/it]\u001b[A\u001b[A\u001b[A\u001b[A\u001b[A"
          ],
          "name": "stderr"
        },
        {
          "output_type": "stream",
          "text": [
            "  Batch :  60  , Time elapsed :  0:00:01\n",
            "\n",
            "Train loss for epoch:  0.07419239263981581\n",
            "\n",
            "Training epoch took: 0:00:01\n",
            "\n",
            " Micro F1 score for epoch:  0.6089203460285362 \n",
            "\n",
            "  Batch :  30  , Time elapsed :  0:00:01\n"
          ],
          "name": "stdout"
        },
        {
          "output_type": "stream",
          "text": [
            "\n",
            "\n",
            "\n",
            "\n",
            "\n",
            "Epoch:  61%|██████▏   | 43/70 [01:00<00:38,  1.43s/it]\u001b[A\u001b[A\u001b[A\u001b[A\u001b[A"
          ],
          "name": "stderr"
        },
        {
          "output_type": "stream",
          "text": [
            "  Batch :  60  , Time elapsed :  0:00:01\n",
            "\n",
            "Train loss for epoch:  0.07127145666163415\n",
            "\n",
            "Training epoch took: 0:00:01\n",
            "\n",
            " Micro F1 score for epoch:  0.6148782093482554 \n",
            "\n",
            "  Batch :  30  , Time elapsed :  0:00:01\n"
          ],
          "name": "stdout"
        },
        {
          "output_type": "stream",
          "text": [
            "\n",
            "\n",
            "\n",
            "\n",
            "\n",
            "Epoch:  63%|██████▎   | 44/70 [01:02<00:36,  1.41s/it]\u001b[A\u001b[A\u001b[A\u001b[A\u001b[A"
          ],
          "name": "stderr"
        },
        {
          "output_type": "stream",
          "text": [
            "  Batch :  60  , Time elapsed :  0:00:01\n",
            "\n",
            "Train loss for epoch:  0.06665390043053776\n",
            "\n",
            "Training epoch took: 0:00:01\n",
            "\n",
            " Micro F1 score for epoch:  0.6148596587782059 \n",
            "\n",
            "  Batch :  30  , Time elapsed :  0:00:01\n"
          ],
          "name": "stdout"
        },
        {
          "output_type": "stream",
          "text": [
            "\n",
            "\n",
            "\n",
            "\n",
            "\n",
            "Epoch:  64%|██████▍   | 45/70 [01:03<00:34,  1.39s/it]\u001b[A\u001b[A\u001b[A\u001b[A\u001b[A"
          ],
          "name": "stderr"
        },
        {
          "output_type": "stream",
          "text": [
            "  Batch :  60  , Time elapsed :  0:00:01\n",
            "\n",
            "Train loss for epoch:  0.0656753450166434\n",
            "\n",
            "Training epoch took: 0:00:01\n",
            "\n",
            " Micro F1 score for epoch:  0.6155218554861731 \n",
            "\n",
            "  Batch :  30  , Time elapsed :  0:00:01\n"
          ],
          "name": "stdout"
        },
        {
          "output_type": "stream",
          "text": [
            "\n",
            "\n",
            "\n",
            "\n",
            "\n",
            "Epoch:  66%|██████▌   | 46/70 [01:04<00:33,  1.38s/it]\u001b[A\u001b[A\u001b[A\u001b[A\u001b[A"
          ],
          "name": "stderr"
        },
        {
          "output_type": "stream",
          "text": [
            "  Batch :  60  , Time elapsed :  0:00:01\n",
            "\n",
            "Train loss for epoch:  0.06331887241685763\n",
            "\n",
            "Training epoch took: 0:00:01\n",
            "\n",
            " Micro F1 score for epoch:  0.615811681101488 \n",
            "\n",
            "  Batch :  30  , Time elapsed :  0:00:01\n"
          ],
          "name": "stdout"
        },
        {
          "output_type": "stream",
          "text": [
            "\n",
            "\n",
            "\n",
            "\n",
            "\n",
            "Epoch:  67%|██████▋   | 47/70 [01:06<00:31,  1.37s/it]\u001b[A\u001b[A\u001b[A\u001b[A\u001b[A"
          ],
          "name": "stderr"
        },
        {
          "output_type": "stream",
          "text": [
            "  Batch :  60  , Time elapsed :  0:00:01\n",
            "\n",
            "Train loss for epoch:  0.061557184148114175\n",
            "\n",
            "Training epoch took: 0:00:01\n",
            "\n",
            " Micro F1 score for epoch:  0.617033276931754 \n",
            "\n",
            "  Batch :  30  , Time elapsed :  0:00:01\n"
          ],
          "name": "stdout"
        },
        {
          "output_type": "stream",
          "text": [
            "\n",
            "\n",
            "\n",
            "\n",
            "\n",
            "Epoch:  69%|██████▊   | 48/70 [01:07<00:29,  1.36s/it]\u001b[A\u001b[A\u001b[A\u001b[A\u001b[A"
          ],
          "name": "stderr"
        },
        {
          "output_type": "stream",
          "text": [
            "  Batch :  60  , Time elapsed :  0:00:01\n",
            "\n",
            "Train loss for epoch:  0.05787440633866936\n",
            "\n",
            "Training epoch took: 0:00:01\n",
            "\n",
            " Micro F1 score for epoch:  0.6204967554262698 \n",
            "\n",
            "  Batch :  30  , Time elapsed :  0:00:01\n"
          ],
          "name": "stdout"
        },
        {
          "output_type": "stream",
          "text": [
            "\n",
            "\n",
            "\n",
            "\n",
            "\n",
            "Epoch:  70%|███████   | 49/70 [01:08<00:28,  1.35s/it]\u001b[A\u001b[A\u001b[A\u001b[A\u001b[A"
          ],
          "name": "stderr"
        },
        {
          "output_type": "stream",
          "text": [
            "  Batch :  60  , Time elapsed :  0:00:01\n",
            "\n",
            "Train loss for epoch:  0.05629783135373145\n",
            "\n",
            "Training epoch took: 0:00:01\n",
            "\n",
            " Micro F1 score for epoch:  0.6208651399491094 \n",
            "\n",
            "  Batch :  30  , Time elapsed :  0:00:01\n"
          ],
          "name": "stdout"
        },
        {
          "output_type": "stream",
          "text": [
            "\n",
            "\n",
            "\n",
            "\n",
            "\n",
            "Epoch:  71%|███████▏  | 50/70 [01:10<00:26,  1.35s/it]\u001b[A\u001b[A\u001b[A\u001b[A\u001b[A"
          ],
          "name": "stderr"
        },
        {
          "output_type": "stream",
          "text": [
            "  Batch :  60  , Time elapsed :  0:00:01\n",
            "\n",
            "Train loss for epoch:  0.05415569897741079\n",
            "\n",
            "Training epoch took: 0:00:01\n",
            "\n",
            " Micro F1 score for epoch:  0.6168390612835057 \n",
            "\n",
            "  Batch :  30  , Time elapsed :  0:00:01\n"
          ],
          "name": "stdout"
        },
        {
          "output_type": "stream",
          "text": [
            "\n",
            "\n",
            "\n",
            "\n",
            "\n",
            "Epoch:  73%|███████▎  | 51/70 [01:11<00:25,  1.35s/it]\u001b[A\u001b[A\u001b[A\u001b[A\u001b[A"
          ],
          "name": "stderr"
        },
        {
          "output_type": "stream",
          "text": [
            "  Batch :  60  , Time elapsed :  0:00:01\n",
            "\n",
            "Train loss for epoch:  0.05239559157053009\n",
            "\n",
            "Training epoch took: 0:00:01\n",
            "\n",
            " Micro F1 score for epoch:  0.6168307967770814 \n",
            "\n",
            "  Batch :  30  , Time elapsed :  0:00:01\n",
            "  Batch :  60  , Time elapsed :  0:00:01\n",
            "\n",
            "Train loss for epoch:  0.05130000808276236\n",
            "\n",
            "Training epoch took: 0:00:01\n"
          ],
          "name": "stdout"
        },
        {
          "output_type": "stream",
          "text": [
            "\n",
            "\n",
            "\n",
            "\n",
            "\n",
            "Epoch:  74%|███████▍  | 52/70 [01:13<00:29,  1.66s/it]\u001b[A\u001b[A\u001b[A\u001b[A\u001b[A"
          ],
          "name": "stderr"
        },
        {
          "output_type": "stream",
          "text": [
            "\n",
            " Micro F1 score for epoch:  0.6148723640399556 \n",
            "\n",
            "  Batch :  30  , Time elapsed :  0:00:01\n"
          ],
          "name": "stdout"
        },
        {
          "output_type": "stream",
          "text": [
            "\n",
            "\n",
            "\n",
            "\n",
            "\n",
            "Epoch:  76%|███████▌  | 53/70 [01:15<00:26,  1.57s/it]\u001b[A\u001b[A\u001b[A\u001b[A\u001b[A"
          ],
          "name": "stderr"
        },
        {
          "output_type": "stream",
          "text": [
            "  Batch :  60  , Time elapsed :  0:00:01\n",
            "\n",
            "Train loss for epoch:  0.04731342714512721\n",
            "\n",
            "Training epoch took: 0:00:01\n",
            "\n",
            " Micro F1 score for epoch:  0.616331096196868 \n",
            "\n",
            "  Batch :  30  , Time elapsed :  0:00:01\n"
          ],
          "name": "stdout"
        },
        {
          "output_type": "stream",
          "text": [
            "\n",
            "\n",
            "\n",
            "\n",
            "\n",
            "Epoch:  77%|███████▋  | 54/70 [01:16<00:23,  1.50s/it]\u001b[A\u001b[A\u001b[A\u001b[A\u001b[A"
          ],
          "name": "stderr"
        },
        {
          "output_type": "stream",
          "text": [
            "  Batch :  60  , Time elapsed :  0:00:01\n",
            "\n",
            "Train loss for epoch:  0.04560654022498056\n",
            "\n",
            "Training epoch took: 0:00:01\n",
            "\n",
            " Micro F1 score for epoch:  0.6112354521038496 \n",
            "\n",
            "  Batch :  30  , Time elapsed :  0:00:01\n"
          ],
          "name": "stdout"
        },
        {
          "output_type": "stream",
          "text": [
            "\n",
            "\n",
            "\n",
            "\n",
            "\n",
            "Epoch:  79%|███████▊  | 55/70 [01:17<00:21,  1.45s/it]\u001b[A\u001b[A\u001b[A\u001b[A\u001b[A"
          ],
          "name": "stderr"
        },
        {
          "output_type": "stream",
          "text": [
            "  Batch :  60  , Time elapsed :  0:00:01\n",
            "\n",
            "Train loss for epoch:  0.04476033983519301\n",
            "\n",
            "Training epoch took: 0:00:01\n",
            "\n",
            " Micro F1 score for epoch:  0.6192060323796851 \n",
            "\n",
            "  Batch :  30  , Time elapsed :  0:00:01\n"
          ],
          "name": "stdout"
        },
        {
          "output_type": "stream",
          "text": [
            "\n",
            "\n",
            "\n",
            "\n",
            "\n",
            "Epoch:  80%|████████  | 56/70 [01:19<00:19,  1.41s/it]\u001b[A\u001b[A\u001b[A\u001b[A\u001b[A"
          ],
          "name": "stderr"
        },
        {
          "output_type": "stream",
          "text": [
            "  Batch :  60  , Time elapsed :  0:00:01\n",
            "\n",
            "Train loss for epoch:  0.04346354864537716\n",
            "\n",
            "Training epoch took: 0:00:01\n",
            "\n",
            " Micro F1 score for epoch:  0.61875 \n",
            "\n",
            "  Batch :  30  , Time elapsed :  0:00:01\n"
          ],
          "name": "stdout"
        },
        {
          "output_type": "stream",
          "text": [
            "\n",
            "\n",
            "\n",
            "\n",
            "\n",
            "Epoch:  81%|████████▏ | 57/70 [01:20<00:18,  1.39s/it]\u001b[A\u001b[A\u001b[A\u001b[A\u001b[A"
          ],
          "name": "stderr"
        },
        {
          "output_type": "stream",
          "text": [
            "  Batch :  60  , Time elapsed :  0:00:01\n",
            "\n",
            "Train loss for epoch:  0.041890138818416744\n",
            "\n",
            "Training epoch took: 0:00:01\n",
            "\n",
            " Micro F1 score for epoch:  0.6190102120974077 \n",
            "\n",
            "  Batch :  30  , Time elapsed :  0:00:01\n"
          ],
          "name": "stdout"
        },
        {
          "output_type": "stream",
          "text": [
            "\n",
            "\n",
            "\n",
            "\n",
            "\n",
            "Epoch:  83%|████████▎ | 58/70 [01:22<00:16,  1.40s/it]\u001b[A\u001b[A\u001b[A\u001b[A\u001b[A"
          ],
          "name": "stderr"
        },
        {
          "output_type": "stream",
          "text": [
            "  Batch :  60  , Time elapsed :  0:00:01\n",
            "\n",
            "Train loss for epoch:  0.03974875085987151\n",
            "\n",
            "Training epoch took: 0:00:01\n",
            "\n",
            " Micro F1 score for epoch:  0.6212661613909942 \n",
            "\n",
            "  Batch :  30  , Time elapsed :  0:00:01\n"
          ],
          "name": "stdout"
        },
        {
          "output_type": "stream",
          "text": [
            "\n",
            "\n",
            "\n",
            "\n",
            "\n",
            "Epoch:  84%|████████▍ | 59/70 [01:23<00:15,  1.40s/it]\u001b[A\u001b[A\u001b[A\u001b[A\u001b[A"
          ],
          "name": "stderr"
        },
        {
          "output_type": "stream",
          "text": [
            "  Batch :  60  , Time elapsed :  0:00:01\n",
            "\n",
            "Train loss for epoch:  0.03807830036384985\n",
            "\n",
            "Training epoch took: 0:00:01\n",
            "\n",
            " Micro F1 score for epoch:  0.6227196418578623 \n",
            "\n",
            "  Batch :  30  , Time elapsed :  0:00:01\n"
          ],
          "name": "stdout"
        },
        {
          "output_type": "stream",
          "text": [
            "\n",
            "\n",
            "\n",
            "\n",
            "\n",
            "Epoch:  86%|████████▌ | 60/70 [01:24<00:13,  1.37s/it]\u001b[A\u001b[A\u001b[A\u001b[A\u001b[A"
          ],
          "name": "stderr"
        },
        {
          "output_type": "stream",
          "text": [
            "  Batch :  60  , Time elapsed :  0:00:01\n",
            "\n",
            "Train loss for epoch:  0.03798324891249649\n",
            "\n",
            "Training epoch took: 0:00:01\n",
            "\n",
            " Micro F1 score for epoch:  0.6191657271702368 \n",
            "\n",
            "  Batch :  30  , Time elapsed :  0:00:01\n"
          ],
          "name": "stdout"
        },
        {
          "output_type": "stream",
          "text": [
            "\n",
            "\n",
            "\n",
            "\n",
            "\n",
            "Epoch:  87%|████████▋ | 61/70 [01:25<00:12,  1.34s/it]\u001b[A\u001b[A\u001b[A\u001b[A\u001b[A"
          ],
          "name": "stderr"
        },
        {
          "output_type": "stream",
          "text": [
            "  Batch :  60  , Time elapsed :  0:00:01\n",
            "\n",
            "Train loss for epoch:  0.03680395529954694\n",
            "\n",
            "Training epoch took: 0:00:01\n",
            "\n",
            " Micro F1 score for epoch:  0.6177451634422949 \n",
            "\n",
            "  Batch :  30  , Time elapsed :  0:00:01\n"
          ],
          "name": "stdout"
        },
        {
          "output_type": "stream",
          "text": [
            "\n",
            "\n",
            "\n",
            "\n",
            "\n",
            "Epoch:  89%|████████▊ | 62/70 [01:27<00:10,  1.33s/it]\u001b[A\u001b[A\u001b[A\u001b[A\u001b[A"
          ],
          "name": "stderr"
        },
        {
          "output_type": "stream",
          "text": [
            "  Batch :  60  , Time elapsed :  0:00:01\n",
            "\n",
            "Train loss for epoch:  0.03499021186144091\n",
            "\n",
            "Training epoch took: 0:00:01\n",
            "\n",
            " Micro F1 score for epoch:  0.6195159686153167 \n",
            "\n",
            "  Batch :  30  , Time elapsed :  0:00:01\n"
          ],
          "name": "stdout"
        },
        {
          "output_type": "stream",
          "text": [
            "\n",
            "\n",
            "\n",
            "\n",
            "\n",
            "Epoch:  90%|█████████ | 63/70 [01:28<00:09,  1.33s/it]\u001b[A\u001b[A\u001b[A\u001b[A\u001b[A"
          ],
          "name": "stderr"
        },
        {
          "output_type": "stream",
          "text": [
            "  Batch :  60  , Time elapsed :  0:00:01\n",
            "\n",
            "Train loss for epoch:  0.03369474518694915\n",
            "\n",
            "Training epoch took: 0:00:01\n",
            "\n",
            " Micro F1 score for epoch:  0.618589025755879 \n",
            "\n",
            "  Batch :  30  , Time elapsed :  0:00:01\n"
          ],
          "name": "stdout"
        },
        {
          "output_type": "stream",
          "text": [
            "\n",
            "\n",
            "\n",
            "\n",
            "\n",
            "Epoch:  91%|█████████▏| 64/70 [01:30<00:08,  1.36s/it]\u001b[A\u001b[A\u001b[A\u001b[A\u001b[A"
          ],
          "name": "stderr"
        },
        {
          "output_type": "stream",
          "text": [
            "  Batch :  60  , Time elapsed :  0:00:01\n",
            "\n",
            "Train loss for epoch:  0.03150355440448038\n",
            "\n",
            "Training epoch took: 0:00:01\n",
            "\n",
            " Micro F1 score for epoch:  0.6132255529358931 \n",
            "\n",
            "  Batch :  30  , Time elapsed :  0:00:02\n"
          ],
          "name": "stdout"
        },
        {
          "output_type": "stream",
          "text": [
            "\n",
            "\n",
            "\n",
            "\n",
            "\n",
            "Epoch:  93%|█████████▎| 65/70 [01:32<00:08,  1.67s/it]\u001b[A\u001b[A\u001b[A\u001b[A\u001b[A"
          ],
          "name": "stderr"
        },
        {
          "output_type": "stream",
          "text": [
            "  Batch :  60  , Time elapsed :  0:00:02\n",
            "\n",
            "Train loss for epoch:  0.03120812852284871\n",
            "\n",
            "Training epoch took: 0:00:02\n",
            "\n",
            " Micro F1 score for epoch:  0.6166177466696771 \n",
            "\n",
            "  Batch :  30  , Time elapsed :  0:00:01\n"
          ],
          "name": "stdout"
        },
        {
          "output_type": "stream",
          "text": [
            "\n",
            "\n",
            "\n",
            "\n",
            "\n",
            "Epoch:  94%|█████████▍| 66/70 [01:33<00:06,  1.59s/it]\u001b[A\u001b[A\u001b[A\u001b[A\u001b[A"
          ],
          "name": "stderr"
        },
        {
          "output_type": "stream",
          "text": [
            "  Batch :  60  , Time elapsed :  0:00:01\n",
            "\n",
            "Train loss for epoch:  0.030795978906098753\n",
            "\n",
            "Training epoch took: 0:00:01\n",
            "\n",
            " Micro F1 score for epoch:  0.6146933273421703 \n",
            "\n",
            "  Batch :  30  , Time elapsed :  0:00:01\n"
          ],
          "name": "stdout"
        },
        {
          "output_type": "stream",
          "text": [
            "\n",
            "\n",
            "\n",
            "\n",
            "\n",
            "Epoch:  96%|█████████▌| 67/70 [01:35<00:04,  1.52s/it]\u001b[A\u001b[A\u001b[A\u001b[A\u001b[A"
          ],
          "name": "stderr"
        },
        {
          "output_type": "stream",
          "text": [
            "  Batch :  60  , Time elapsed :  0:00:01\n",
            "\n",
            "Train loss for epoch:  0.029256133624585345\n",
            "\n",
            "Training epoch took: 0:00:01\n",
            "\n",
            " Micro F1 score for epoch:  0.6207513416815743 \n",
            "\n",
            "  Batch :  30  , Time elapsed :  0:00:01\n"
          ],
          "name": "stdout"
        },
        {
          "output_type": "stream",
          "text": [
            "\n",
            "\n",
            "\n",
            "\n",
            "\n",
            "Epoch:  97%|█████████▋| 68/70 [01:36<00:02,  1.47s/it]\u001b[A\u001b[A\u001b[A\u001b[A\u001b[A"
          ],
          "name": "stderr"
        },
        {
          "output_type": "stream",
          "text": [
            "  Batch :  60  , Time elapsed :  0:00:01\n",
            "\n",
            "Train loss for epoch:  0.027755427494412288\n",
            "\n",
            "Training epoch took: 0:00:01\n",
            "\n",
            " Micro F1 score for epoch:  0.6191226096737907 \n",
            "\n",
            "  Batch :  30  , Time elapsed :  0:00:01\n"
          ],
          "name": "stdout"
        },
        {
          "output_type": "stream",
          "text": [
            "\n",
            "\n",
            "\n",
            "\n",
            "\n",
            "Epoch:  99%|█████████▊| 69/70 [01:37<00:01,  1.44s/it]\u001b[A\u001b[A\u001b[A\u001b[A\u001b[A"
          ],
          "name": "stderr"
        },
        {
          "output_type": "stream",
          "text": [
            "  Batch :  60  , Time elapsed :  0:00:01\n",
            "\n",
            "Train loss for epoch:  0.026977628527674824\n",
            "\n",
            "Training epoch took: 0:00:01\n",
            "\n",
            " Micro F1 score for epoch:  0.6198337950138504 \n",
            "\n",
            "  Batch :  30  , Time elapsed :  0:00:01\n"
          ],
          "name": "stdout"
        },
        {
          "output_type": "stream",
          "text": [
            "\n",
            "\n",
            "\n",
            "\n",
            "\n",
            "Epoch: 100%|██████████| 70/70 [01:39<00:00,  1.43s/it]\u001b[A\u001b[A\u001b[A\u001b[A\u001b[A\n",
            "\n",
            "\n",
            "\n",
            "\n",
            "\u001b[A\u001b[A\u001b[A\u001b[A\u001b[A"
          ],
          "name": "stderr"
        },
        {
          "output_type": "stream",
          "text": [
            "  Batch :  60  , Time elapsed :  0:00:01\n",
            "\n",
            "Train loss for epoch:  0.026749749144073576\n",
            "\n",
            "Training epoch took: 0:00:01\n",
            "\n",
            " Micro F1 score for epoch:  0.6162295449450795 \n",
            "\n"
          ],
          "name": "stdout"
        },
        {
          "output_type": "display_data",
          "data": {
            "image/png": "[encoded data removed]",
            "text/plain": [
              "<Figure size 864x432 with 1 Axes>"
            ]
          },
          "metadata": {
            "tags": []
          }
        },
        {
          "output_type": "display_data",
          "data": {
            "image/png": "[encoded data removed]",
            "text/plain": [
              "<Figure size 864x432 with 1 Axes>"
            ]
          },
          "metadata": {
            "tags": []
          }
        },
        {
          "output_type": "stream",
          "text": [
            "/usr/local/lib/python3.6/dist-packages/sklearn/metrics/_classification.py:1272: UndefinedMetricWarning: Precision and F-score are ill-defined and being set to 0.0 in samples with no predicted labels. Use `zero_division` parameter to control this behavior.\n",
            "  _warn_prf(average, modifier, msg_start, len(result))\n"
          ],
          "name": "stderr"
        },
        {
          "output_type": "execute_result",
          "data": {
            "text/html": [
              "<div>\n",
              "<style scoped>\n",
              "    .dataframe tbody tr th:only-of-type {\n",
              "        vertical-align: middle;\n",
              "    }\n",
              "\n",
              "    .dataframe tbody tr th {\n",
              "        vertical-align: top;\n",
              "    }\n",
              "\n",
              "    .dataframe thead th {\n",
              "        text-align: right;\n",
              "    }\n",
              "</style>\n",
              "<table border=\"1\" class=\"dataframe\">\n",
              "  <thead>\n",
              "    <tr style=\"text-align: right;\">\n",
              "      <th></th>\n",
              "      <th>micro</th>\n",
              "      <th>macro</th>\n",
              "      <th>weighted</th>\n",
              "      <th>samples</th>\n",
              "    </tr>\n",
              "  </thead>\n",
              "  <tbody>\n",
              "    <tr>\n",
              "      <th>Recall</th>\n",
              "      <td>0.613612</td>\n",
              "      <td>0.523774</td>\n",
              "      <td>0.613612</td>\n",
              "      <td>0.663439</td>\n",
              "    </tr>\n",
              "    <tr>\n",
              "      <th>Precision</th>\n",
              "      <td>0.630665</td>\n",
              "      <td>0.586797</td>\n",
              "      <td>0.623179</td>\n",
              "      <td>0.667576</td>\n",
              "    </tr>\n",
              "    <tr>\n",
              "      <th>F_Score</th>\n",
              "      <td>0.622021</td>\n",
              "      <td>0.548512</td>\n",
              "      <td>0.615571</td>\n",
              "      <td>0.622534</td>\n",
              "    </tr>\n",
              "  </tbody>\n",
              "</table>\n",
              "</div>"
            ],
            "text/plain": [
              "              micro     macro  weighted   samples\n",
              "Recall     0.613612  0.523774  0.613612  0.663439\n",
              "Precision  0.630665  0.586797  0.623179  0.667576\n",
              "F_Score    0.622021  0.548512  0.615571  0.622534"
            ]
          },
          "metadata": {
            "tags": []
          },
          "execution_count": 89
        }
      ]
    },
    {
      "cell_type": "code",
      "metadata": {
        "id": "UjuZJn1sQ5fW",
        "colab_type": "code",
        "outputId": "cfde5369-da05-4be7-df33-4352f76ac2ee",
        "colab": {
          "base_uri": "https://localhost:8080/",
          "height": 546
        }
      },
      "source": [
        "print(train_test.class_wise_metrics)"
      ],
      "execution_count": 0,
      "outputs": [
        {
          "output_type": "stream",
          "text": [
            "              precision    recall  f1-score   support\n",
            "\n",
            "      Action       0.73      0.80      0.76      4186\n",
            "   Adventure       0.66      0.68      0.67      2525\n",
            "   Animation       0.51      0.50      0.50      1643\n",
            "   Biography       0.59      0.57      0.58      1568\n",
            "      Comedy       0.58      0.62      0.60      1063\n",
            "       Crime       0.62      0.57      0.59      1085\n",
            " Documentary       0.58      0.51      0.55       857\n",
            "       Drama       0.69      0.67      0.68       858\n",
            "      Family       0.73      0.74      0.73       661\n",
            "     Fantasy       0.47      0.42      0.44       594\n",
            "   Film-Noir       0.70      0.64      0.67       635\n",
            "     History       0.49      0.43      0.46       587\n",
            "      Horror       0.62      0.51      0.56       503\n",
            "       Music       0.50      0.26      0.35       443\n",
            "     Musical       0.59      0.67      0.63       418\n",
            "     Mystery       0.37      0.31      0.34       342\n",
            "     Romance       0.62      0.47      0.54       345\n",
            "      Sci-Fi       0.74      0.61      0.67       299\n",
            "       Short       0.38      0.23      0.29       249\n",
            "       Sport       0.67      0.65      0.66       214\n",
            "    Thriller       0.72      0.67      0.70       202\n",
            "         War       0.50      0.26      0.34       149\n",
            "     Western       0.45      0.27      0.34       101\n",
            "\n",
            "   micro avg       0.63      0.61      0.62     19527\n",
            "   macro avg       0.59      0.52      0.55     19527\n",
            "weighted avg       0.62      0.61      0.62     19527\n",
            " samples avg       0.67      0.66      0.62     19527\n",
            "\n"
          ],
          "name": "stdout"
        }
      ]
    }
  ]
}