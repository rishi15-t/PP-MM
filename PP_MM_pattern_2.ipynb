{
  "nbformat": 4,
  "nbformat_minor": 0,
  "metadata": {
    "colab": {
      "name": "PP-MM_pattern_2.ipynb",
      "provenance": [],
      "collapsed_sections": [],
      "include_colab_link": true
    },
    "kernelspec": {
      "name": "python3",
      "display_name": "Python 3"
    },
    "accelerator": "GPU"
  },
  "cells": [
    {
      "cell_type": "markdown",
      "metadata": {
        "id": "view-in-github",
        "colab_type": "text"
      },
      "source": [
        "<a href=\"https://colab.research.google.com/github/rishi15-t/PP-MM/blob/master/PP_MM_pattern_2.ipynb\" target=\"_parent\"><img src=\"https://colab.research.google.com/assets/colab-badge.svg\" alt=\"Open In Colab\"/></a>"
      ]
    },
    {
      "cell_type": "code",
      "metadata": {
        "id": "TZyaSvq7Poeg",
        "colab_type": "code",
        "outputId": "3fd59368-ffc4-4feb-be70-810fa75f3fee",
        "colab": {
          "base_uri": "https://localhost:8080/",
          "height": 122
        }
      },
      "source": [
        "from google.colab import drive\n",
        "drive.mount('/content/drive')"
      ],
      "execution_count": 0,
      "outputs": [
        {
          "output_type": "stream",
          "text": [
            "Go to this URL in a browser: https://accounts.google.com/o/oauth2/auth?client_id=947318989803-6bn6qk8qdgf4n4g3pfee6491hc0brc4i.apps.googleusercontent.com&redirect_uri=urn%3aietf%3awg%3aoauth%3a2.0%3aoob&response_type=code&scope=email%20https%3a%2f%2fwww.googleapis.com%2fauth%2fdocs.test%20https%3a%2f%2fwww.googleapis.com%2fauth%2fdrive%20https%3a%2f%2fwww.googleapis.com%2fauth%2fdrive.photos.readonly%20https%3a%2f%2fwww.googleapis.com%2fauth%2fpeopleapi.readonly\n",
            "\n",
            "Enter your authorization code:\n",
            "··········\n",
            "Mounted at /content/drive\n"
          ],
          "name": "stdout"
        }
      ]
    },
    {
      "cell_type": "code",
      "metadata": {
        "id": "daviCRfrPsDK",
        "colab_type": "code",
        "colab": {}
      },
      "source": [
        "import pandas as pd\n",
        "dataset = pd.read_pickle('/content/drive/My Drive/dataset/w2v_vgg_embeddings.pkl')"
      ],
      "execution_count": 0,
      "outputs": []
    },
    {
      "cell_type": "code",
      "metadata": {
        "id": "-lq5KYZXPtiv",
        "colab_type": "code",
        "outputId": "b6ff30be-5f58-403c-ebf4-20a89c48b54b",
        "colab": {
          "base_uri": "https://localhost:8080/",
          "height": 51
        }
      },
      "source": [
        "import torch\n",
        "import numpy as np\n",
        "from sklearn.preprocessing import MultiLabelBinarizer\n",
        "from sklearn.model_selection import train_test_split\n",
        "\n",
        "\n",
        "def Train_Test_Val_Split(data , test_data_fraction = 0.3, val_data_fraction = 0.1) :\n",
        "    \n",
        "  \n",
        "    data_genres_one_hot_encoding = pd.DataFrame.from_items(zip(data['genres'].index, data['genres'].values)).T\n",
        "    Label_names = np.array(['Action', 'Adventure', 'Animation', 'Biography', 'Comedy', 'Crime',\n",
        "       'Documentary', 'Drama', 'Family', 'Fantasy', 'Film-Noir',\n",
        "       'History', 'Horror', 'Music', 'Musical', 'Mystery', 'Romance',\n",
        "       'Sci-Fi', 'Short', 'Sport', 'Thriller', 'War', 'Western'])\n",
        "    data_genres_one_hot_encoding.columns = Label_names\n",
        "    Data_train, Data_test, Labels_train, Labels_test = train_test_split(data, data_genres_one_hot_encoding, test_size = test_data_fraction)\n",
        "\n",
        "    Data_train, Data_val, Labels_train, Labels_val = train_test_split(Data_train, Labels_train, test_size = val_data_fraction)\n",
        "\n",
        "    Data_train = Data_train.reset_index(drop=True)\n",
        "    Data_test = Data_test.reset_index(drop=True)\n",
        "    Data_val = Data_val.reset_index(drop=True)\n",
        "    \n",
        "    Labels_train = torch.tensor(Labels_train.values)\n",
        "    Labels_test = torch.tensor(Labels_test.values)\n",
        "    Labels_val = torch.tensor(Labels_val.values)\n",
        "    \n",
        "    return (Data_train, Data_test, Data_val, Labels_train, Labels_test, Labels_val, Label_names)\n",
        "    \n",
        "Data_train, Data_test, Data_val, Labels_train_tensor, Labels_test_tensor, Labels_val_tensor, Label_names = Train_Test_Val_Split(dataset)\n",
        "\n",
        "Data_train_tensor_text = torch.tensor(Data_train['w2v_embeddings'])\n",
        "Data_test_tensor_text = torch.tensor(Data_test['w2v_embeddings'])\n",
        "Data_val_tensor_text = torch.tensor(Data_val['w2v_embeddings'])\n",
        "\n",
        "Data_train_tensor_image = torch.tensor(Data_train['vgg16_embeddings'])\n",
        "Data_test_tensor_image = torch.tensor(Data_test['vgg16_embeddings'])\n",
        "Data_val_tensor_image = torch.tensor(Data_val['vgg16_embeddings'])"
      ],
      "execution_count": 0,
      "outputs": [
        {
          "output_type": "stream",
          "text": [
            "/usr/local/lib/python3.6/dist-packages/ipykernel_launcher.py:10: FutureWarning: from_items is deprecated. Please use DataFrame.from_dict(dict(items), ...) instead. DataFrame.from_dict(OrderedDict(items)) may be used to preserve the key order.\n",
            "  # Remove the CWD from sys.path while we load stuff.\n"
          ],
          "name": "stderr"
        }
      ]
    },
    {
      "cell_type": "code",
      "metadata": {
        "id": "l9oDVZe52y9s",
        "colab_type": "code",
        "outputId": "8357fa9a-fd9f-4d55-a4b0-64fcc4f6eea6",
        "colab": {
          "base_uri": "https://localhost:8080/",
          "height": 460
        }
      },
      "source": [
        "!pip install git+https://github.com/uber/pyro.git"
      ],
      "execution_count": 0,
      "outputs": [
        {
          "output_type": "stream",
          "text": [
            "Collecting git+https://github.com/uber/pyro.git\n",
            "  Cloning https://github.com/uber/pyro.git to /tmp/pip-req-build-h2ssot4p\n",
            "  Running command git clone -q https://github.com/uber/pyro.git /tmp/pip-req-build-h2ssot4p\n",
            "Requirement already satisfied: numpy>=1.7 in /usr/local/lib/python3.6/dist-packages (from pyro-ppl==1.2.1+13b08a7c) (1.17.5)\n",
            "Requirement already satisfied: opt_einsum>=2.3.2 in /usr/local/lib/python3.6/dist-packages (from pyro-ppl==1.2.1+13b08a7c) (3.1.0)\n",
            "Collecting pyro-api>=0.1.1\n",
            "  Downloading https://files.pythonhosted.org/packages/c2/bc/6cdbd1929e32fff62a33592633c2cc0393c7f7739131ccc9c9c4e28ac8dd/pyro_api-0.1.1-py3-none-any.whl\n",
            "Requirement already satisfied: torch>=1.4.0 in /usr/local/lib/python3.6/dist-packages (from pyro-ppl==1.2.1+13b08a7c) (1.4.0)\n",
            "Collecting tqdm>=4.36\n",
            "\u001b[?25l  Downloading https://files.pythonhosted.org/packages/47/55/fd9170ba08a1a64a18a7f8a18f088037316f2a41be04d2fe6ece5a653e8f/tqdm-4.43.0-py2.py3-none-any.whl (59kB)\n",
            "\u001b[K     |████████████████████████████████| 61kB 3.0MB/s \n",
            "\u001b[?25hBuilding wheels for collected packages: pyro-ppl\n",
            "  Building wheel for pyro-ppl (setup.py) ... \u001b[?25l\u001b[?25hdone\n",
            "  Created wheel for pyro-ppl: filename=pyro_ppl-1.2.1+13b08a7c-cp36-none-any.whl size=484817 sha256=6d37f86557422c7a06d69bb7f4f00354610f8f6f1ed79a678b961a7d3659d13e\n",
            "  Stored in directory: /tmp/pip-ephem-wheel-cache-geuixd3r/wheels/3c/10/ed/73d2332a097e2e9dc7d601ca2a99b0b4f9634e393474b78137\n",
            "Successfully built pyro-ppl\n",
            "Installing collected packages: pyro-api, tqdm, pyro-ppl\n",
            "  Found existing installation: tqdm 4.28.1\n",
            "    Uninstalling tqdm-4.28.1:\n",
            "      Successfully uninstalled tqdm-4.28.1\n",
            "Successfully installed pyro-api-0.1.1 pyro-ppl-1.2.1+13b08a7c tqdm-4.43.0\n"
          ],
          "name": "stdout"
        },
        {
          "output_type": "display_data",
          "data": {
            "application/vnd.colab-display-data+json": {
              "pip_warning": {
                "packages": [
                  "tqdm"
                ]
              }
            }
          },
          "metadata": {
            "tags": []
          }
        }
      ]
    },
    {
      "cell_type": "code",
      "metadata": {
        "id": "AgHNfFPtlceS",
        "colab_type": "code",
        "colab": {}
      },
      "source": [
        "import torch\n",
        "from torch.utils.data import IterableDataset, Dataset, DataLoader, TensorDataset, RandomSampler, SequentialSampler\n",
        "from torch import autograd, nn, tanh, optim\n",
        "import torch.nn.functional as F\n",
        "from torch.nn.functional import softplus\n",
        "import numpy as np \n",
        "from pathlib import Path\n",
        "import pyro\n",
        "from pyro import poutine\n",
        "from pyro.distributions import Normal, Categorical, Laplace\n",
        "from pyro.infer import SVI, Trace_ELBO\n",
        "from pyro.optim import Adam, ClippedAdam\n",
        "from tqdm import tqdm, trange\n",
        "import matplotlib.pyplot as plt\n",
        "% matplotlib inline\n",
        "import seaborn as sns\n",
        "import pandas as pd\n",
        "import numpy as np\n",
        "import time\n",
        "import datetime\n",
        "\n",
        "\n",
        "# models\n",
        "\n",
        "class Classify(nn.Module):\n",
        "    # Classifier\n",
        "    def __init__(self, out_dim1, out_dim2):\n",
        "        super(Classify, self).__init__()\n",
        "        self.out_dim1 = out_dim1\n",
        "        self.out_dim2 = out_dim2\n",
        "        self.c0 = nn.Linear(out_dim1, out_dim1)\n",
        "        self.c1 = nn.Linear(out_dim1, out_dim2)\n",
        "\n",
        "    def forward(self, x):\n",
        "        x = x.view(-1, self.out_dim1)\n",
        "        x = self.c0(x)\n",
        "        x = torch.tanh(x)\n",
        "        x = self.c1(x)\n",
        "        x = torch.tanh(x)\n",
        "        return(x)\n",
        "        \n",
        "class GMU(nn.Module):\n",
        "    \n",
        "    def __init__(self, out_dim, textual_dim = 300, visual_dim = 4096, num_classes = 23, aux_loss_multiplier=None):\n",
        "        super(GMU, self).__init__()\n",
        "        self.num_classes = num_classes\n",
        "        self.out_dim = out_dim\n",
        "\n",
        "        self.fc0 = nn.Linear(textual_dim, self.out_dim)\n",
        "        self.fc1 = nn.Linear(visual_dim, self.out_dim)\n",
        "        self.fc2 = nn.Linear(textual_dim + visual_dim, self.out_dim)\n",
        "        self.fc3 = nn.Linear(self.out_dim, self.num_classes)\n",
        "        self.class0 = Classify(self.out_dim, self.out_dim)\n",
        "\n",
        "    def forward(self, x_text, x_visual):\n",
        "\n",
        "        t = self.fc0(x_text)\n",
        "        t = torch.tanh(t)\n",
        "        v = self.fc1(x_visual)\n",
        "        v = torch.tanh(v)\n",
        "\n",
        "        concat = torch.cat((x_text, x_visual), 1)\n",
        "        attend = self.fc2(concat)\n",
        "        attend = torch.sigmoid(attend)\n",
        "        attend = attend * v + (1 - attend) * t\n",
        "        classify_out = self.class0(attend)\n",
        "        out = self.fc3(classify_out)\n",
        "        out = torch.sigmoid(out)\n",
        "\n",
        "        return out\n"
      ],
      "execution_count": 0,
      "outputs": []
    },
    {
      "cell_type": "code",
      "metadata": {
        "id": "HwoH8yxZHHRj",
        "colab_type": "code",
        "colab": {}
      },
      "source": [
        "#Pyro functions\n",
        "\n",
        "\n",
        "def model(x_text, x_visual, x_label):\n",
        "\n",
        "        fc0_prior_w = Laplace(loc=torch.ones_like(net.fc0.weight), scale=torch.ones_like(net.fc0.weight))\n",
        "        fc0_prior_b = Laplace(loc=torch.ones_like(net.fc0.bias), scale=torch.ones_like(net.fc0.bias))\n",
        "        fc1_prior_w = Laplace(loc=torch.ones_like(net.fc1.weight), scale=torch.ones_like(net.fc1.weight))\n",
        "        fc1_prior_b = Laplace(loc=torch.ones_like(net.fc1.bias), scale=torch.ones_like(net.fc1.bias))\n",
        "        fc2_prior_w = Laplace(loc=torch.ones_like(net.fc2.weight), scale=torch.ones_like(net.fc2.weight))\n",
        "        fc2_prior_b = Laplace(loc=torch.ones_like(net.fc2.bias), scale=torch.ones_like(net.fc2.bias))\n",
        "        fc3_prior_w = Laplace(loc=torch.ones_like(net.fc3.weight), scale=torch.ones_like(net.fc3.weight))\n",
        "        fc3_prior_b = Laplace(loc=torch.ones_like(net.fc3.bias), scale=torch.ones_like(net.fc3.bias))\n",
        "\n",
        "        priors = {\n",
        "            'fc0.weight': fc0_prior_w, 'fc0.bias': fc0_prior_b,\n",
        "            'fc1.weight': fc1_prior_w, 'fc1.bias': fc1_prior_b,\n",
        "            'fc2.weight': fc2_prior_w, 'fc2.bias': fc2_prior_b,\n",
        "            'fc3.weight': fc3_prior_w, 'fc3.bias': fc3_prior_b}\n",
        "\n",
        "        lifted_module = pyro.random_module(\"gmu\", net, priors)\n",
        "        lifted_reg_model = lifted_module()\n",
        "        \n",
        "        with pyro.plate(\"map\"):\n",
        "            x_text = x_text\n",
        "            x_visual = x_visual\n",
        "            x_label = x_label\n",
        "        lhat = torch.sigmoid(lifted_reg_model(x_text, x_visual))\n",
        "        pyro.sample(\"obs\", Categorical(logits=lhat), obs=x_label)\n",
        "\n",
        "\n",
        "# pyro guide\n",
        "def guide(x_text, x_visual, x_label):\n",
        "\n",
        "        # First\n",
        "        # weight\n",
        "        fc0_loc_w = torch.randn_like(net.fc0.weight)\n",
        "        fc0_loc_param_w = softplus(pyro.param(\"fc0_loc_w\", fc0_loc_w)) # fix to 0.01\n",
        "        fc0_prior_w = Laplace(loc=fc0_loc_param_w, scale=fc0_loc_param_w)\n",
        "        # bias\n",
        "        fc0_loc_b = torch.randn_like(net.fc0.bias)\n",
        "        fc0_loc_param_b = softplus(pyro.param(\"fc0_loc_b\", fc0_loc_b)) # fix to 0.01\n",
        "        fc0_prior_b = Laplace(loc=fc0_loc_param_b, scale=fc0_loc_param_b)\n",
        "\n",
        "        # Second\n",
        "        # weight\n",
        "        fc1_loc_w = torch.randn_like(net.fc1.weight)\n",
        "        fc1_loc_param_w = softplus(pyro.param(\"fc1_loc_w\", fc1_loc_w))\n",
        "        fc1_prior_w = Laplace(loc=fc1_loc_param_w, scale=fc1_loc_param_w)\n",
        "        # bias\n",
        "        fc1_loc_b = torch.randn_like(net.fc1.bias)\n",
        "        fc1_loc_param_b = softplus(pyro.param(\"fc1_loc_b\", fc1_loc_b))\n",
        "        fc1_prior_b = Laplace(loc=fc1_loc_param_b, scale=fc1_loc_param_b)\n",
        "\n",
        "        # Third\n",
        "        # weight\n",
        "        fc2_loc_w = torch.randn_like(net.fc2.weight)\n",
        "        fc2_loc_param_w = softplus(pyro.param(\"fc2_loc_w\", fc2_loc_w))\n",
        "        fc2_prior_w = Laplace(loc=fc2_loc_param_w, scale=fc2_loc_param_w)\n",
        "        # bias\n",
        "        fc2_loc_b = torch.randn_like(net.fc2.bias)\n",
        "        fc2_loc_param_b = softplus(pyro.param(\"fc2_loc_b\", fc2_loc_b))\n",
        "        fc2_prior_b = Laplace(loc=fc2_loc_param_b, scale=fc2_loc_param_b)\n",
        "\n",
        "        # Fourth\n",
        "        # weight\n",
        "        fc3_loc_w = torch.randn_like(net.fc3.weight)\n",
        "        fc3_loc_param_w = softplus(pyro.param(\"fc3_loc_w\", fc3_loc_w))\n",
        "        fc3_prior_w = Laplace(loc=fc3_loc_param_w, scale=fc3_loc_param_w)\n",
        "        # bias\n",
        "        fc3_loc_b = torch.randn_like(net.fc3.bias)\n",
        "        fc3_loc_param_b = softplus(pyro.param(\"fc3_loc_b\", fc3_loc_b))\n",
        "        fc3_prior_b = Laplace(loc=fc3_loc_param_b, scale=fc3_loc_param_b)\n",
        "\n",
        "        priors = {\n",
        "        'fc0.weight': fc0_prior_w, 'fc0.bias': fc0_prior_b,\n",
        "        'fc1.weight': fc1_prior_w, 'fc1.bias': fc1_prior_b,\n",
        "        'fc2.weight': fc2_prior_w, 'fc2.bias': fc2_prior_b,\n",
        "        'fc3.weight': fc3_prior_w, 'fc3.bias': fc3_prior_b}\n",
        "\n",
        "        lifted_module = pyro.random_module(\"gmu\", net, priors)\n",
        "\n",
        "        with pyro.plate(\"map\"):\n",
        "            x_text = x_text\n",
        "            x_visual = x_visual\n",
        "            x_label = x_label\n",
        "        return lifted_module()\n",
        "\n",
        "\n",
        "# pyro model for auxiliary loss\n",
        "def model_classify(x_text, x_visual, x_label):\n",
        "        \"\"\"\n",
        "        this model is used to add an auxiliary (supervised) loss as described in the\n",
        "        Kingma et al., \"Semi-Supervised Learning with Deep Generative Models\".\n",
        "        \"\"\"\n",
        "        # register all pytorch (sub)modules with pyro\n",
        "        pyro.module(\"gmu\", net)\n",
        "\n",
        "        # inform Pyro that the variables in the batch of xs, ys are conditionally independent\n",
        "        with pyro.plate(\"map\"):\n",
        "            x_label = x_label\n",
        "            # this here is the extra term to yield an auxiliary loss that we do gradient descent on\n",
        "            alpha = net.class0.forward(x)\n",
        "            with pyro.poutine.scale(scale=self.aux_loss_multiplier):\n",
        "                pyro.sample(\"label_aux\", dist.OneHotCategorical(alpha), obs=x_label)\n",
        "    \n",
        "def guide_classify(x_text, x_visual, x_label):\n",
        "        \"\"\"\n",
        "        dummy guide function to accompany model_classify in inference\n",
        "        \"\"\"\n",
        "        pass"
      ],
      "execution_count": 0,
      "outputs": []
    },
    {
      "cell_type": "code",
      "metadata": {
        "id": "iXrSeLOoxkZt",
        "colab_type": "code",
        "colab": {}
      },
      "source": [
        "#Training\n",
        "\n",
        "def SetTrainDataloader_MM(Data_train_tensor_text, Data_train_tensor_image, Labels_train_tensor) :\n",
        "\n",
        "  train_dataset = TensorDataset(Data_train_tensor_text, Data_train_tensor_image, Labels_train_tensor)\n",
        "  train_sampler = RandomSampler(train_dataset)\n",
        "  train_dataloader = DataLoader(train_dataset, sampler=train_sampler, batch_size =  batch_size)\n",
        "  return(train_dataloader)\n",
        "\n",
        "\n",
        "#source: https://mccormickml.com/2019/07/22/BERT-fine-tuning/\n",
        "def Plot_Training_Epoch_Loss(epoch_loss_set) :\n",
        "\n",
        "  sns.set(style='darkgrid')\n",
        "  sns.set(font_scale=1.5)\n",
        "  plt.rcParams[\"figure.figsize\"] = (12,6)\n",
        "  plt.plot( epoch_loss_set, 'b-o')\n",
        "  plt.title(\"Training loss\")\n",
        "  plt.xlabel(\"Epoch\")\n",
        "  plt.ylabel(\"Loss\")\n",
        "  plt.savefig('Training_Epoch_Loss.png',bbox_inches='tight')\n",
        "  plt.show()\n",
        "\n",
        "\n",
        "#source: https://mccormickml.com/2019/07/22/BERT-fine-tuning/\n",
        "def format_time(elapsed):\n",
        "  '''\n",
        "  Takes a time in seconds and returns a string hh:mm:ss\n",
        "  '''\n",
        "  # Round to the nearest second.\n",
        "  elapsed_rounded = int(round((elapsed)))\n",
        "  return str(datetime.timedelta(seconds=elapsed_rounded))\n",
        "\n",
        "\n",
        "def Train() :\n",
        "  \n",
        "  net.cuda()\n",
        "  t0 = time.time() # Measure how long the entire training process takes\n",
        "\n",
        "  for _ in trange( epochs, desc=\"Epoch\"):\n",
        "    \n",
        "    net.train()\n",
        "    epoch_loss = 0\n",
        "    epoch_aux_loss = 0\n",
        "    t1 = time.time() # Measure how long the training epoch takes\n",
        "\n",
        "    for step_num, batch_data in enumerate(train_dataloader):\n",
        "\n",
        "      # Progress update every 30 batches.\n",
        "      if step_num % 30 == 0 and not step_num == 0:\n",
        "        elapsed =  format_time(time.time() - t1)\n",
        "        print('  Batch : ',step_num, ' , Time elapsed : ',elapsed)\n",
        "\n",
        "      samples_text, samples_image, labels = tuple(t.to(device) for t in batch_data)\n",
        "\n",
        "      batch_loss = inference.step(samples_text.float(), samples_image.float(), labels.t())\n",
        "      epoch_loss += batch_loss\n",
        "\n",
        "      #batch_aux_loss = loss_aux.step(samples_text.float(), samples_image.float(), labels.t())\n",
        "      #epoch_aux_loss += batch_aux_loss\n",
        "\n",
        "    avg_epoch_loss = epoch_loss/len( train_dataloader)\n",
        "    print(\"\\nTrain loss for epoch: \",avg_epoch_loss)\n",
        "    print(\"\\nTraining epoch took: {:}\".format( format_time(time.time() - t1)))\n",
        "    epoch_loss_set.append(avg_epoch_loss)\n",
        "\n",
        "    #avg_epoch_aux_loss = epoch_aux_loss/len( train_dataloader)\n",
        "    #epoch_aux_loss_set.append(avg_epoch_aux_los)\n",
        "\n",
        "  print(\"\\nTraining process took: {:}\".format( format_time(time.time() - t0)))\n",
        "  Plot_Training_Epoch_Loss(epoch_loss_set)\n",
        "  #Plot_Training_Epoch_Loss(epoch_aux_loss_set)"
      ],
      "execution_count": 0,
      "outputs": []
    },
    {
      "cell_type": "code",
      "metadata": {
        "id": "Yj8rNWGO_-hW",
        "colab_type": "code",
        "outputId": "40426cdd-27d8-41ae-bced-9251c0405f33",
        "colab": {
          "base_uri": "https://localhost:8080/",
          "height": 1000
        }
      },
      "source": [
        "#Setting hyperparameters\n",
        "\n",
        "net = GMU(out_dim = 512).cuda()\n",
        "label_names = Label_names\n",
        "num_labels = 23\n",
        "batch_size = 512\n",
        "learning_rate = 0.01\n",
        "epochs = 50\n",
        "device = torch.device(\"cuda\" if torch.cuda.is_available() else \"cpu\")\n",
        "results = pd.DataFrame(0, index=['Recall','Precision','F_Score'], columns=['micro', 'macro', 'weighted', 'samples']).astype(float)\n",
        "epoch_loss_set = []\n",
        "epoch_aux_loss_set = []\n",
        "train_dataloader =  SetTrainDataloader_MM(Data_train_tensor_text, Data_train_tensor_image, Labels_train_tensor)\n",
        "\n",
        "# clear param store\n",
        "pyro.clear_param_store()\n",
        "\n",
        "\n",
        "# trainable parameters\n",
        "def count_parameters_trainable(model):\n",
        "    return sum(p.numel() for p in model.parameters() if p.requires_grad)\n",
        "train_param_cnt = count_parameters_trainable(net)\n",
        "print('trainable parameter count', train_param_cnt)\n",
        "\n",
        "# Pyro param dictionary\n",
        "param_dict = pyro.get_param_store().items()\n",
        "print('para_dict', param_dict)\n",
        "\n",
        "for i in param_dict:\n",
        "    print (\"items\", i, param_dict[i])\n",
        "\n",
        "\n",
        "# custom ELBO loss\n",
        "def simple_mc_elbo(model, guide, *args):\n",
        "    guide_trace = poutine.trace(guide).get_trace(*args)\n",
        "    model_trace = poutine.trace(poutine.replay(model, trace=guide_trace)).get_trace(*args)\n",
        "    elbo = model_trace.log_prob_sum() - guide_trace.log_prob_sum()\n",
        "    return -elbo\n",
        "\n",
        "# pyro svi, initialise losses\n",
        "inference = SVI(model, guide, ClippedAdam({\"lr\": learning_rate}), loss=simple_mc_elbo)\n",
        "\n",
        "\n",
        "# pyro auxiliary loss\n",
        "loss_aux = SVI(model_classify, guide_classify, ClippedAdam({\"lr\": learning_rate}), loss=Trace_ELBO())\n",
        "\n",
        "\n",
        "Train()"
      ],
      "execution_count": 0,
      "outputs": [
        {
          "output_type": "stream",
          "text": [
            "\rEpoch:   0%|          | 0/50 [00:00<?, ?it/s]"
          ],
          "name": "stderr"
        },
        {
          "output_type": "stream",
          "text": [
            "trainable parameter count 5040151\n",
            "para_dict <generator object ParamStoreDict.items at 0x7f80aaff0e60>\n"
          ],
          "name": "stdout"
        },
        {
          "output_type": "stream",
          "text": [
            "/usr/local/lib/python3.6/dist-packages/pyro/primitives.py:371: FutureWarning: The `random_module` primitive is deprecated, and will be removed in a future release. Use `pyro.nn.Module` to create Bayesian modules from `torch.nn.Module` instances.\n",
            "  \"modules from `torch.nn.Module` instances.\", FutureWarning)\n",
            "Epoch:   2%|▏         | 1/50 [00:01<01:11,  1.46s/it]"
          ],
          "name": "stderr"
        },
        {
          "output_type": "stream",
          "text": [
            "  Batch :  30  , Time elapsed :  0:00:01\n",
            "\n",
            "Train loss for epoch:  1741386.171875\n",
            "\n",
            "Training epoch took: 0:00:01\n"
          ],
          "name": "stdout"
        },
        {
          "output_type": "stream",
          "text": [
            "\rEpoch:   4%|▍         | 2/50 [00:02<01:02,  1.31s/it]"
          ],
          "name": "stderr"
        },
        {
          "output_type": "stream",
          "text": [
            "  Batch :  30  , Time elapsed :  0:00:01\n",
            "\n",
            "Train loss for epoch:  1251004.671875\n",
            "\n",
            "Training epoch took: 0:00:01\n"
          ],
          "name": "stdout"
        },
        {
          "output_type": "stream",
          "text": [
            "\rEpoch:   6%|▌         | 3/50 [00:04<01:10,  1.50s/it]"
          ],
          "name": "stderr"
        },
        {
          "output_type": "stream",
          "text": [
            "  Batch :  30  , Time elapsed :  0:00:02\n",
            "\n",
            "Train loss for epoch:  875103.90625\n",
            "\n",
            "Training epoch took: 0:00:02\n"
          ],
          "name": "stdout"
        },
        {
          "output_type": "stream",
          "text": [
            "\rEpoch:   8%|▊         | 4/50 [00:05<01:01,  1.35s/it]"
          ],
          "name": "stderr"
        },
        {
          "output_type": "stream",
          "text": [
            "  Batch :  30  , Time elapsed :  0:00:01\n",
            "\n",
            "Train loss for epoch:  600195.015625\n",
            "\n",
            "Training epoch took: 0:00:01\n"
          ],
          "name": "stdout"
        },
        {
          "output_type": "stream",
          "text": [
            "\rEpoch:  10%|█         | 5/50 [00:06<00:55,  1.24s/it]"
          ],
          "name": "stderr"
        },
        {
          "output_type": "stream",
          "text": [
            "  Batch :  30  , Time elapsed :  0:00:01\n",
            "\n",
            "Train loss for epoch:  407109.578125\n",
            "\n",
            "Training epoch took: 0:00:01\n"
          ],
          "name": "stdout"
        },
        {
          "output_type": "stream",
          "text": [
            "\rEpoch:  12%|█▏        | 6/50 [00:07<00:51,  1.17s/it]"
          ],
          "name": "stderr"
        },
        {
          "output_type": "stream",
          "text": [
            "  Batch :  30  , Time elapsed :  0:00:01\n",
            "\n",
            "Train loss for epoch:  275882.796875\n",
            "\n",
            "Training epoch took: 0:00:01\n"
          ],
          "name": "stdout"
        },
        {
          "output_type": "stream",
          "text": [
            "\rEpoch:  14%|█▍        | 7/50 [00:08<00:48,  1.12s/it]"
          ],
          "name": "stderr"
        },
        {
          "output_type": "stream",
          "text": [
            "  Batch :  30  , Time elapsed :  0:00:01\n",
            "\n",
            "Train loss for epoch:  189665.328125\n",
            "\n",
            "Training epoch took: 0:00:01\n"
          ],
          "name": "stdout"
        },
        {
          "output_type": "stream",
          "text": [
            "\rEpoch:  16%|█▌        | 8/50 [00:09<00:45,  1.09s/it]"
          ],
          "name": "stderr"
        },
        {
          "output_type": "stream",
          "text": [
            "  Batch :  30  , Time elapsed :  0:00:01\n",
            "\n",
            "Train loss for epoch:  134538.640625\n",
            "\n",
            "Training epoch took: 0:00:01\n"
          ],
          "name": "stdout"
        },
        {
          "output_type": "stream",
          "text": [
            "\rEpoch:  18%|█▊        | 9/50 [00:11<00:55,  1.36s/it]"
          ],
          "name": "stderr"
        },
        {
          "output_type": "stream",
          "text": [
            "  Batch :  30  , Time elapsed :  0:00:02\n",
            "\n",
            "Train loss for epoch:  100073.421875\n",
            "\n",
            "Training epoch took: 0:00:02\n"
          ],
          "name": "stdout"
        },
        {
          "output_type": "stream",
          "text": [
            "\rEpoch:  20%|██        | 10/50 [00:12<00:49,  1.24s/it]"
          ],
          "name": "stderr"
        },
        {
          "output_type": "stream",
          "text": [
            "  Batch :  30  , Time elapsed :  0:00:01\n",
            "\n",
            "Train loss for epoch:  78885.15625\n",
            "\n",
            "Training epoch took: 0:00:01\n"
          ],
          "name": "stdout"
        },
        {
          "output_type": "stream",
          "text": [
            "\rEpoch:  22%|██▏       | 11/50 [00:13<00:46,  1.19s/it]"
          ],
          "name": "stderr"
        },
        {
          "output_type": "stream",
          "text": [
            "  Batch :  30  , Time elapsed :  0:00:01\n",
            "\n",
            "Train loss for epoch:  65999.203125\n",
            "\n",
            "Training epoch took: 0:00:01\n"
          ],
          "name": "stdout"
        },
        {
          "output_type": "stream",
          "text": [
            "\rEpoch:  24%|██▍       | 12/50 [00:14<00:43,  1.15s/it]"
          ],
          "name": "stderr"
        },
        {
          "output_type": "stream",
          "text": [
            "  Batch :  30  , Time elapsed :  0:00:01\n",
            "\n",
            "Train loss for epoch:  58237.8125\n",
            "\n",
            "Training epoch took: 0:00:01\n"
          ],
          "name": "stdout"
        },
        {
          "output_type": "stream",
          "text": [
            "\rEpoch:  26%|██▌       | 13/50 [00:16<00:51,  1.40s/it]"
          ],
          "name": "stderr"
        },
        {
          "output_type": "stream",
          "text": [
            "  Batch :  30  , Time elapsed :  0:00:02\n",
            "\n",
            "Train loss for epoch:  53578.015625\n",
            "\n",
            "Training epoch took: 0:00:02\n"
          ],
          "name": "stdout"
        },
        {
          "output_type": "stream",
          "text": [
            "\rEpoch:  28%|██▊       | 14/50 [00:17<00:46,  1.28s/it]"
          ],
          "name": "stderr"
        },
        {
          "output_type": "stream",
          "text": [
            "  Batch :  30  , Time elapsed :  0:00:01\n",
            "\n",
            "Train loss for epoch:  50771.640625\n",
            "\n",
            "Training epoch took: 0:00:01\n"
          ],
          "name": "stdout"
        },
        {
          "output_type": "stream",
          "text": [
            "\rEpoch:  30%|███       | 15/50 [00:18<00:42,  1.20s/it]"
          ],
          "name": "stderr"
        },
        {
          "output_type": "stream",
          "text": [
            "  Batch :  30  , Time elapsed :  0:00:01\n",
            "\n",
            "Train loss for epoch:  49173.953125\n",
            "\n",
            "Training epoch took: 0:00:01\n"
          ],
          "name": "stdout"
        },
        {
          "output_type": "stream",
          "text": [
            "\rEpoch:  32%|███▏      | 16/50 [00:19<00:39,  1.15s/it]"
          ],
          "name": "stderr"
        },
        {
          "output_type": "stream",
          "text": [
            "  Batch :  30  , Time elapsed :  0:00:01\n",
            "\n",
            "Train loss for epoch:  48149.625\n",
            "\n",
            "Training epoch took: 0:00:01\n"
          ],
          "name": "stdout"
        },
        {
          "output_type": "stream",
          "text": [
            "\rEpoch:  34%|███▍      | 17/50 [00:20<00:36,  1.12s/it]"
          ],
          "name": "stderr"
        },
        {
          "output_type": "stream",
          "text": [
            "  Batch :  30  , Time elapsed :  0:00:01\n",
            "\n",
            "Train loss for epoch:  47616.015625\n",
            "\n",
            "Training epoch took: 0:00:01\n"
          ],
          "name": "stdout"
        },
        {
          "output_type": "stream",
          "text": [
            "\rEpoch:  36%|███▌      | 18/50 [00:21<00:35,  1.10s/it]"
          ],
          "name": "stderr"
        },
        {
          "output_type": "stream",
          "text": [
            "  Batch :  30  , Time elapsed :  0:00:01\n",
            "\n",
            "Train loss for epoch:  47244.875\n",
            "\n",
            "Training epoch took: 0:00:01\n"
          ],
          "name": "stdout"
        },
        {
          "output_type": "stream",
          "text": [
            "\rEpoch:  38%|███▊      | 19/50 [00:22<00:33,  1.08s/it]"
          ],
          "name": "stderr"
        },
        {
          "output_type": "stream",
          "text": [
            "  Batch :  30  , Time elapsed :  0:00:01\n",
            "\n",
            "Train loss for epoch:  47135.953125\n",
            "\n",
            "Training epoch took: 0:00:01\n"
          ],
          "name": "stdout"
        },
        {
          "output_type": "stream",
          "text": [
            "\rEpoch:  40%|████      | 20/50 [00:23<00:32,  1.07s/it]"
          ],
          "name": "stderr"
        },
        {
          "output_type": "stream",
          "text": [
            "  Batch :  30  , Time elapsed :  0:00:01\n",
            "\n",
            "Train loss for epoch:  46975.34375\n",
            "\n",
            "Training epoch took: 0:00:01\n"
          ],
          "name": "stdout"
        },
        {
          "output_type": "stream",
          "text": [
            "\rEpoch:  42%|████▏     | 21/50 [00:24<00:30,  1.04s/it]"
          ],
          "name": "stderr"
        },
        {
          "output_type": "stream",
          "text": [
            "  Batch :  30  , Time elapsed :  0:00:01\n",
            "\n",
            "Train loss for epoch:  46876.75\n",
            "\n",
            "Training epoch took: 0:00:01\n"
          ],
          "name": "stdout"
        },
        {
          "output_type": "stream",
          "text": [
            "\rEpoch:  44%|████▍     | 22/50 [00:25<00:28,  1.02s/it]"
          ],
          "name": "stderr"
        },
        {
          "output_type": "stream",
          "text": [
            "  Batch :  30  , Time elapsed :  0:00:01\n",
            "\n",
            "Train loss for epoch:  46871.03125\n",
            "\n",
            "Training epoch took: 0:00:01\n"
          ],
          "name": "stdout"
        },
        {
          "output_type": "stream",
          "text": [
            "\rEpoch:  46%|████▌     | 23/50 [00:26<00:27,  1.02s/it]"
          ],
          "name": "stderr"
        },
        {
          "output_type": "stream",
          "text": [
            "  Batch :  30  , Time elapsed :  0:00:01\n",
            "\n",
            "Train loss for epoch:  46857.8125\n",
            "\n",
            "Training epoch took: 0:00:01\n"
          ],
          "name": "stdout"
        },
        {
          "output_type": "stream",
          "text": [
            "\rEpoch:  48%|████▊     | 24/50 [00:27<00:26,  1.02s/it]"
          ],
          "name": "stderr"
        },
        {
          "output_type": "stream",
          "text": [
            "  Batch :  30  , Time elapsed :  0:00:01\n",
            "\n",
            "Train loss for epoch:  46894.109375\n",
            "\n",
            "Training epoch took: 0:00:01\n"
          ],
          "name": "stdout"
        },
        {
          "output_type": "stream",
          "text": [
            "\rEpoch:  50%|█████     | 25/50 [00:28<00:25,  1.00s/it]"
          ],
          "name": "stderr"
        },
        {
          "output_type": "stream",
          "text": [
            "  Batch :  30  , Time elapsed :  0:00:01\n",
            "\n",
            "Train loss for epoch:  46803.53125\n",
            "\n",
            "Training epoch took: 0:00:01\n"
          ],
          "name": "stdout"
        },
        {
          "output_type": "stream",
          "text": [
            "\rEpoch:  52%|█████▏    | 26/50 [00:30<00:30,  1.29s/it]"
          ],
          "name": "stderr"
        },
        {
          "output_type": "stream",
          "text": [
            "  Batch :  30  , Time elapsed :  0:00:02\n",
            "\n",
            "Train loss for epoch:  46858.90625\n",
            "\n",
            "Training epoch took: 0:00:02\n"
          ],
          "name": "stdout"
        },
        {
          "output_type": "stream",
          "text": [
            "\rEpoch:  54%|█████▍    | 27/50 [00:31<00:27,  1.21s/it]"
          ],
          "name": "stderr"
        },
        {
          "output_type": "stream",
          "text": [
            "  Batch :  30  , Time elapsed :  0:00:01\n",
            "\n",
            "Train loss for epoch:  46865.21875\n",
            "\n",
            "Training epoch took: 0:00:01\n"
          ],
          "name": "stdout"
        },
        {
          "output_type": "stream",
          "text": [
            "\rEpoch:  56%|█████▌    | 28/50 [00:32<00:25,  1.15s/it]"
          ],
          "name": "stderr"
        },
        {
          "output_type": "stream",
          "text": [
            "  Batch :  30  , Time elapsed :  0:00:01\n",
            "\n",
            "Train loss for epoch:  46873.046875\n",
            "\n",
            "Training epoch took: 0:00:01\n"
          ],
          "name": "stdout"
        },
        {
          "output_type": "stream",
          "text": [
            "\rEpoch:  58%|█████▊    | 29/50 [00:33<00:23,  1.11s/it]"
          ],
          "name": "stderr"
        },
        {
          "output_type": "stream",
          "text": [
            "  Batch :  30  , Time elapsed :  0:00:01\n",
            "\n",
            "Train loss for epoch:  46882.015625\n",
            "\n",
            "Training epoch took: 0:00:01\n"
          ],
          "name": "stdout"
        },
        {
          "output_type": "stream",
          "text": [
            "\rEpoch:  60%|██████    | 30/50 [00:34<00:21,  1.07s/it]"
          ],
          "name": "stderr"
        },
        {
          "output_type": "stream",
          "text": [
            "  Batch :  30  , Time elapsed :  0:00:01\n",
            "\n",
            "Train loss for epoch:  46848.296875\n",
            "\n",
            "Training epoch took: 0:00:01\n"
          ],
          "name": "stdout"
        },
        {
          "output_type": "stream",
          "text": [
            "\rEpoch:  62%|██████▏   | 31/50 [00:35<00:19,  1.05s/it]"
          ],
          "name": "stderr"
        },
        {
          "output_type": "stream",
          "text": [
            "  Batch :  30  , Time elapsed :  0:00:01\n",
            "\n",
            "Train loss for epoch:  46858.390625\n",
            "\n",
            "Training epoch took: 0:00:01\n"
          ],
          "name": "stdout"
        },
        {
          "output_type": "stream",
          "text": [
            "\rEpoch:  64%|██████▍   | 32/50 [00:37<00:24,  1.34s/it]"
          ],
          "name": "stderr"
        },
        {
          "output_type": "stream",
          "text": [
            "  Batch :  30  , Time elapsed :  0:00:02\n",
            "\n",
            "Train loss for epoch:  46837.421875\n",
            "\n",
            "Training epoch took: 0:00:02\n"
          ],
          "name": "stdout"
        },
        {
          "output_type": "stream",
          "text": [
            "\rEpoch:  66%|██████▌   | 33/50 [00:38<00:20,  1.23s/it]"
          ],
          "name": "stderr"
        },
        {
          "output_type": "stream",
          "text": [
            "  Batch :  30  , Time elapsed :  0:00:01\n",
            "\n",
            "Train loss for epoch:  46875.28125\n",
            "\n",
            "Training epoch took: 0:00:01\n"
          ],
          "name": "stdout"
        },
        {
          "output_type": "stream",
          "text": [
            "\rEpoch:  68%|██████▊   | 34/50 [00:39<00:18,  1.16s/it]"
          ],
          "name": "stderr"
        },
        {
          "output_type": "stream",
          "text": [
            "  Batch :  30  , Time elapsed :  0:00:01\n",
            "\n",
            "Train loss for epoch:  46936.4375\n",
            "\n",
            "Training epoch took: 0:00:01\n"
          ],
          "name": "stdout"
        },
        {
          "output_type": "stream",
          "text": [
            "\rEpoch:  70%|███████   | 35/50 [00:40<00:16,  1.11s/it]"
          ],
          "name": "stderr"
        },
        {
          "output_type": "stream",
          "text": [
            "  Batch :  30  , Time elapsed :  0:00:01\n",
            "\n",
            "Train loss for epoch:  46882.171875\n",
            "\n",
            "Training epoch took: 0:00:01\n"
          ],
          "name": "stdout"
        },
        {
          "output_type": "stream",
          "text": [
            "\rEpoch:  72%|███████▏  | 36/50 [00:42<00:19,  1.37s/it]"
          ],
          "name": "stderr"
        },
        {
          "output_type": "stream",
          "text": [
            "  Batch :  30  , Time elapsed :  0:00:02\n",
            "\n",
            "Train loss for epoch:  46915.703125\n",
            "\n",
            "Training epoch took: 0:00:02\n"
          ],
          "name": "stdout"
        },
        {
          "output_type": "stream",
          "text": [
            "\rEpoch:  74%|███████▍  | 37/50 [00:43<00:16,  1.25s/it]"
          ],
          "name": "stderr"
        },
        {
          "output_type": "stream",
          "text": [
            "  Batch :  30  , Time elapsed :  0:00:01\n",
            "\n",
            "Train loss for epoch:  46922.59375\n",
            "\n",
            "Training epoch took: 0:00:01\n"
          ],
          "name": "stdout"
        },
        {
          "output_type": "stream",
          "text": [
            "\rEpoch:  76%|███████▌  | 38/50 [00:44<00:14,  1.19s/it]"
          ],
          "name": "stderr"
        },
        {
          "output_type": "stream",
          "text": [
            "  Batch :  30  , Time elapsed :  0:00:01\n",
            "\n",
            "Train loss for epoch:  46903.28125\n",
            "\n",
            "Training epoch took: 0:00:01\n"
          ],
          "name": "stdout"
        },
        {
          "output_type": "stream",
          "text": [
            "\rEpoch:  78%|███████▊  | 39/50 [00:45<00:12,  1.12s/it]"
          ],
          "name": "stderr"
        },
        {
          "output_type": "stream",
          "text": [
            "  Batch :  30  , Time elapsed :  0:00:01\n",
            "\n",
            "Train loss for epoch:  46952.46875\n",
            "\n",
            "Training epoch took: 0:00:01\n"
          ],
          "name": "stdout"
        },
        {
          "output_type": "stream",
          "text": [
            "\rEpoch:  80%|████████  | 40/50 [00:46<00:10,  1.08s/it]"
          ],
          "name": "stderr"
        },
        {
          "output_type": "stream",
          "text": [
            "  Batch :  30  , Time elapsed :  0:00:01\n",
            "\n",
            "Train loss for epoch:  46904.28125\n",
            "\n",
            "Training epoch took: 0:00:01\n"
          ],
          "name": "stdout"
        },
        {
          "output_type": "stream",
          "text": [
            "\rEpoch:  82%|████████▏ | 41/50 [00:47<00:09,  1.05s/it]"
          ],
          "name": "stderr"
        },
        {
          "output_type": "stream",
          "text": [
            "  Batch :  30  , Time elapsed :  0:00:01\n",
            "\n",
            "Train loss for epoch:  46911.796875\n",
            "\n",
            "Training epoch took: 0:00:01\n"
          ],
          "name": "stdout"
        },
        {
          "output_type": "stream",
          "text": [
            "\rEpoch:  84%|████████▍ | 42/50 [00:48<00:08,  1.04s/it]"
          ],
          "name": "stderr"
        },
        {
          "output_type": "stream",
          "text": [
            "  Batch :  30  , Time elapsed :  0:00:01\n",
            "\n",
            "Train loss for epoch:  46948.203125\n",
            "\n",
            "Training epoch took: 0:00:01\n"
          ],
          "name": "stdout"
        },
        {
          "output_type": "stream",
          "text": [
            "\rEpoch:  86%|████████▌ | 43/50 [00:49<00:07,  1.03s/it]"
          ],
          "name": "stderr"
        },
        {
          "output_type": "stream",
          "text": [
            "  Batch :  30  , Time elapsed :  0:00:01\n",
            "\n",
            "Train loss for epoch:  46943.078125\n",
            "\n",
            "Training epoch took: 0:00:01\n"
          ],
          "name": "stdout"
        },
        {
          "output_type": "stream",
          "text": [
            "\rEpoch:  88%|████████▊ | 44/50 [00:50<00:06,  1.03s/it]"
          ],
          "name": "stderr"
        },
        {
          "output_type": "stream",
          "text": [
            "  Batch :  30  , Time elapsed :  0:00:01\n",
            "\n",
            "Train loss for epoch:  46931.328125\n",
            "\n",
            "Training epoch took: 0:00:01\n"
          ],
          "name": "stdout"
        },
        {
          "output_type": "stream",
          "text": [
            "\rEpoch:  90%|█████████ | 45/50 [00:51<00:05,  1.03s/it]"
          ],
          "name": "stderr"
        },
        {
          "output_type": "stream",
          "text": [
            "  Batch :  30  , Time elapsed :  0:00:01\n",
            "\n",
            "Train loss for epoch:  46939.921875\n",
            "\n",
            "Training epoch took: 0:00:01\n"
          ],
          "name": "stdout"
        },
        {
          "output_type": "stream",
          "text": [
            "\rEpoch:  92%|█████████▏| 46/50 [00:52<00:04,  1.02s/it]"
          ],
          "name": "stderr"
        },
        {
          "output_type": "stream",
          "text": [
            "  Batch :  30  , Time elapsed :  0:00:01\n",
            "\n",
            "Train loss for epoch:  46928.703125\n",
            "\n",
            "Training epoch took: 0:00:01\n"
          ],
          "name": "stdout"
        },
        {
          "output_type": "stream",
          "text": [
            "\rEpoch:  94%|█████████▍| 47/50 [00:53<00:03,  1.03s/it]"
          ],
          "name": "stderr"
        },
        {
          "output_type": "stream",
          "text": [
            "  Batch :  30  , Time elapsed :  0:00:01\n",
            "\n",
            "Train loss for epoch:  46888.15625\n",
            "\n",
            "Training epoch took: 0:00:01\n"
          ],
          "name": "stdout"
        },
        {
          "output_type": "stream",
          "text": [
            "\rEpoch:  96%|█████████▌| 48/50 [00:54<00:02,  1.05s/it]"
          ],
          "name": "stderr"
        },
        {
          "output_type": "stream",
          "text": [
            "  Batch :  30  , Time elapsed :  0:00:01\n",
            "\n",
            "Train loss for epoch:  46930.078125\n",
            "\n",
            "Training epoch took: 0:00:01\n"
          ],
          "name": "stdout"
        },
        {
          "output_type": "stream",
          "text": [
            "\rEpoch:  98%|█████████▊| 49/50 [00:56<00:01,  1.34s/it]"
          ],
          "name": "stderr"
        },
        {
          "output_type": "stream",
          "text": [
            "  Batch :  30  , Time elapsed :  0:00:02\n",
            "\n",
            "Train loss for epoch:  46940.984375\n",
            "\n",
            "Training epoch took: 0:00:02\n"
          ],
          "name": "stdout"
        },
        {
          "output_type": "stream",
          "text": [
            "\rEpoch: 100%|██████████| 50/50 [00:57<00:00,  1.24s/it]"
          ],
          "name": "stderr"
        },
        {
          "output_type": "stream",
          "text": [
            "  Batch :  30  , Time elapsed :  0:00:01\n",
            "\n",
            "Train loss for epoch:  46931.828125\n",
            "\n",
            "Training epoch took: 0:00:01\n",
            "\n",
            "Training process took: 0:00:58\n"
          ],
          "name": "stdout"
        },
        {
          "output_type": "stream",
          "text": [
            "\n"
          ],
          "name": "stderr"
        },
        {
          "output_type": "display_data",
          "data": {
            "image/png": "[encoded data removed]",
            "text/plain": [
              "<Figure size 864x432 with 1 Axes>"
            ]
          },
          "metadata": {
            "tags": []
          }
        }
      ]
    }
  ]
}