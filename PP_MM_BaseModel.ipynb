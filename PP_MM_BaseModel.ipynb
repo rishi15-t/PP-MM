{
  "nbformat": 4,
  "nbformat_minor": 0,
  "metadata": {
    "colab": {
      "name": "PP_MM_BaseModel.ipynb",
      "provenance": [],
      "collapsed_sections": [],
      "include_colab_link": true
    },
    "kernelspec": {
      "name": "python3",
      "display_name": "Python 3"
    },
    "accelerator": "GPU"
  },
  "cells": [
    {
      "cell_type": "markdown",
      "metadata": {
        "id": "view-in-github",
        "colab_type": "text"
      },
      "source": [
        "<a href=\"https://colab.research.google.com/github/rishi15-t/PP-MM/blob/master/PP_MM_BaseModel.ipynb\" target=\"_parent\"><img src=\"https://colab.research.google.com/assets/colab-badge.svg\" alt=\"Open In Colab\"/></a>"
      ]
    },
    {
      "cell_type": "code",
      "metadata": {
        "id": "TZyaSvq7Poeg",
        "colab_type": "code",
        "outputId": "a07021ae-a878-4514-a258-9dcdbcd1c791",
        "colab": {
          "base_uri": "https://localhost:8080/",
          "height": 122
        }
      },
      "source": [
        "from google.colab import drive\n",
        "drive.mount('/content/drive')"
      ],
      "execution_count": 0,
      "outputs": [
        {
          "output_type": "stream",
          "text": [
            "Go to this URL in a browser: https://accounts.google.com/o/oauth2/auth?client_id=947318989803-6bn6qk8qdgf4n4g3pfee6491hc0brc4i.apps.googleusercontent.com&redirect_uri=urn%3aietf%3awg%3aoauth%3a2.0%3aoob&response_type=code&scope=email%20https%3a%2f%2fwww.googleapis.com%2fauth%2fdocs.test%20https%3a%2f%2fwww.googleapis.com%2fauth%2fdrive%20https%3a%2f%2fwww.googleapis.com%2fauth%2fdrive.photos.readonly%20https%3a%2f%2fwww.googleapis.com%2fauth%2fpeopleapi.readonly\n",
            "\n",
            "Enter your authorization code:\n",
            "··········\n",
            "Mounted at /content/drive\n"
          ],
          "name": "stdout"
        }
      ]
    },
    {
      "cell_type": "code",
      "metadata": {
        "id": "daviCRfrPsDK",
        "colab_type": "code",
        "colab": {}
      },
      "source": [
        "import pandas as pd\n",
        "dataset = pd.read_pickle('/content/drive/My Drive/dataset/w2v_vgg_embeddings.pkl')"
      ],
      "execution_count": 0,
      "outputs": []
    },
    {
      "cell_type": "code",
      "metadata": {
        "id": "-lq5KYZXPtiv",
        "colab_type": "code",
        "outputId": "8191fcbd-24d4-401c-e308-28a014a719fa",
        "colab": {
          "base_uri": "https://localhost:8080/",
          "height": 71
        }
      },
      "source": [
        "from sklearn.preprocessing import MultiLabelBinarizer\n",
        "from sklearn.model_selection import train_test_split\n",
        "import torch\n",
        "from torch.nn import BCEWithLogitsLoss\n",
        "from torch.nn.functional import softplus\n",
        "from torch.utils.data import TensorDataset, DataLoader, RandomSampler, SequentialSampler\n",
        "from torch.nn.utils import clip_grad_norm_\n",
        "from torch.optim import AdamW\n",
        "from torch.optim import Adam\n",
        "from torch.optim.lr_scheduler import StepLR\n",
        "from tqdm import tqdm, trange\n",
        "from sklearn import metrics\n",
        "#!pip install transformers\n",
        "#from transformers import get_linear_schedule_with_warmup\n",
        "import matplotlib.pyplot as plt\n",
        "% matplotlib inline\n",
        "import seaborn as sns\n",
        "import pandas as pd\n",
        "import numpy as np\n",
        "import time\n",
        "import datetime\n",
        "#!pip install git+https://github.com/uber/pyro.git\n",
        "import pyro\n",
        "from pyro import poutine\n",
        "from pyro.distributions import Normal, Categorical, Laplace\n",
        "from pyro.infer import SVI, Trace_ELBO, TraceEnum_ELBO\n",
        "from pyro.optim import ClippedAdam\n",
        "\n",
        "\n",
        "def Train_Test_Val_Split(data , test_data_fraction = 0.3, val_data_fraction = 0.1) :\n",
        "    \n",
        "  \n",
        "    data_genres_one_hot_encoding = pd.DataFrame.from_items(zip(data['genres'].index, data['genres'].values)).T\n",
        "    Label_names = np.array(['Action', 'Adventure', 'Animation', 'Biography', 'Comedy', 'Crime',\n",
        "       'Documentary', 'Drama', 'Family', 'Fantasy', 'Film-Noir',\n",
        "       'History', 'Horror', 'Music', 'Musical', 'Mystery', 'Romance',\n",
        "       'Sci-Fi', 'Short', 'Sport', 'Thriller', 'War', 'Western'])\n",
        "    data_genres_one_hot_encoding.columns = Label_names\n",
        "    Data_train, Data_test, Labels_train, Labels_test = train_test_split(data, data_genres_one_hot_encoding, test_size = test_data_fraction)\n",
        "\n",
        "    Data_train, Data_val, Labels_train, Labels_val = train_test_split(Data_train, Labels_train, test_size = val_data_fraction)\n",
        "\n",
        "    Data_train = Data_train.reset_index(drop=True)\n",
        "    Data_test = Data_test.reset_index(drop=True)\n",
        "    Data_val = Data_val.reset_index(drop=True)\n",
        "    \n",
        "    Labels_train = torch.tensor(Labels_train.values)\n",
        "    Labels_test = torch.tensor(Labels_test.values)\n",
        "    Labels_val = torch.tensor(Labels_val.values)\n",
        "    \n",
        "    return (Data_train, Data_test, Data_val, Labels_train, Labels_test, Labels_val, Label_names)\n",
        "    \n",
        "Data_train, Data_test, Data_val, Labels_train_tensor, Labels_test_tensor, Labels_val_tensor, Label_names = Train_Test_Val_Split(dataset)\n",
        "\n",
        "Data_train_tensor_text = torch.tensor(Data_train['w2v_embeddings'])\n",
        "Data_test_tensor_text = torch.tensor(Data_test['w2v_embeddings'])\n",
        "Data_val_tensor_text = torch.tensor(Data_val['w2v_embeddings'])\n",
        "\n",
        "Data_train_tensor_image = torch.tensor(Data_train['vgg16_embeddings'])\n",
        "Data_test_tensor_image = torch.tensor(Data_test['vgg16_embeddings'])\n",
        "Data_val_tensor_image = torch.tensor(Data_val['vgg16_embeddings'])"
      ],
      "execution_count": 0,
      "outputs": [
        {
          "output_type": "stream",
          "text": [
            "/usr/local/lib/python3.6/dist-packages/ipykernel_launcher.py:10: FutureWarning: from_items is deprecated. Please use DataFrame.from_dict(dict(items), ...) instead. DataFrame.from_dict(OrderedDict(items)) may be used to preserve the key order.\n",
            "  # Remove the CWD from sys.path while we load stuff.\n"
          ],
          "name": "stderr"
        }
      ]
    },
    {
      "cell_type": "code",
      "metadata": {
        "id": "C6TKgAUIPwu0",
        "colab_type": "code",
        "colab": {}
      },
      "source": [
        "#Neural networks\n",
        "\n",
        "\n",
        "#source: https://github.com/Duncanswilson/maxout-pytorch/blob/master/maxout_pytorch.ipynb\n",
        "class ListModule(object):\n",
        "    def __init__(self, module, prefix, *args):\n",
        "        self.module = module\n",
        "        self.prefix = prefix\n",
        "        self.num_module = 0\n",
        "        for new_module in args:\n",
        "            self.append(new_module)\n",
        "\n",
        "    def append(self, new_module):\n",
        "        if not isinstance(new_module, nn.Module):\n",
        "            raise ValueError('Not a Module')\n",
        "        else:\n",
        "            self.module.add_module(self.prefix + str(self.num_module), new_module)\n",
        "            self.num_module += 1\n",
        "\n",
        "    def __len__(self):\n",
        "        return self.num_module\n",
        "\n",
        "    def __getitem__(self, i):\n",
        "        if i < 0 or i >= self.num_module:\n",
        "            raise IndexError('Out of bound')\n",
        "        return getattr(self.module, self.prefix + str(i))\n",
        "\n",
        "\n",
        "class Maxout_MLP(nn.Module):\n",
        "    \n",
        "    def __init__(self, hidden_layer_size1, hidden_layer_size2, dropout, num_labels = 23, num_maxout_units=2):\n",
        "        \n",
        "        super(Maxout_MLP, self).__init__()\n",
        "        self.fc1_list = ListModule(self, \"fc1_\")\n",
        "        self.fc2_list = ListModule(self, \"fc2_\")\n",
        "        self.hidden_layer_size1 = hidden_layer_size1\n",
        "        self.hidden_layer_size2 = hidden_layer_size2\n",
        "        for _ in range(num_maxout_units):\n",
        "            self.fc1_list.append(nn.Linear(self.hidden_layer_size1, self.hidden_layer_size2))\n",
        "            self.fc2_list.append(nn.Linear(self.hidden_layer_size2, self.hidden_layer_size2))\n",
        "        self.dropout = nn.Dropout(p=dropout)\n",
        "        self.sigmoid = torch.nn.Sigmoid()\n",
        "        self.linear = torch.nn.Linear(self.hidden_layer_size2, num_labels)  #PP_MM_pattern 4\n",
        "\n",
        "        self.bn0 = nn.BatchNorm1d(self.hidden_layer_size1)\n",
        "        self.bn1 = nn.BatchNorm1d(self.hidden_layer_size2)\n",
        "        self.bn2 = nn.BatchNorm1d(self.hidden_layer_size2)\n",
        "\n",
        "    def forward(self, x): \n",
        "        \n",
        "        x = x.view(-1, self.hidden_layer_size1)\n",
        "        x = self.bn0(x)\n",
        "        x = self.maxout(x, self.fc1_list)\n",
        "        x = self.bn1(x)\n",
        "        x = self.dropout(x)\n",
        "        x = self.maxout(x, self.fc2_list)\n",
        "        x = self.bn2(x)\n",
        "        '''\n",
        "        PP_MM_pattern 4\n",
        "        '''\n",
        "        logits = self.linear(x)  \n",
        "        if(self.training) :     \n",
        "            return logits\n",
        "        else :\n",
        "            output = self.sigmoid(logits)\n",
        "            return output\n",
        "\n",
        "    def maxout(self, x, layer_list):\n",
        "        \n",
        "        max_output = layer_list[0](x)\n",
        "        for _, layer in enumerate(layer_list, start=1):\n",
        "            max_output = torch.max(max_output, layer(x))\n",
        "        return max_output\n",
        "\n",
        "\n",
        "class GMU(nn.Module):\n",
        "\n",
        "    def __init__(self, num_maxout_units = 2, hidden_layer_size = 512, text_embeddings_size = 300, img_embeddings_size = 4096, num_labels = 23, hidden_activation = None, dropout = 0.1):\n",
        "\n",
        "        super(GMU, self).__init__()\n",
        "        self.num_labels = num_labels\n",
        "        self.hidden_layer_size = hidden_layer_size\n",
        "\n",
        "        self.linear_h_text = torch.nn.Linear(text_embeddings_size, self.hidden_layer_size)\n",
        "        self.linear_h_image = torch.nn.Linear(img_embeddings_size, self.hidden_layer_size)\n",
        "        self.linear_z = torch.nn.Linear(text_embeddings_size + img_embeddings_size, self.hidden_layer_size)\n",
        "\n",
        "        self.mm0 = nn.Linear(self.hidden_layer_size, self.hidden_layer_size) #PP_MM_pattern 4\n",
        "        self.mm1 = nn.Linear(self.hidden_layer_size, self.hidden_layer_size) #PP_MM_pattern 4\n",
        "\n",
        "        \n",
        "        self.tanh = torch.nn.Tanh()\n",
        "        self.sigmoid = torch.nn.Sigmoid()\n",
        "        self.dropout = nn.Dropout(p=dropout)\n",
        "\n",
        "        self.bn0 = nn.BatchNorm1d(img_embeddings_size)\n",
        "        self.bn1 = nn.BatchNorm1d(text_embeddings_size)\n",
        "        self.bn2 = nn.BatchNorm1d(text_embeddings_size + img_embeddings_size)\n",
        "\n",
        "    def forward(self, text_embeddings, image_embeddings):\n",
        "        \n",
        "        image_embeddings = self.bn0(image_embeddings)\n",
        "        image_h = self.linear_h_image(image_embeddings)\n",
        "        image_h = self.tanh(image_h)\n",
        "\n",
        "        text_embeddings = self.bn1(text_embeddings)\n",
        "        text_h = self.linear_h_text(text_embeddings)\n",
        "        text_h = self.tanh(text_h)\n",
        "\n",
        "        concat = torch.cat((image_embeddings, text_embeddings), 1)\n",
        "        concat = self.bn2(concat)\n",
        "        z = self.linear_z(concat)\n",
        "        z = self.sigmoid(z)\n",
        "        gmu_output = z*image_h + (1-z)*text_h\n",
        "        \n",
        "        gmu_output = self.mm0(gmu_output)  #PP_MM_pattern 4\n",
        "        gmu_output = self.tanh(gmu_output)  #PP_MM_pattern 4\n",
        "        gmu_output = self.mm1(gmu_output)  #PP_MM_pattern 4\n",
        "        attendout = self.tanh(gmu_output)  #PP_MM_pattern 4\n",
        "\n",
        "        return attendout  #PP_MM_pattern 4   \n",
        "\n",
        "\n",
        " "
      ],
      "execution_count": 0,
      "outputs": []
    },
    {
      "cell_type": "code",
      "metadata": {
        "id": "A_T5rrAgfJE4",
        "colab_type": "code",
        "colab": {}
      },
      "source": [
        "# Pyro module defined only over the GMU NN\n",
        "\n",
        "class GMU_Pyro():\n",
        "\n",
        "    def __init__(self, model):\n",
        "\n",
        "        self.model = model \n",
        "    \n",
        "    def gmu_model(self, text_embeddings, image_embeddings, labels):\n",
        "\n",
        "        #pyro.module(\"self.model\", self)\n",
        "        #global x_label\n",
        "\n",
        "        linear_h_text_prior_w = Laplace(loc=torch.ones_like(self.model.linear_h_text.weight), scale=torch.ones_like(self.model.linear_h_text.weight))\n",
        "        linear_h_text_prior_b = Laplace(loc=torch.ones_like(self.model.linear_h_text.bias), scale=torch.ones_like(self.model.linear_h_text.bias))\n",
        "        linear_h_image_prior_w = Laplace(loc=torch.ones_like(self.model.linear_h_image.weight), scale=torch.ones_like(self.model.linear_h_image.weight))\n",
        "        linear_h_image_prior_b = Laplace(loc=torch.ones_like(self.model.linear_h_image.bias), scale=torch.ones_like(self.model.linear_h_image.bias))\n",
        "        linear_z_prior_w = Laplace(loc=torch.ones_like(self.model.linear_z.weight), scale=torch.ones_like(self.model.linear_z.weight))\n",
        "        linear_z_prior_b = Laplace(loc=torch.ones_like(self.model.linear_z.bias), scale=torch.ones_like(self.model.linear_z.bias))\n",
        "\n",
        "        mm0_prior_w = Laplace(loc=torch.ones_like(self.model.mm0.weight), scale=torch.ones_like(self.model.mm0.weight))\n",
        "        mm0_prior_b = Laplace(loc=torch.ones_like(self.model.mm0.bias), scale=torch.ones_like(self.model.mm0.bias))\n",
        "        mm1_prior_w = Laplace(loc=torch.ones_like(self.model.mm1.weight), scale=torch.ones_like(self.model.mm1.weight))\n",
        "        mm1_prior_b = Laplace(loc=torch.ones_like(self.model.mm1.bias), scale=torch.ones_like(self.model.mm1.bias))\n",
        "\n",
        "        priors = {\n",
        "            'linear_h_text.weight': linear_h_text_prior_w, 'linear_h_text.bias': linear_h_text_prior_b,\n",
        "            'linear_h_image.weight': linear_h_image_prior_w, 'linear_h_image.bias': linear_h_image_prior_b,\n",
        "            'linear_z.weight': linear_z_prior_w, 'linear_z.bias': linear_z_prior_b,\n",
        "            'mm0.weight': mm0_prior_w, 'mm0.bias': mm0_prior_b,\n",
        "            'mm1.weight': mm1_prior_w, 'mm1.bias': mm1_prior_b}\n",
        "\n",
        "        lifted_module = pyro.random_module(\"module\", self.model, priors)\n",
        "        lifted_reg_model = lifted_module()\n",
        "\n",
        "        lhat = torch.sigmoid(lifted_reg_model(text_embeddings, image_embeddings))\n",
        "        pyro.sample(\"obs\", Categorical(logits=lhat), obs=labels)\n",
        "\n",
        "    \n",
        "    def gmu_guide(self, text_embeddings, image_embeddings, labels):\n",
        "\n",
        "        #pyro.module(\"self.model\", self)\n",
        "\n",
        "        # linear_h_text\n",
        "        # weight\n",
        "        lwlinear_h_text = torch.empty_like(self.model.linear_h_text.weight)\n",
        "        swlinear_h_text = torch.empty_like(self.model.linear_h_text.weight)\n",
        "        torch.nn.init.normal_(lwlinear_h_text, std=0.01)\n",
        "        torch.nn.init.normal_(swlinear_h_text, std=0.1)\n",
        "        linear_h_text_loc_param_w_l = pyro.param(\"linear_h_text_loc_w_l\", lwlinear_h_text)\n",
        "        linear_h_text_loc_param_w_s = softplus(pyro.param(\"linear_h_text_loc_w_s\", swlinear_h_text))\n",
        "        linear_h_text_prior_w = Laplace(loc=linear_h_text_loc_param_w_l, scale=linear_h_text_loc_param_w_s)\n",
        "        # bias\n",
        "        lblinear_h_text = torch.empty_like(self.model.linear_h_text.bias)\n",
        "        sblinear_h_text = torch.empty_like(self.model.linear_h_text.bias)\n",
        "        torch.nn.init.normal_(lblinear_h_text, std=0.01)\n",
        "        torch.nn.init.normal_(sblinear_h_text, std=0.1)\n",
        "        linear_h_text_loc_param_b_l = pyro.param(\"linear_h_text_loc_b_l\", lblinear_h_text)\n",
        "        linear_h_text_loc_param_b_s = softplus(pyro.param(\"linear_h_text_loc_b_s\", sblinear_h_text))\n",
        "        linear_h_text_prior_b = Laplace(loc=linear_h_text_loc_param_b_l, scale=linear_h_text_loc_param_b_s)\n",
        "\n",
        "        # linear_h_image\n",
        "        # weight\n",
        "        lwlinear_h_image = torch.empty_like(self.model.linear_h_image.weight)\n",
        "        swlinear_h_image = torch.empty_like(self.model.linear_h_image.weight)\n",
        "        torch.nn.init.normal_(lwlinear_h_image, std=0.01)\n",
        "        torch.nn.init.normal_(swlinear_h_image, std=0.1)\n",
        "        linear_h_image_loc_param_w_l = pyro.param(\"linear_h_image_loc_w_l\", lwlinear_h_image)\n",
        "        linear_h_image_loc_param_w_s = softplus(pyro.param(\"linear_h_image_loc_w_s\", swlinear_h_image))\n",
        "        linear_h_image_prior_w = Laplace(loc=linear_h_image_loc_param_w_l, scale=linear_h_image_loc_param_w_s)\n",
        "        # bias\n",
        "        lblinear_h_image = torch.empty_like(self.model.linear_h_image.bias)\n",
        "        sblinear_h_image = torch.empty_like(self.model.linear_h_image.bias)\n",
        "        torch.nn.init.normal_(lblinear_h_image, std=0.01)\n",
        "        torch.nn.init.normal_(sblinear_h_image, std=0.1)\n",
        "        linear_h_image_loc_param_b_l = pyro.param(\"linear_h_image_loc_b_l\", lblinear_h_image)\n",
        "        linear_h_image_loc_param_b_s = softplus(pyro.param(\"linear_h_image_loc_b_s\", sblinear_h_image))\n",
        "        linear_h_image_prior_b = Laplace(loc=linear_h_image_loc_param_b_l, scale=linear_h_image_loc_param_b_s)\n",
        "\n",
        "        # linear_z\n",
        "        # weight\n",
        "        lwlinear_z = torch.empty_like(self.model.linear_z.weight)\n",
        "        swlinear_z = torch.empty_like(self.model.linear_z.weight)\n",
        "        torch.nn.init.normal_(lwlinear_z, std=0.01)\n",
        "        torch.nn.init.normal_(swlinear_z, std=0.1)\n",
        "        linear_z_loc_param_w_l = pyro.param(\"linear_z_loc_w_l\", lwlinear_z)\n",
        "        linear_z_loc_param_w_s = softplus(pyro.param(\"linear_z_loc_w_s\", swlinear_z))\n",
        "        linear_z_prior_w = Laplace(loc=linear_z_loc_param_w_l, scale=linear_z_loc_param_w_s)\n",
        "        # bias\n",
        "        lblinear_z = torch.empty_like(self.model.linear_z.bias)\n",
        "        sblinear_z = torch.empty_like(self.model.linear_z.bias)\n",
        "        torch.nn.init.normal_(lblinear_z, std=0.01)\n",
        "        torch.nn.init.normal_(sblinear_z, std=0.1)\n",
        "        linear_z_loc_param_b_l = pyro.param(\"linear_z_loc_b_l\", lblinear_z)\n",
        "        linear_z_loc_param_b_s = softplus(pyro.param(\"linear_z_loc_b_s\", sblinear_z))\n",
        "        linear_z_prior_b = Laplace(loc=linear_z_loc_param_b_l, scale=linear_z_loc_param_b_s)\n",
        "\n",
        "        # mm0\n",
        "        # weight\n",
        "        lwmm0 = torch.empty_like(self.model.mm0.weight)\n",
        "        swmm0 = torch.empty_like(self.model.mm0.weight)\n",
        "        torch.nn.init.normal_(lwmm0, std=0.01)\n",
        "        torch.nn.init.normal_(swmm0, std=0.1)\n",
        "        mm0_loc_param_w_l = pyro.param(\"mm0_loc_w_l\", lwmm0)\n",
        "        mm0_loc_param_w_s = softplus(pyro.param(\"mm0_loc_w_s\", swmm0))\n",
        "        mm0_prior_w = Laplace(loc=mm0_loc_param_w_l, scale=mm0_loc_param_w_s)\n",
        "        # bias\n",
        "        lbmm0 = torch.empty_like(self.model.mm0.bias)\n",
        "        sbmm0 = torch.empty_like(self.model.mm0.bias)\n",
        "        torch.nn.init.normal_(lbmm0, std=0.01)\n",
        "        torch.nn.init.normal_(sbmm0, std=0.1)\n",
        "        mm0_loc_param_b_l = pyro.param(\"mm0_loc_b_l\", lbmm0)\n",
        "        mm0_loc_param_b_s = softplus(pyro.param(\"mm0_loc_b_s\", sbmm0))\n",
        "        mm0_prior_b = Laplace(loc=mm0_loc_param_b_l, scale=mm0_loc_param_b_s)\n",
        "\n",
        "        # mm1\n",
        "        # weight\n",
        "        lwmm1 = torch.empty_like(self.model.mm1.weight)\n",
        "        swmm1 = torch.empty_like(self.model.mm1.weight)\n",
        "        torch.nn.init.normal_(lwmm1, std=0.01)\n",
        "        torch.nn.init.normal_(swmm1, std=0.1)\n",
        "        mm1_loc_param_w_l = pyro.param(\"mm1_loc_w_l\", lwmm1)\n",
        "        mm1_loc_param_w_s = softplus(pyro.param(\"mm1_loc_w_s\", swmm1))\n",
        "        mm1_prior_w = Laplace(loc=mm1_loc_param_w_l, scale=mm1_loc_param_w_s)\n",
        "        # bias\n",
        "        lbmm1 = torch.empty_like(self.model.mm1.bias)\n",
        "        sbmm1 = torch.empty_like(self.model.mm1.bias)\n",
        "        torch.nn.init.normal_(lbmm1, std=0.01)\n",
        "        torch.nn.init.normal_(sbmm1, std=0.1)\n",
        "        mm1_loc_param_b_l = pyro.param(\"mm1_loc_b_l\", lbmm1)\n",
        "        mm1_loc_param_b_s = softplus(pyro.param(\"mm1_loc_b_s\", sbmm1))\n",
        "        mm1_prior_b = Laplace(loc=mm1_loc_param_b_l, scale=mm1_loc_param_b_s)\n",
        "\n",
        "        priors = {\n",
        "        'linear_h_text.weight': linear_h_text_prior_w, 'linear_h_text.bias': linear_h_text_prior_b,\n",
        "        'linear_h_image.weight': linear_h_image_prior_w, 'linear_h_image.bias': linear_h_image_prior_b,\n",
        "        'linear_z.weight': linear_z_prior_w, 'linear_z.bias': linear_z_prior_b,\n",
        "        'mm0.weight': mm0_prior_w, 'mm0.bias': mm0_prior_b,\n",
        "        'mm1.weight': mm1_prior_w, 'mm1.bias': mm1_prior_b}\n",
        "\n",
        "        lifted_module = pyro.random_module(\"module\", self.model, priors)\n",
        "\n",
        "        return lifted_module()    "
      ],
      "execution_count": 0,
      "outputs": []
    },
    {
      "cell_type": "code",
      "metadata": {
        "id": "SV4XuUhWPy-V",
        "colab_type": "code",
        "colab": {}
      },
      "source": [
        "#Train-Validation-Test\n",
        "\n",
        "class Training_Testing_MM():\n",
        "\n",
        "    def __init__(self, Data_train_tensor_text, Data_train_tensor_image, Labels_train_tensor, \n",
        "                 Data_test_tensor_text, Data_test_tensor_image, Labels_test_tensor, \n",
        "                 Data_val_tensor_text, Data_val_tensor_image, Labels_val_tensor,\n",
        "                 Label_names = None, hidden_layer_size = 512, num_maxout_units = 2, weight_decay= 0.1, scheduler_step_size = 30, scheduler_lr_fraction = 0.8,\n",
        "                 hidden_activation = \"tanh\", batch_size = 32, epochs = 10, sigmoid_thresh = 0.2, learning_rate = 2e-5, num_labels = 23, dropout = 0.1, max_norm = 5):\n",
        "\n",
        "\n",
        "      self.gmu = GMU(num_maxout_units = num_maxout_units, hidden_layer_size = hidden_layer_size, hidden_activation = hidden_activation, dropout = dropout).cuda()\n",
        "      self.mlp = Maxout_MLP(hidden_layer_size, hidden_layer_size, dropout = dropout, num_labels = num_labels, num_maxout_units = num_maxout_units).cuda()\n",
        "      self.pyro = GMU_Pyro(model = self.gmu)\n",
        "      self.inference = SVI(self.pyro.gmu_model, self.pyro.gmu_guide, ClippedAdam({\"lr\": learning_rate}), loss = self.simple_mc_elbo)\n",
        "        \n",
        "      self.label_names = Label_names\n",
        "      self.num_labels = num_labels\n",
        "      self.batch_size = batch_size\n",
        "      self.learning_rate = learning_rate\n",
        "      self.max_norm = max_norm\n",
        "      self.epochs = epochs\n",
        "      self.sigmoid_thresh = sigmoid_thresh\n",
        "      self.scheduler_step_size = scheduler_step_size\n",
        "      self.scheduler_lr_fraction = scheduler_lr_fraction\n",
        "      self.weight_decay = weight_decay\n",
        "      self.optimizer = self.SetOptimizer()\n",
        "      self.device = torch.device(\"cuda\" if torch.cuda.is_available() else \"cpu\")\n",
        "      self.results = pd.DataFrame(0, index=['Recall','Precision','F_Score'], columns=['micro', 'macro', 'weighted', 'samples']).astype(float)\n",
        "      self.epoch_loss_set = []\n",
        "      self.epoch_gmu_loss_set = []\n",
        "      self.train_dataloader = self.SetTrainDataloader_MM(Data_train_tensor_text, Data_train_tensor_image, Labels_train_tensor)\n",
        "      self.test_dataloader = self.SetTestDataloader_MM(Data_test_tensor_text, Data_test_tensor_image, Labels_test_tensor) \n",
        "      self.scheduler = self.SetScheduler()\n",
        "\n",
        "      self.val_accuracy_set = [] \n",
        "      self.val_dataloader = self.SetValDataloader_MM(Data_val_tensor_text, Data_val_tensor_image, Labels_val_tensor)\n",
        "      self.class_wise_metrics = None\n",
        "      self.predictions = None\n",
        "\n",
        "\n",
        "    # custom Elbo\n",
        "    def simple_mc_elbo(self, model, guide, *args):\n",
        "      guide_trace = poutine.trace(guide).get_trace(*args)\n",
        "      model_trace = poutine.trace(poutine.replay(model, trace=guide_trace)).get_trace(*args)\n",
        "      elbo = model_trace.log_prob_sum() - guide_trace.log_prob_sum()\n",
        "      return -elbo\n",
        "\n",
        "\n",
        "    def SetOptimizer(self) :\n",
        "\n",
        "      optimizer = AdamW(self.mlp.parameters(), lr=self.learning_rate,  eps = 1e-6, weight_decay=self.weight_decay)\n",
        "      #optimizer = Adam(self.mlp.parameters(), lr=self.learning_rate,  eps = 1e-6, weight_decay=self.weight_decay)\n",
        "      return(optimizer)\n",
        "\n",
        "    \n",
        "\n",
        "    def SetScheduler(self) :\n",
        "\n",
        "      '''\n",
        "      scheduler = get_linear_schedule_with_warmup(self.optimizer, num_warmup_steps = 10, \n",
        "                                                 num_training_steps = self.epochs*len(self.train_dataloader))\n",
        "      '''\n",
        "      scheduler = StepLR(self.optimizer, step_size = self.scheduler_step_size, gamma = self.scheduler_lr_fraction)\n",
        "      return(scheduler) \n",
        "\n",
        "\n",
        "\n",
        "    def Get_Metrics(self, actual, predicted) :\n",
        "\n",
        "      #acc = metrics.accuracy_score(actual, predicted)\n",
        "      #hamming = metrics.hamming_loss(actual, predicted)\n",
        "      #(metrics.roc_auc_score(actual, predicted, average=average)\n",
        "      averages = ('micro', 'macro', 'weighted', 'samples')\n",
        "      for average in averages:\n",
        "          precision, recall, fscore, _ = metrics.precision_recall_fscore_support(actual, predicted, average=average)\n",
        "          self.results[average]['Recall'] += recall\n",
        "          self.results[average]['Precision'] += precision\n",
        "          self.results[average]['F_Score'] += fscore\n",
        "\n",
        "\n",
        "\n",
        "    #source: https://mccormickml.com/2019/07/22/BERT-fine-tuning/\n",
        "    def Plot_Training_Epoch_Loss(self) :\n",
        "\n",
        "      sns.set(style='darkgrid')\n",
        "      sns.set(font_scale=1.5)\n",
        "      plt.rcParams[\"figure.figsize\"] = (12,6)\n",
        "      plt.plot(self.epoch_loss_set, 'b-o')\n",
        "      plt.title(\"Training loss\")\n",
        "      plt.xlabel(\"Epoch\")\n",
        "      plt.ylabel(\"Loss\")\n",
        "      plt.savefig('Training_Epoch_Loss.png',bbox_inches='tight')\n",
        "      plt.show()\n",
        "\n",
        "\n",
        "    def Plot_Training_Epoch_SVI_Loss(self) :\n",
        "\n",
        "      sns.set(style='darkgrid')\n",
        "      sns.set(font_scale=1.5)\n",
        "      plt.rcParams[\"figure.figsize\"] = (12,6)\n",
        "      plt.plot(self.epoch_gmu_loss_set, 'b-o')\n",
        "      plt.title(\"Training loss (SVI)\")\n",
        "      plt.xlabel(\"Epoch\")\n",
        "      plt.ylabel(\"Loss\")\n",
        "      plt.savefig('Training_Epoch_SVI_Loss.png',bbox_inches='tight')\n",
        "      plt.show()\n",
        "\n",
        "    \n",
        "    def Plot_Training_Epoch_Accuracy(self) :\n",
        "\n",
        "      sns.set(style='darkgrid')\n",
        "      sns.set(font_scale=1.5)\n",
        "      plt.rcParams[\"figure.figsize\"] = (12,6)\n",
        "      plt.plot(self.val_accuracy_set, 'b-o')\n",
        "      plt.title(\"Micro F1 Score\")\n",
        "      plt.xlabel(\"Epoch\")\n",
        "      plt.ylabel(\"Validation Accuracy\")\n",
        "      plt.savefig('Training_Validation_Accuracy.png',bbox_inches='tight')\n",
        "      plt.show()\n",
        "\n",
        "\n",
        "    #source: https://mccormickml.com/2019/07/22/BERT-fine-tuning/\n",
        "    def format_time(self, elapsed):\n",
        "      '''\n",
        "      Takes a time in seconds and returns a string hh:mm:ss\n",
        "      '''\n",
        "      # Round to the nearest second.\n",
        "      elapsed_rounded = int(round((elapsed)))\n",
        "      return str(datetime.timedelta(seconds=elapsed_rounded))\n",
        "\n",
        "\n",
        "    def SetTrainDataloader_MM(self, Data_train_tensor_text, Data_train_tensor_image, Labels_train_tensor) :\n",
        "\n",
        "      train_dataset = TensorDataset(Data_train_tensor_text, Data_train_tensor_image, Labels_train_tensor)\n",
        "      train_sampler = RandomSampler(train_dataset)\n",
        "      train_dataloader = DataLoader(train_dataset, sampler=train_sampler, batch_size = self.batch_size)\n",
        "      return(train_dataloader)\n",
        "\n",
        "\n",
        "    def SetTestDataloader_MM(self, Data_test_tensor_text, Data_test_tensor_image, Labels_test_tensor) :\n",
        "      \n",
        "      test_dataset = TensorDataset(Data_test_tensor_text, Data_test_tensor_image, Labels_test_tensor)\n",
        "      test_sampler = SequentialSampler(test_dataset)\n",
        "      #test_dataloader = DataLoader(test_dataset, sampler=test_sampler, batch_size = self.batch_size)\n",
        "      test_dataloader = DataLoader(test_dataset, sampler=test_sampler, batch_size = Data_test_tensor_text.shape[0])\n",
        "      return(test_dataloader)\n",
        "\n",
        "    \n",
        "    def SetValDataloader_MM(self, Data_val_tensor_text, Data_val_tensor_image, Labels_val_tensor) :\n",
        "      \n",
        "      val_dataset = TensorDataset(Data_val_tensor_text, Data_val_tensor_image, Labels_val_tensor)\n",
        "      val_sampler = SequentialSampler(val_dataset)\n",
        "      #test_dataloader = DataLoader(test_dataset, sampler=test_sampler, batch_size = self.batch_size)\n",
        "      val_dataloader = DataLoader(val_dataset, sampler=val_sampler, batch_size = Data_val_tensor_text.shape[0])\n",
        "      return(val_dataloader)\n",
        "\n",
        "   \n",
        "    def Train(self) :\n",
        "      \n",
        "      # clear param store\n",
        "      pyro.clear_param_store()\n",
        "      \n",
        "      for _ in trange(self.epochs, desc=\"Epoch\"):\n",
        "        \n",
        "        self.gmu.train()\n",
        "        self.mlp.train()\n",
        "        epoch_loss = 0\n",
        "        epoch_gmu_loss = 0\n",
        "\n",
        "        # Measure how long the training epoch takes.\n",
        "        t0 = time.time()\n",
        "    \n",
        "        for step_num, batch_data in enumerate(self.train_dataloader):\n",
        "\n",
        "          # Progress update every 30 batches.\n",
        "          if step_num % 30 == 0 and not step_num == 0:\n",
        "            elapsed = self.format_time(time.time() - t0)\n",
        "            print('  Batch : ',step_num, ' , Time elapsed : ',elapsed)\n",
        "\n",
        "          samples_text, samples_image, labels = tuple(t.to(self.device) for t in batch_data)\n",
        "          self.optimizer.zero_grad()\n",
        "\n",
        "          ##### Pyro - GMU #####\n",
        "          gmu_loss = self.inference.step(samples_text.float(), samples_image.float(), labels.t())\n",
        "          attendout = self.gmu(samples_text, samples_image)\n",
        "          epoch_gmu_loss += gmu_loss\n",
        "\n",
        "          ##### MLP ####\n",
        "          logits = self.mlp(attendout)\n",
        "          loss_fct = BCEWithLogitsLoss()\n",
        "          batch_loss = loss_fct(logits.view(-1, self.num_labels).float(), labels.view(-1, self.num_labels).float())\n",
        "          batch_loss.backward()\n",
        "          clip_grad_norm_(self.mlp.parameters(), norm_type = 2, max_norm = self.max_norm)\n",
        "          self.optimizer.step()\n",
        "          self.scheduler.step()\n",
        "          epoch_loss += batch_loss.item()\n",
        "\n",
        "        avg_epoch_loss = epoch_loss/len(self.train_dataloader)\n",
        "        avg_epoch_gmu_loss = epoch_gmu_loss/len(self.train_dataloader)\n",
        "        print(\"\\nTrain loss for epoch: \",avg_epoch_loss)\n",
        "        print(\"\\nTrain loss for epoch (gmu): \",avg_epoch_gmu_loss)\n",
        "        print(\"\\nTraining epoch took: {:}\".format(self.format_time(time.time() - t0)))\n",
        "        self.epoch_loss_set.append(avg_epoch_loss)\n",
        "        self.epoch_gmu_loss_set.append(avg_epoch_gmu_loss)\n",
        "\n",
        "        '''\n",
        "        #Validation on the epoch\n",
        "        self.mlp.eval()\n",
        "        epoch_f1_score = 0\n",
        "\n",
        "        for batch_data in self.val_dataloader:\n",
        "          samples_text, samples_image, labels = tuple(t.to(self.device) for t in batch_data)\n",
        "          with torch.no_grad():\n",
        "            output = self.mlp(samples_image.float(), samples_text.float())\n",
        "\n",
        "          threshold = torch.Tensor([self.sigmoid_thresh]).to(self.device)\n",
        "          predictions = (output > threshold).int()\n",
        "\n",
        "          predictions = predictions.detach().cpu().numpy()\n",
        "          labels = labels.to('cpu').numpy()\n",
        "      \n",
        "          micro_f_score = metrics.f1_score(labels,predictions,average=\"micro\")\n",
        "          epoch_f1_score += micro_f_score\n",
        "\n",
        "        avg_val_f1_score = epoch_f1_score/len(self.val_dataloader)\n",
        "        print(\"\\n Micro F1 score for epoch: \",avg_val_f1_score,\"\\n\")\n",
        "        self.val_accuracy_set.append(avg_val_f1_score)\n",
        "        '''\n",
        "\n",
        "      #torch.save(self.mlp.state_dict(), \"/content/drive/My Drive/dataset/model.pt\")\n",
        "      self.Plot_Training_Epoch_Loss()\n",
        "      self.Plot_Training_Epoch_SVI_Loss()\n",
        "      #self.Plot_Training_Epoch_Accuracy()\n",
        "   \n",
        "\n",
        "    def Test(self) :\n",
        "\n",
        "      # Put model in evaluation mode to evaluate loss on the test set\n",
        "      self.mlp.eval()\n",
        "      self.gmu.eval()\n",
        "\n",
        "      for batch_data in self.test_dataloader:\n",
        "  \n",
        "        samples_text, samples_image, labels = tuple(t.to(self.device) for t in batch_data)\n",
        "      \n",
        "        # Telling the model not to compute or store gradients, saving memory and speeding up validation\n",
        "        # Forward pass, calculate logit predictions\n",
        "        with torch.no_grad():\n",
        "            attendout = self.gmu(samples_text.float(), samples_image.float())\n",
        "            output = self.mlp(attendout)\n",
        "\n",
        "        threshold = torch.Tensor([self.sigmoid_thresh]).to(self.device)\n",
        "        predictions = (output > threshold).int()\n",
        "\n",
        "        # Move preds and labels to CPU\n",
        "        predictions = predictions.detach().cpu().numpy()\n",
        "        labels = labels.to('cpu').numpy()\n",
        "\n",
        "        self.predictions = predictions\n",
        "        self.Get_Metrics(labels, predictions)\n",
        "        self.class_wise_metrics = metrics.classification_report(labels, predictions, target_names= list(self.label_names))\n",
        "        \n",
        "    \n",
        "      self.results = self.results/len(self.test_dataloader)\n",
        "      #print(\"Test data metrics : \\n\")\n",
        "\n",
        "      #print(\"\\nGenres with no predicted samples : \", self.label_names[np.where(np.sum(predictions, axis=0) == 0)[0]])\n",
        "      \n",
        "      return(self.results)"
      ],
      "execution_count": 0,
      "outputs": []
    },
    {
      "cell_type": "code",
      "metadata": {
        "id": "4e1J4EORP1hv",
        "colab_type": "code",
        "outputId": "b5e7ff28-a731-48fb-e5d7-2da1fbb91473",
        "colab": {
          "base_uri": "https://localhost:8080/",
          "height": 1000
        }
      },
      "source": [
        "import random\n",
        "import numpy as np\n",
        "\n",
        "'''\n",
        "hidden_layer_size = random.choice([128,256,512,1024])\n",
        "batch_size = random.choice([128,256,512])\n",
        "learning_rate = np.random.uniform(0.01, 0.0001)\n",
        "dropout = np.random.uniform(0.5, 0.8)\n",
        "sigmoid_thresh = np.random.uniform(0.3, 0.6)\n",
        "weight_decay = np.random.uniform(0.1, 0.01)\n",
        "num_maxout_units = np.random.randint(2,10)\n",
        "max_norm = np.random.randint(5,20)\n",
        "'''\n",
        "epochs = 60\n",
        "hidden_layer_size = 512\n",
        "batch_size = 256\n",
        "learning_rate = 0.001\n",
        "dropout = 0.7\n",
        "sigmoid_thresh = 0.5\n",
        "weight_decay = 0.01\n",
        "num_maxout_units = 10\n",
        "max_norm = 10\n",
        "\n",
        "hyperparameters = {'hidden_layer_size' : hidden_layer_size, 'epochs' : epochs, 'batch_size' : batch_size, 'learning_rate' : learning_rate, 'dropout' : dropout, 'scheduler_step_size' : 99999, \n",
        "                    'scheduler_lr_fraction' : 0.85, 'sigmoid_thresh' : sigmoid_thresh, 'num_maxout_units' : num_maxout_units, 'weight_decay' : weight_decay, 'max_norm' : max_norm}\n",
        "for key, value in hyperparameters.items():\n",
        "  print(key,\" : \",value)\n",
        "\n",
        "\n",
        "train_test = Training_Testing_MM( Data_train_tensor_text, Data_train_tensor_image, Labels_train_tensor, \n",
        "                                  Data_test_tensor_text, Data_test_tensor_image, Labels_test_tensor, \n",
        "                                  Data_val_tensor_text, Data_val_tensor_image, Labels_val_tensor, Label_names=Label_names, \n",
        "                                  hidden_layer_size = hidden_layer_size, epochs = epochs, batch_size= batch_size, learning_rate = learning_rate, dropout = dropout, scheduler_step_size = 99999, \n",
        "                                  scheduler_lr_fraction = 0.85, sigmoid_thresh = sigmoid_thresh, num_maxout_units = num_maxout_units, weight_decay = weight_decay, max_norm = max_norm)\n",
        "train_test.Train()\n",
        "train_test.Test()\n",
        "\n"
      ],
      "execution_count": 0,
      "outputs": [
        {
          "output_type": "stream",
          "text": [
            "\rEpoch:   0%|          | 0/60 [00:00<?, ?it/s]"
          ],
          "name": "stderr"
        },
        {
          "output_type": "stream",
          "text": [
            "hidden_layer_size  :  512\n",
            "epochs  :  60\n",
            "batch_size  :  256\n",
            "learning_rate  :  0.001\n",
            "dropout  :  0.7\n",
            "scheduler_step_size  :  99999\n",
            "scheduler_lr_fraction  :  0.85\n",
            "sigmoid_thresh  :  0.5\n",
            "num_maxout_units  :  10\n",
            "weight_decay  :  0.01\n",
            "max_norm  :  10\n"
          ],
          "name": "stdout"
        },
        {
          "output_type": "stream",
          "text": [
            "/usr/local/lib/python3.6/dist-packages/pyro/primitives.py:406: FutureWarning: The `random_module` primitive is deprecated, and will be removed in a future release. Use `pyro.nn.Module` to create Bayesian modules from `torch.nn.Module` instances.\n",
            "  \"modules from `torch.nn.Module` instances.\", FutureWarning)\n"
          ],
          "name": "stderr"
        },
        {
          "output_type": "stream",
          "text": [
            "  Batch :  30  , Time elapsed :  0:00:02\n",
            "  Batch :  60  , Time elapsed :  0:00:04\n"
          ],
          "name": "stdout"
        },
        {
          "output_type": "stream",
          "text": [
            "\rEpoch:   2%|▏         | 1/60 [00:04<04:33,  4.64s/it]"
          ],
          "name": "stderr"
        },
        {
          "output_type": "stream",
          "text": [
            "\n",
            "Train loss for epoch:  0.5878738234750926\n",
            "\n",
            "Train loss for epoch (gmu):  2616366.8203125\n",
            "\n",
            "Training epoch took: 0:00:05\n",
            "  Batch :  30  , Time elapsed :  0:00:02\n",
            "  Batch :  60  , Time elapsed :  0:00:03\n"
          ],
          "name": "stdout"
        },
        {
          "output_type": "stream",
          "text": [
            "\rEpoch:   3%|▎         | 2/60 [00:08<04:11,  4.33s/it]"
          ],
          "name": "stderr"
        },
        {
          "output_type": "stream",
          "text": [
            "\n",
            "Train loss for epoch:  0.27483089431189\n",
            "\n",
            "Train loss for epoch (gmu):  2438935.7734375\n",
            "\n",
            "Training epoch took: 0:00:04\n",
            "  Batch :  30  , Time elapsed :  0:00:02\n",
            "  Batch :  60  , Time elapsed :  0:00:03\n"
          ],
          "name": "stdout"
        },
        {
          "output_type": "stream",
          "text": [
            "\rEpoch:   5%|▌         | 3/60 [00:11<03:56,  4.15s/it]"
          ],
          "name": "stderr"
        },
        {
          "output_type": "stream",
          "text": [
            "\n",
            "Train loss for epoch:  0.22745689866133034\n",
            "\n",
            "Train loss for epoch (gmu):  2280192.2578125\n",
            "\n",
            "Training epoch took: 0:00:04\n",
            "  Batch :  30  , Time elapsed :  0:00:02\n",
            "  Batch :  60  , Time elapsed :  0:00:03\n"
          ],
          "name": "stdout"
        },
        {
          "output_type": "stream",
          "text": [
            "\rEpoch:   7%|▋         | 4/60 [00:15<03:43,  3.99s/it]"
          ],
          "name": "stderr"
        },
        {
          "output_type": "stream",
          "text": [
            "\n",
            "Train loss for epoch:  0.21263911039568484\n",
            "\n",
            "Train loss for epoch (gmu):  2131520.6953125\n",
            "\n",
            "Training epoch took: 0:00:04\n",
            "  Batch :  30  , Time elapsed :  0:00:02\n",
            "  Batch :  60  , Time elapsed :  0:00:03\n"
          ],
          "name": "stdout"
        },
        {
          "output_type": "stream",
          "text": [
            "\rEpoch:   8%|▊         | 5/60 [00:19<03:34,  3.90s/it]"
          ],
          "name": "stderr"
        },
        {
          "output_type": "stream",
          "text": [
            "\n",
            "Train loss for epoch:  0.2008344226051122\n",
            "\n",
            "Train loss for epoch (gmu):  1991417.734375\n",
            "\n",
            "Training epoch took: 0:00:04\n",
            "  Batch :  30  , Time elapsed :  0:00:02\n",
            "  Batch :  60  , Time elapsed :  0:00:03\n"
          ],
          "name": "stdout"
        },
        {
          "output_type": "stream",
          "text": [
            "\rEpoch:  10%|█         | 6/60 [00:22<03:25,  3.81s/it]"
          ],
          "name": "stderr"
        },
        {
          "output_type": "stream",
          "text": [
            "\n",
            "Train loss for epoch:  0.1912766289897263\n",
            "\n",
            "Train loss for epoch (gmu):  1859175.125\n",
            "\n",
            "Training epoch took: 0:00:04\n",
            "  Batch :  30  , Time elapsed :  0:00:02\n",
            "  Batch :  60  , Time elapsed :  0:00:03\n"
          ],
          "name": "stdout"
        },
        {
          "output_type": "stream",
          "text": [
            "\rEpoch:  12%|█▏        | 7/60 [00:26<03:20,  3.79s/it]"
          ],
          "name": "stderr"
        },
        {
          "output_type": "stream",
          "text": [
            "\n",
            "Train loss for epoch:  0.18172120372764766\n",
            "\n",
            "Train loss for epoch (gmu):  1733274.7890625\n",
            "\n",
            "Training epoch took: 0:00:04\n",
            "  Batch :  30  , Time elapsed :  0:00:02\n",
            "  Batch :  60  , Time elapsed :  0:00:03\n"
          ],
          "name": "stdout"
        },
        {
          "output_type": "stream",
          "text": [
            "\rEpoch:  13%|█▎        | 8/60 [00:30<03:14,  3.74s/it]"
          ],
          "name": "stderr"
        },
        {
          "output_type": "stream",
          "text": [
            "\n",
            "Train loss for epoch:  0.17367501044645905\n",
            "\n",
            "Train loss for epoch (gmu):  1614315.9921875\n",
            "\n",
            "Training epoch took: 0:00:04\n",
            "  Batch :  30  , Time elapsed :  0:00:02\n",
            "  Batch :  60  , Time elapsed :  0:00:03\n"
          ],
          "name": "stdout"
        },
        {
          "output_type": "stream",
          "text": [
            "\rEpoch:  15%|█▌        | 9/60 [00:33<03:09,  3.71s/it]"
          ],
          "name": "stderr"
        },
        {
          "output_type": "stream",
          "text": [
            "\n",
            "Train loss for epoch:  0.16614615824073553\n",
            "\n",
            "Train loss for epoch (gmu):  1501433.0546875\n",
            "\n",
            "Training epoch took: 0:00:04\n",
            "  Batch :  30  , Time elapsed :  0:00:02\n",
            "  Batch :  60  , Time elapsed :  0:00:03\n"
          ],
          "name": "stdout"
        },
        {
          "output_type": "stream",
          "text": [
            "\rEpoch:  17%|█▋        | 10/60 [00:37<03:04,  3.69s/it]"
          ],
          "name": "stderr"
        },
        {
          "output_type": "stream",
          "text": [
            "\n",
            "Train loss for epoch:  0.15774651081301272\n",
            "\n",
            "Train loss for epoch (gmu):  1395136.984375\n",
            "\n",
            "Training epoch took: 0:00:04\n",
            "  Batch :  30  , Time elapsed :  0:00:03\n",
            "  Batch :  60  , Time elapsed :  0:00:04\n"
          ],
          "name": "stdout"
        },
        {
          "output_type": "stream",
          "text": [
            "\rEpoch:  18%|█▊        | 11/60 [00:42<03:13,  3.96s/it]"
          ],
          "name": "stderr"
        },
        {
          "output_type": "stream",
          "text": [
            "\n",
            "Train loss for epoch:  0.15155605785548687\n",
            "\n",
            "Train loss for epoch (gmu):  1295233.75\n",
            "\n",
            "Training epoch took: 0:00:05\n",
            "  Batch :  30  , Time elapsed :  0:00:02\n",
            "  Batch :  60  , Time elapsed :  0:00:03\n"
          ],
          "name": "stdout"
        },
        {
          "output_type": "stream",
          "text": [
            "\rEpoch:  20%|██        | 12/60 [00:45<03:04,  3.85s/it]"
          ],
          "name": "stderr"
        },
        {
          "output_type": "stream",
          "text": [
            "\n",
            "Train loss for epoch:  0.14535991451703012\n",
            "\n",
            "Train loss for epoch (gmu):  1200315.5\n",
            "\n",
            "Training epoch took: 0:00:04\n",
            "  Batch :  30  , Time elapsed :  0:00:02\n",
            "  Batch :  60  , Time elapsed :  0:00:04\n"
          ],
          "name": "stdout"
        },
        {
          "output_type": "stream",
          "text": [
            "\rEpoch:  22%|██▏       | 13/60 [00:49<02:59,  3.81s/it]"
          ],
          "name": "stderr"
        },
        {
          "output_type": "stream",
          "text": [
            "\n",
            "Train loss for epoch:  0.14018339128233492\n",
            "\n",
            "Train loss for epoch (gmu):  1111542.8671875\n",
            "\n",
            "Training epoch took: 0:00:04\n",
            "  Batch :  30  , Time elapsed :  0:00:02\n",
            "  Batch :  60  , Time elapsed :  0:00:03\n"
          ],
          "name": "stdout"
        },
        {
          "output_type": "stream",
          "text": [
            "\rEpoch:  23%|██▎       | 14/60 [00:53<02:52,  3.76s/it]"
          ],
          "name": "stderr"
        },
        {
          "output_type": "stream",
          "text": [
            "\n",
            "Train loss for epoch:  0.1345954806311056\n",
            "\n",
            "Train loss for epoch (gmu):  1027654.9921875\n",
            "\n",
            "Training epoch took: 0:00:04\n",
            "  Batch :  30  , Time elapsed :  0:00:02\n",
            "  Batch :  60  , Time elapsed :  0:00:03\n"
          ],
          "name": "stdout"
        },
        {
          "output_type": "stream",
          "text": [
            "\rEpoch:  25%|██▌       | 15/60 [00:56<02:47,  3.71s/it]"
          ],
          "name": "stderr"
        },
        {
          "output_type": "stream",
          "text": [
            "\n",
            "Train loss for epoch:  0.13028275896795094\n",
            "\n",
            "Train loss for epoch (gmu):  948874.3515625\n",
            "\n",
            "Training epoch took: 0:00:04\n",
            "  Batch :  30  , Time elapsed :  0:00:02\n",
            "  Batch :  60  , Time elapsed :  0:00:03\n"
          ],
          "name": "stdout"
        },
        {
          "output_type": "stream",
          "text": [
            "\rEpoch:  27%|██▋       | 16/60 [01:00<02:42,  3.69s/it]"
          ],
          "name": "stderr"
        },
        {
          "output_type": "stream",
          "text": [
            "\n",
            "Train loss for epoch:  0.12517295614816248\n",
            "\n",
            "Train loss for epoch (gmu):  875184.75\n",
            "\n",
            "Training epoch took: 0:00:04\n",
            "  Batch :  30  , Time elapsed :  0:00:02\n",
            "  Batch :  60  , Time elapsed :  0:00:03\n"
          ],
          "name": "stdout"
        },
        {
          "output_type": "stream",
          "text": [
            "\rEpoch:  28%|██▊       | 17/60 [01:03<02:37,  3.67s/it]"
          ],
          "name": "stderr"
        },
        {
          "output_type": "stream",
          "text": [
            "\n",
            "Train loss for epoch:  0.12030431779567152\n",
            "\n",
            "Train loss for epoch (gmu):  806047.7109375\n",
            "\n",
            "Training epoch took: 0:00:04\n",
            "  Batch :  30  , Time elapsed :  0:00:02\n",
            "  Batch :  60  , Time elapsed :  0:00:03\n"
          ],
          "name": "stdout"
        },
        {
          "output_type": "stream",
          "text": [
            "\rEpoch:  30%|███       | 18/60 [01:07<02:33,  3.65s/it]"
          ],
          "name": "stderr"
        },
        {
          "output_type": "stream",
          "text": [
            "\n",
            "Train loss for epoch:  0.11643225082661957\n",
            "\n",
            "Train loss for epoch (gmu):  741619.7890625\n",
            "\n",
            "Training epoch took: 0:00:04\n",
            "  Batch :  30  , Time elapsed :  0:00:02\n",
            "  Batch :  60  , Time elapsed :  0:00:04\n"
          ],
          "name": "stdout"
        },
        {
          "output_type": "stream",
          "text": [
            "\rEpoch:  32%|███▏      | 19/60 [01:12<02:41,  3.95s/it]"
          ],
          "name": "stderr"
        },
        {
          "output_type": "stream",
          "text": [
            "\n",
            "Train loss for epoch:  0.11172631522640586\n",
            "\n",
            "Train loss for epoch (gmu):  681700.9609375\n",
            "\n",
            "Training epoch took: 0:00:05\n",
            "  Batch :  30  , Time elapsed :  0:00:02\n",
            "  Batch :  60  , Time elapsed :  0:00:03\n"
          ],
          "name": "stdout"
        },
        {
          "output_type": "stream",
          "text": [
            "\rEpoch:  33%|███▎      | 20/60 [01:15<02:33,  3.85s/it]"
          ],
          "name": "stderr"
        },
        {
          "output_type": "stream",
          "text": [
            "\n",
            "Train loss for epoch:  0.10813098715152591\n",
            "\n",
            "Train loss for epoch (gmu):  626018.2734375\n",
            "\n",
            "Training epoch took: 0:00:04\n",
            "  Batch :  30  , Time elapsed :  0:00:02\n",
            "  Batch :  60  , Time elapsed :  0:00:03\n"
          ],
          "name": "stdout"
        },
        {
          "output_type": "stream",
          "text": [
            "\rEpoch:  35%|███▌      | 21/60 [01:19<02:28,  3.81s/it]"
          ],
          "name": "stderr"
        },
        {
          "output_type": "stream",
          "text": [
            "\n",
            "Train loss for epoch:  0.10457321151625365\n",
            "\n",
            "Train loss for epoch (gmu):  574451.75\n",
            "\n",
            "Training epoch took: 0:00:04\n",
            "  Batch :  30  , Time elapsed :  0:00:02\n",
            "  Batch :  60  , Time elapsed :  0:00:03\n"
          ],
          "name": "stdout"
        },
        {
          "output_type": "stream",
          "text": [
            "\rEpoch:  37%|███▋      | 22/60 [01:23<02:22,  3.74s/it]"
          ],
          "name": "stderr"
        },
        {
          "output_type": "stream",
          "text": [
            "\n",
            "Train loss for epoch:  0.1019032426411286\n",
            "\n",
            "Train loss for epoch (gmu):  526352.0390625\n",
            "\n",
            "Training epoch took: 0:00:04\n",
            "  Batch :  30  , Time elapsed :  0:00:02\n",
            "  Batch :  60  , Time elapsed :  0:00:03\n"
          ],
          "name": "stdout"
        },
        {
          "output_type": "stream",
          "text": [
            "\rEpoch:  38%|███▊      | 23/60 [01:26<02:17,  3.72s/it]"
          ],
          "name": "stderr"
        },
        {
          "output_type": "stream",
          "text": [
            "\n",
            "Train loss for epoch:  0.09921185579150915\n",
            "\n",
            "Train loss for epoch (gmu):  482442.40625\n",
            "\n",
            "Training epoch took: 0:00:04\n",
            "  Batch :  30  , Time elapsed :  0:00:02\n",
            "  Batch :  60  , Time elapsed :  0:00:03\n"
          ],
          "name": "stdout"
        },
        {
          "output_type": "stream",
          "text": [
            "\rEpoch:  40%|████      | 24/60 [01:30<02:12,  3.69s/it]"
          ],
          "name": "stderr"
        },
        {
          "output_type": "stream",
          "text": [
            "\n",
            "Train loss for epoch:  0.09582353022415191\n",
            "\n",
            "Train loss for epoch (gmu):  441764.703125\n",
            "\n",
            "Training epoch took: 0:00:04\n",
            "  Batch :  30  , Time elapsed :  0:00:02\n",
            "  Batch :  60  , Time elapsed :  0:00:03\n"
          ],
          "name": "stdout"
        },
        {
          "output_type": "stream",
          "text": [
            "\rEpoch:  42%|████▏     | 25/60 [01:34<02:08,  3.67s/it]"
          ],
          "name": "stderr"
        },
        {
          "output_type": "stream",
          "text": [
            "\n",
            "Train loss for epoch:  0.0932403578190133\n",
            "\n",
            "Train loss for epoch (gmu):  404394.359375\n",
            "\n",
            "Training epoch took: 0:00:04\n",
            "  Batch :  30  , Time elapsed :  0:00:02\n",
            "  Batch :  60  , Time elapsed :  0:00:03\n"
          ],
          "name": "stdout"
        },
        {
          "output_type": "stream",
          "text": [
            "\rEpoch:  43%|████▎     | 26/60 [01:37<02:04,  3.65s/it]"
          ],
          "name": "stderr"
        },
        {
          "output_type": "stream",
          "text": [
            "\n",
            "Train loss for epoch:  0.08944303321186453\n",
            "\n",
            "Train loss for epoch (gmu):  370176.9921875\n",
            "\n",
            "Training epoch took: 0:00:04\n",
            "  Batch :  30  , Time elapsed :  0:00:02\n",
            "  Batch :  60  , Time elapsed :  0:00:03\n"
          ],
          "name": "stdout"
        },
        {
          "output_type": "stream",
          "text": [
            "\rEpoch:  45%|████▌     | 27/60 [01:41<02:00,  3.65s/it]"
          ],
          "name": "stderr"
        },
        {
          "output_type": "stream",
          "text": [
            "\n",
            "Train loss for epoch:  0.08751403191126883\n",
            "\n",
            "Train loss for epoch (gmu):  339170.796875\n",
            "\n",
            "Training epoch took: 0:00:04\n",
            "  Batch :  30  , Time elapsed :  0:00:02\n",
            "  Batch :  60  , Time elapsed :  0:00:04\n"
          ],
          "name": "stdout"
        },
        {
          "output_type": "stream",
          "text": [
            "\rEpoch:  47%|████▋     | 28/60 [01:45<02:05,  3.91s/it]"
          ],
          "name": "stderr"
        },
        {
          "output_type": "stream",
          "text": [
            "\n",
            "Train loss for epoch:  0.08518418855965137\n",
            "\n",
            "Train loss for epoch (gmu):  310138.5078125\n",
            "\n",
            "Training epoch took: 0:00:05\n",
            "  Batch :  30  , Time elapsed :  0:00:02\n",
            "  Batch :  60  , Time elapsed :  0:00:03\n"
          ],
          "name": "stdout"
        },
        {
          "output_type": "stream",
          "text": [
            "\rEpoch:  48%|████▊     | 29/60 [01:49<01:59,  3.85s/it]"
          ],
          "name": "stderr"
        },
        {
          "output_type": "stream",
          "text": [
            "\n",
            "Train loss for epoch:  0.08426692662760615\n",
            "\n",
            "Train loss for epoch (gmu):  284117.6796875\n",
            "\n",
            "Training epoch took: 0:00:04\n",
            "  Batch :  30  , Time elapsed :  0:00:02\n",
            "  Batch :  60  , Time elapsed :  0:00:03\n"
          ],
          "name": "stdout"
        },
        {
          "output_type": "stream",
          "text": [
            "\rEpoch:  50%|█████     | 30/60 [01:53<01:53,  3.78s/it]"
          ],
          "name": "stderr"
        },
        {
          "output_type": "stream",
          "text": [
            "\n",
            "Train loss for epoch:  0.08221580612007529\n",
            "\n",
            "Train loss for epoch (gmu):  260249.84375\n",
            "\n",
            "Training epoch took: 0:00:04\n",
            "  Batch :  30  , Time elapsed :  0:00:02\n",
            "  Batch :  60  , Time elapsed :  0:00:03\n"
          ],
          "name": "stdout"
        },
        {
          "output_type": "stream",
          "text": [
            "\rEpoch:  52%|█████▏    | 31/60 [01:56<01:47,  3.72s/it]"
          ],
          "name": "stderr"
        },
        {
          "output_type": "stream",
          "text": [
            "\n",
            "Train loss for epoch:  0.07897871325258166\n",
            "\n",
            "Train loss for epoch (gmu):  238314.1875\n",
            "\n",
            "Training epoch took: 0:00:04\n",
            "  Batch :  30  , Time elapsed :  0:00:02\n",
            "  Batch :  60  , Time elapsed :  0:00:03\n"
          ],
          "name": "stdout"
        },
        {
          "output_type": "stream",
          "text": [
            "\rEpoch:  53%|█████▎    | 32/60 [02:00<01:43,  3.70s/it]"
          ],
          "name": "stderr"
        },
        {
          "output_type": "stream",
          "text": [
            "\n",
            "Train loss for epoch:  0.07775818917434663\n",
            "\n",
            "Train loss for epoch (gmu):  218699.1015625\n",
            "\n",
            "Training epoch took: 0:00:04\n",
            "  Batch :  30  , Time elapsed :  0:00:02\n",
            "  Batch :  60  , Time elapsed :  0:00:03\n"
          ],
          "name": "stdout"
        },
        {
          "output_type": "stream",
          "text": [
            "\rEpoch:  55%|█████▌    | 33/60 [02:03<01:39,  3.68s/it]"
          ],
          "name": "stderr"
        },
        {
          "output_type": "stream",
          "text": [
            "\n",
            "Train loss for epoch:  0.07629464066121727\n",
            "\n",
            "Train loss for epoch (gmu):  200672.28125\n",
            "\n",
            "Training epoch took: 0:00:04\n",
            "  Batch :  30  , Time elapsed :  0:00:02\n",
            "  Batch :  60  , Time elapsed :  0:00:03\n"
          ],
          "name": "stdout"
        },
        {
          "output_type": "stream",
          "text": [
            "\rEpoch:  57%|█████▋    | 34/60 [02:07<01:35,  3.66s/it]"
          ],
          "name": "stderr"
        },
        {
          "output_type": "stream",
          "text": [
            "\n",
            "Train loss for epoch:  0.07288233953295276\n",
            "\n",
            "Train loss for epoch (gmu):  184223.453125\n",
            "\n",
            "Training epoch took: 0:00:04\n",
            "  Batch :  30  , Time elapsed :  0:00:02\n",
            "  Batch :  60  , Time elapsed :  0:00:03\n"
          ],
          "name": "stdout"
        },
        {
          "output_type": "stream",
          "text": [
            "\rEpoch:  58%|█████▊    | 35/60 [02:11<01:31,  3.68s/it]"
          ],
          "name": "stderr"
        },
        {
          "output_type": "stream",
          "text": [
            "\n",
            "Train loss for epoch:  0.07197560404893011\n",
            "\n",
            "Train loss for epoch (gmu):  169414.96875\n",
            "\n",
            "Training epoch took: 0:00:04\n",
            "  Batch :  30  , Time elapsed :  0:00:02\n",
            "  Batch :  60  , Time elapsed :  0:00:03\n"
          ],
          "name": "stdout"
        },
        {
          "output_type": "stream",
          "text": [
            "\rEpoch:  60%|██████    | 36/60 [02:14<01:27,  3.66s/it]"
          ],
          "name": "stderr"
        },
        {
          "output_type": "stream",
          "text": [
            "\n",
            "Train loss for epoch:  0.07148370501818135\n",
            "\n",
            "Train loss for epoch (gmu):  155855.5390625\n",
            "\n",
            "Training epoch took: 0:00:04\n",
            "  Batch :  30  , Time elapsed :  0:00:02\n",
            "  Batch :  60  , Time elapsed :  0:00:04\n"
          ],
          "name": "stdout"
        },
        {
          "output_type": "stream",
          "text": [
            "\rEpoch:  62%|██████▏   | 37/60 [02:19<01:31,  3.96s/it]"
          ],
          "name": "stderr"
        },
        {
          "output_type": "stream",
          "text": [
            "\n",
            "Train loss for epoch:  0.06939387763850391\n",
            "\n",
            "Train loss for epoch (gmu):  143783.7890625\n",
            "\n",
            "Training epoch took: 0:00:05\n",
            "  Batch :  30  , Time elapsed :  0:00:02\n",
            "  Batch :  60  , Time elapsed :  0:00:03\n"
          ],
          "name": "stdout"
        },
        {
          "output_type": "stream",
          "text": [
            "\rEpoch:  63%|██████▎   | 38/60 [02:23<01:24,  3.86s/it]"
          ],
          "name": "stderr"
        },
        {
          "output_type": "stream",
          "text": [
            "\n",
            "Train loss for epoch:  0.06772697065025568\n",
            "\n",
            "Train loss for epoch (gmu):  132719.0\n",
            "\n",
            "Training epoch took: 0:00:04\n",
            "  Batch :  30  , Time elapsed :  0:00:02\n",
            "  Batch :  60  , Time elapsed :  0:00:03\n"
          ],
          "name": "stdout"
        },
        {
          "output_type": "stream",
          "text": [
            "\rEpoch:  65%|██████▌   | 39/60 [02:26<01:20,  3.81s/it]"
          ],
          "name": "stderr"
        },
        {
          "output_type": "stream",
          "text": [
            "\n",
            "Train loss for epoch:  0.06587189686251804\n",
            "\n",
            "Train loss for epoch (gmu):  122830.5390625\n",
            "\n",
            "Training epoch took: 0:00:04\n",
            "  Batch :  30  , Time elapsed :  0:00:02\n",
            "  Batch :  60  , Time elapsed :  0:00:03\n"
          ],
          "name": "stdout"
        },
        {
          "output_type": "stream",
          "text": [
            "\rEpoch:  67%|██████▋   | 40/60 [02:30<01:15,  3.75s/it]"
          ],
          "name": "stderr"
        },
        {
          "output_type": "stream",
          "text": [
            "\n",
            "Train loss for epoch:  0.0654483997495845\n",
            "\n",
            "Train loss for epoch (gmu):  113890.03125\n",
            "\n",
            "Training epoch took: 0:00:04\n",
            "  Batch :  30  , Time elapsed :  0:00:02\n",
            "  Batch :  60  , Time elapsed :  0:00:03\n"
          ],
          "name": "stdout"
        },
        {
          "output_type": "stream",
          "text": [
            "\rEpoch:  68%|██████▊   | 41/60 [02:34<01:10,  3.71s/it]"
          ],
          "name": "stderr"
        },
        {
          "output_type": "stream",
          "text": [
            "\n",
            "Train loss for epoch:  0.06515268952352926\n",
            "\n",
            "Train loss for epoch (gmu):  105942.4921875\n",
            "\n",
            "Training epoch took: 0:00:04\n",
            "  Batch :  30  , Time elapsed :  0:00:02\n",
            "  Batch :  60  , Time elapsed :  0:00:03\n"
          ],
          "name": "stdout"
        },
        {
          "output_type": "stream",
          "text": [
            "\rEpoch:  70%|███████   | 42/60 [02:37<01:06,  3.68s/it]"
          ],
          "name": "stderr"
        },
        {
          "output_type": "stream",
          "text": [
            "\n",
            "Train loss for epoch:  0.062491692893672734\n",
            "\n",
            "Train loss for epoch (gmu):  98541.8984375\n",
            "\n",
            "Training epoch took: 0:00:04\n",
            "  Batch :  30  , Time elapsed :  0:00:02\n",
            "  Batch :  60  , Time elapsed :  0:00:03\n"
          ],
          "name": "stdout"
        },
        {
          "output_type": "stream",
          "text": [
            "\rEpoch:  72%|███████▏  | 43/60 [02:41<01:02,  3.66s/it]"
          ],
          "name": "stderr"
        },
        {
          "output_type": "stream",
          "text": [
            "\n",
            "Train loss for epoch:  0.06221908499719575\n",
            "\n",
            "Train loss for epoch (gmu):  92111.875\n",
            "\n",
            "Training epoch took: 0:00:04\n",
            "  Batch :  30  , Time elapsed :  0:00:02\n",
            "  Batch :  60  , Time elapsed :  0:00:03\n"
          ],
          "name": "stdout"
        },
        {
          "output_type": "stream",
          "text": [
            "\rEpoch:  73%|███████▎  | 44/60 [02:44<00:58,  3.65s/it]"
          ],
          "name": "stderr"
        },
        {
          "output_type": "stream",
          "text": [
            "\n",
            "Train loss for epoch:  0.061467754654586315\n",
            "\n",
            "Train loss for epoch (gmu):  86206.1328125\n",
            "\n",
            "Training epoch took: 0:00:04\n",
            "  Batch :  30  , Time elapsed :  0:00:02\n",
            "  Batch :  60  , Time elapsed :  0:00:03\n"
          ],
          "name": "stdout"
        },
        {
          "output_type": "stream",
          "text": [
            "\rEpoch:  75%|███████▌  | 45/60 [02:48<00:54,  3.66s/it]"
          ],
          "name": "stderr"
        },
        {
          "output_type": "stream",
          "text": [
            "\n",
            "Train loss for epoch:  0.06010992452502251\n",
            "\n",
            "Train loss for epoch (gmu):  80973.1171875\n",
            "\n",
            "Training epoch took: 0:00:04\n",
            "  Batch :  30  , Time elapsed :  0:00:02\n",
            "  Batch :  60  , Time elapsed :  0:00:04\n"
          ],
          "name": "stdout"
        },
        {
          "output_type": "stream",
          "text": [
            "\rEpoch:  77%|███████▋  | 46/60 [02:53<00:55,  3.93s/it]"
          ],
          "name": "stderr"
        },
        {
          "output_type": "stream",
          "text": [
            "\n",
            "Train loss for epoch:  0.05833128496306017\n",
            "\n",
            "Train loss for epoch (gmu):  76363.953125\n",
            "\n",
            "Training epoch took: 0:00:05\n",
            "  Batch :  30  , Time elapsed :  0:00:02\n",
            "  Batch :  60  , Time elapsed :  0:00:03\n"
          ],
          "name": "stdout"
        },
        {
          "output_type": "stream",
          "text": [
            "\rEpoch:  78%|███████▊  | 47/60 [02:56<00:49,  3.82s/it]"
          ],
          "name": "stderr"
        },
        {
          "output_type": "stream",
          "text": [
            "\n",
            "Train loss for epoch:  0.05817798781208694\n",
            "\n",
            "Train loss for epoch (gmu):  72135.109375\n",
            "\n",
            "Training epoch took: 0:00:04\n",
            "  Batch :  30  , Time elapsed :  0:00:02\n",
            "  Batch :  60  , Time elapsed :  0:00:03\n"
          ],
          "name": "stdout"
        },
        {
          "output_type": "stream",
          "text": [
            "\rEpoch:  80%|████████  | 48/60 [03:00<00:45,  3.76s/it]"
          ],
          "name": "stderr"
        },
        {
          "output_type": "stream",
          "text": [
            "\n",
            "Train loss for epoch:  0.05730478069745004\n",
            "\n",
            "Train loss for epoch (gmu):  68242.34375\n",
            "\n",
            "Training epoch took: 0:00:04\n",
            "  Batch :  30  , Time elapsed :  0:00:02\n",
            "  Batch :  60  , Time elapsed :  0:00:03\n"
          ],
          "name": "stdout"
        },
        {
          "output_type": "stream",
          "text": [
            "\rEpoch:  82%|████████▏ | 49/60 [03:04<00:40,  3.71s/it]"
          ],
          "name": "stderr"
        },
        {
          "output_type": "stream",
          "text": [
            "\n",
            "Train loss for epoch:  0.05649880552664399\n",
            "\n",
            "Train loss for epoch (gmu):  64926.5546875\n",
            "\n",
            "Training epoch took: 0:00:04\n",
            "  Batch :  30  , Time elapsed :  0:00:02\n",
            "  Batch :  60  , Time elapsed :  0:00:03\n"
          ],
          "name": "stdout"
        },
        {
          "output_type": "stream",
          "text": [
            "\rEpoch:  83%|████████▎ | 50/60 [03:07<00:36,  3.68s/it]"
          ],
          "name": "stderr"
        },
        {
          "output_type": "stream",
          "text": [
            "\n",
            "Train loss for epoch:  0.0565614546649158\n",
            "\n",
            "Train loss for epoch (gmu):  61730.109375\n",
            "\n",
            "Training epoch took: 0:00:04\n",
            "  Batch :  30  , Time elapsed :  0:00:02\n",
            "  Batch :  60  , Time elapsed :  0:00:03\n"
          ],
          "name": "stdout"
        },
        {
          "output_type": "stream",
          "text": [
            "\rEpoch:  85%|████████▌ | 51/60 [03:11<00:33,  3.69s/it]"
          ],
          "name": "stderr"
        },
        {
          "output_type": "stream",
          "text": [
            "\n",
            "Train loss for epoch:  0.055503893410786986\n",
            "\n",
            "Train loss for epoch (gmu):  59140.7265625\n",
            "\n",
            "Training epoch took: 0:00:04\n",
            "  Batch :  30  , Time elapsed :  0:00:02\n",
            "  Batch :  60  , Time elapsed :  0:00:03\n"
          ],
          "name": "stdout"
        },
        {
          "output_type": "stream",
          "text": [
            "\rEpoch:  87%|████████▋ | 52/60 [03:14<00:29,  3.66s/it]"
          ],
          "name": "stderr"
        },
        {
          "output_type": "stream",
          "text": [
            "\n",
            "Train loss for epoch:  0.05427249672356993\n",
            "\n",
            "Train loss for epoch (gmu):  56693.734375\n",
            "\n",
            "Training epoch took: 0:00:04\n",
            "  Batch :  30  , Time elapsed :  0:00:02\n",
            "  Batch :  60  , Time elapsed :  0:00:03\n"
          ],
          "name": "stdout"
        },
        {
          "output_type": "stream",
          "text": [
            "\rEpoch:  88%|████████▊ | 53/60 [03:18<00:25,  3.67s/it]"
          ],
          "name": "stderr"
        },
        {
          "output_type": "stream",
          "text": [
            "\n",
            "Train loss for epoch:  0.05270695604849607\n",
            "\n",
            "Train loss for epoch (gmu):  54591.828125\n",
            "\n",
            "Training epoch took: 0:00:04\n",
            "  Batch :  30  , Time elapsed :  0:00:02\n",
            "  Batch :  60  , Time elapsed :  0:00:03\n"
          ],
          "name": "stdout"
        },
        {
          "output_type": "stream",
          "text": [
            "\rEpoch:  90%|█████████ | 54/60 [03:22<00:21,  3.65s/it]"
          ],
          "name": "stderr"
        },
        {
          "output_type": "stream",
          "text": [
            "\n",
            "Train loss for epoch:  0.051758830959443\n",
            "\n",
            "Train loss for epoch (gmu):  52754.25\n",
            "\n",
            "Training epoch took: 0:00:04\n",
            "  Batch :  30  , Time elapsed :  0:00:03\n",
            "  Batch :  60  , Time elapsed :  0:00:04\n"
          ],
          "name": "stdout"
        },
        {
          "output_type": "stream",
          "text": [
            "\rEpoch:  92%|█████████▏| 55/60 [03:26<00:19,  3.95s/it]"
          ],
          "name": "stderr"
        },
        {
          "output_type": "stream",
          "text": [
            "\n",
            "Train loss for epoch:  0.0514422181295231\n",
            "\n",
            "Train loss for epoch (gmu):  50937.671875\n",
            "\n",
            "Training epoch took: 0:00:05\n",
            "  Batch :  30  , Time elapsed :  0:00:02\n",
            "  Batch :  60  , Time elapsed :  0:00:03\n"
          ],
          "name": "stdout"
        },
        {
          "output_type": "stream",
          "text": [
            "\rEpoch:  93%|█████████▎| 56/60 [03:30<00:15,  3.85s/it]"
          ],
          "name": "stderr"
        },
        {
          "output_type": "stream",
          "text": [
            "\n",
            "Train loss for epoch:  0.05239502456970513\n",
            "\n",
            "Train loss for epoch (gmu):  49472.75\n",
            "\n",
            "Training epoch took: 0:00:04\n",
            "  Batch :  30  , Time elapsed :  0:00:02\n",
            "  Batch :  60  , Time elapsed :  0:00:03\n"
          ],
          "name": "stdout"
        },
        {
          "output_type": "stream",
          "text": [
            "\rEpoch:  95%|█████████▌| 57/60 [03:34<00:11,  3.78s/it]"
          ],
          "name": "stderr"
        },
        {
          "output_type": "stream",
          "text": [
            "\n",
            "Train loss for epoch:  0.05032277089776471\n",
            "\n",
            "Train loss for epoch (gmu):  48072.625\n",
            "\n",
            "Training epoch took: 0:00:04\n",
            "  Batch :  30  , Time elapsed :  0:00:02\n",
            "  Batch :  60  , Time elapsed :  0:00:03\n"
          ],
          "name": "stdout"
        },
        {
          "output_type": "stream",
          "text": [
            "\rEpoch:  97%|█████████▋| 58/60 [03:37<00:07,  3.74s/it]"
          ],
          "name": "stderr"
        },
        {
          "output_type": "stream",
          "text": [
            "\n",
            "Train loss for epoch:  0.04971783247310668\n",
            "\n",
            "Train loss for epoch (gmu):  46926.671875\n",
            "\n",
            "Training epoch took: 0:00:04\n",
            "  Batch :  30  , Time elapsed :  0:00:02\n",
            "  Batch :  60  , Time elapsed :  0:00:03\n"
          ],
          "name": "stdout"
        },
        {
          "output_type": "stream",
          "text": [
            "\rEpoch:  98%|█████████▊| 59/60 [03:41<00:03,  3.71s/it]"
          ],
          "name": "stderr"
        },
        {
          "output_type": "stream",
          "text": [
            "\n",
            "Train loss for epoch:  0.04886485374299809\n",
            "\n",
            "Train loss for epoch (gmu):  45644.15625\n",
            "\n",
            "Training epoch took: 0:00:04\n",
            "  Batch :  30  , Time elapsed :  0:00:02\n",
            "  Batch :  60  , Time elapsed :  0:00:03\n"
          ],
          "name": "stdout"
        },
        {
          "output_type": "stream",
          "text": [
            "\rEpoch: 100%|██████████| 60/60 [03:45<00:00,  3.68s/it]"
          ],
          "name": "stderr"
        },
        {
          "output_type": "stream",
          "text": [
            "\n",
            "Train loss for epoch:  0.04846290324348956\n",
            "\n",
            "Train loss for epoch (gmu):  44623.4375\n",
            "\n",
            "Training epoch took: 0:00:04\n"
          ],
          "name": "stdout"
        },
        {
          "output_type": "stream",
          "text": [
            "\n"
          ],
          "name": "stderr"
        },
        {
          "output_type": "display_data",
          "data": {
            "image/png": "[encoded data removed]",
            "text/plain": [
              "<Figure size 864x432 with 1 Axes>"
            ]
          },
          "metadata": {
            "tags": []
          }
        },
        {
          "output_type": "display_data",
          "data": {
            "image/png": "[encoded data removed]",
            "text/plain": [
              "<Figure size 864x432 with 1 Axes>"
            ]
          },
          "metadata": {
            "tags": []
          }
        },
        {
          "output_type": "stream",
          "text": [
            "/usr/local/lib/python3.6/dist-packages/sklearn/metrics/_classification.py:1272: UndefinedMetricWarning: Precision and F-score are ill-defined and being set to 0.0 in samples with no predicted labels. Use `zero_division` parameter to control this behavior.\n",
            "  _warn_prf(average, modifier, msg_start, len(result))\n"
          ],
          "name": "stderr"
        },
        {
          "output_type": "execute_result",
          "data": {
            "text/html": [
              "<div>\n",
              "<style scoped>\n",
              "    .dataframe tbody tr th:only-of-type {\n",
              "        vertical-align: middle;\n",
              "    }\n",
              "\n",
              "    .dataframe tbody tr th {\n",
              "        vertical-align: top;\n",
              "    }\n",
              "\n",
              "    .dataframe thead th {\n",
              "        text-align: right;\n",
              "    }\n",
              "</style>\n",
              "<table border=\"1\" class=\"dataframe\">\n",
              "  <thead>\n",
              "    <tr style=\"text-align: right;\">\n",
              "      <th></th>\n",
              "      <th>micro</th>\n",
              "      <th>macro</th>\n",
              "      <th>weighted</th>\n",
              "      <th>samples</th>\n",
              "    </tr>\n",
              "  </thead>\n",
              "  <tbody>\n",
              "    <tr>\n",
              "      <th>Recall</th>\n",
              "      <td>0.586289</td>\n",
              "      <td>0.447095</td>\n",
              "      <td>0.586289</td>\n",
              "      <td>0.637535</td>\n",
              "    </tr>\n",
              "    <tr>\n",
              "      <th>Precision</th>\n",
              "      <td>0.576954</td>\n",
              "      <td>0.525727</td>\n",
              "      <td>0.565313</td>\n",
              "      <td>0.614437</td>\n",
              "    </tr>\n",
              "    <tr>\n",
              "      <th>F_Score</th>\n",
              "      <td>0.581584</td>\n",
              "      <td>0.471192</td>\n",
              "      <td>0.566385</td>\n",
              "      <td>0.582441</td>\n",
              "    </tr>\n",
              "  </tbody>\n",
              "</table>\n",
              "</div>"
            ],
            "text/plain": [
              "              micro     macro  weighted   samples\n",
              "Recall     0.586289  0.447095  0.586289  0.637535\n",
              "Precision  0.576954  0.525727  0.565313  0.614437\n",
              "F_Score    0.581584  0.471192  0.566385  0.582441"
            ]
          },
          "metadata": {
            "tags": []
          },
          "execution_count": 30
        }
      ]
    },
    {
      "cell_type": "code",
      "metadata": {
        "id": "PKx6TVkeElch",
        "colab_type": "code",
        "colab": {}
      },
      "source": [
        ""
      ],
      "execution_count": 0,
      "outputs": []
    }
  ]
}